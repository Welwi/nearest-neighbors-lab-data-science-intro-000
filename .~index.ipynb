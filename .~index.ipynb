{
 "cells": [
  {
   "cell_type": "markdown",
   "metadata": {},
   "source": [
    "# Nearest Neighbors Lab"
   ]
  },
  {
   "cell_type": "markdown",
   "metadata": {},
   "source": [
    "### Introduction\n",
    "\n",
    "In this lab, you apply nearest neighbors technique to help a taxi company predict the length of their rides.  Imagine that we are hired to consult for LiftOff, a limo and taxi service that is just opening up in NYC.  Liftoff wants it's taxi drivers to target longer rides, as the longer the ride the more money it makes.  LiftOff has the following theory:\n",
    "\n",
    "* the pickup location of a taxi ride can help predict the length of the ride.  \n",
    "\n",
    "\n",
    "\n",
    "LiftOff asks us to do some analysis to write a function that will allow it to **predict the length of a taxi ride for any given location **.\n",
    "\n",
    "Our technique will be the following:\n",
    "  * **Collect** Obtain the data containing all of the taxi information, and only select the attributes of taxi trips that we need \n",
    "  * ** Explore ** Examine the attributes of our data, and plot some of our data on a map\n",
    "  * ** Train ** Write our nearest neighbors formula, and change the number of nearby trips to predict the length of a new trip\n",
    "  * ** Predict ** Use our function to predict trip lengths of new locations"
   ]
  },
  {
   "cell_type": "markdown",
   "metadata": {},
   "source": [
    "### Collect and Explore the data"
   ]
  },
  {
   "cell_type": "markdown",
   "metadata": {},
   "source": [
    "#### Collect the Data"
   ]
  },
  {
   "cell_type": "markdown",
   "metadata": {},
   "source": [
    "Luckily for us, [NYC Open Data](https://opendata.cityofnewyork.us/) collects information about NYC taxi trips and provides this data on [its website](https://data.cityofnewyork.us/Transportation/2014-Yellow-Taxi-Trip-Data/gn7m-em8n)."
   ]
  },
  {
   "cell_type": "markdown",
   "metadata": {},
   "source": [
    "![](./nyc-taxi.png)"
   ]
  },
  {
   "cell_type": "markdown",
   "metadata": {},
   "source": [
    "For your reading pleasure, the data has already been downloaded into the [trips.json](https://github.com/learn-co-curriculum/nearest-neighbors-lab/blob/master/trips.json) file in this lab which you can find here.  We'll use Python's `json` library to take the data from the `trips.json` file and store it as a variable in our notebook."
   ]
  },
  {
   "cell_type": "code",
   "execution_count": 167,
   "metadata": {},
   "outputs": [],
   "source": [
    "import json\n",
    "# First, read the file\n",
    "trips_file = open('trips.json')\n",
    "# Then, convert contents to list of dictionaries \n",
    "trips = json.load(trips_file)"
   ]
  },
  {
   "cell_type": "markdown",
   "metadata": {},
   "source": [
    "> Press shift + enter"
   ]
  },
  {
   "cell_type": "markdown",
   "metadata": {},
   "source": [
    "#### Explore the data"
   ]
  },
  {
   "cell_type": "markdown",
   "metadata": {},
   "source": [
    "The next step is to explore the data.  First, let's see how many trips we have."
   ]
  },
  {
   "cell_type": "code",
   "execution_count": 168,
   "metadata": {},
   "outputs": [
    {
     "data": {
      "text/plain": [
       "1000"
      ]
     },
     "execution_count": 168,
     "metadata": {},
     "output_type": "execute_result"
    }
   ],
   "source": [
    "len(trips)"
   ]
  },
  {
   "cell_type": "markdown",
   "metadata": {},
   "source": [
    "Not bad at all.  Now let's see what each individual trip looks like.  Each trip is a dictionary, so we can see the attributes of each trip with the `keys` function."
   ]
  },
  {
   "cell_type": "code",
   "execution_count": 169,
   "metadata": {
    "scrolled": true
   },
   "outputs": [
    {
     "data": {
      "text/plain": [
       "dict_keys(['dropoff_datetime', 'dropoff_latitude', 'dropoff_longitude', 'fare_amount', 'imp_surcharge', 'mta_tax', 'passenger_count', 'payment_type', 'pickup_datetime', 'pickup_latitude', 'pickup_longitude', 'rate_code', 'tip_amount', 'tolls_amount', 'total_amount', 'trip_distance', 'vendor_id'])"
      ]
     },
     "execution_count": 169,
     "metadata": {},
     "output_type": "execute_result"
    }
   ],
   "source": [
    "trips[0].keys()"
   ]
  },
  {
   "cell_type": "code",
   "execution_count": 170,
   "metadata": {},
   "outputs": [
    {
     "data": {
      "text/plain": [
       "dict_items([('dropoff_datetime', '2014-02-22T17:54:37.000'), ('dropoff_latitude', '40.781844999999997'), ('dropoff_longitude', '-73.979073'), ('fare_amount', '7.5'), ('imp_surcharge', '0'), ('mta_tax', '0.5'), ('passenger_count', '1'), ('payment_type', 'CSH'), ('pickup_datetime', '2014-02-22T17:47:23.000'), ('pickup_latitude', '40.766931'), ('pickup_longitude', '-73.982097999999993'), ('rate_code', '1'), ('store_and_fwd_flag', 'N'), ('tip_amount', '0'), ('tolls_amount', '0'), ('total_amount', '8'), ('trip_distance', '1.3'), ('vendor_id', 'CMT')])"
      ]
     },
     "execution_count": 170,
     "metadata": {},
     "output_type": "execute_result"
    }
   ],
   "source": [
    "trips[1].items()"
   ]
  },
  {
   "cell_type": "code",
   "execution_count": 171,
   "metadata": {},
   "outputs": [
    {
     "data": {
      "text/plain": [
       "dict_items([('dropoff_datetime', '2014-11-26T22:31:00.000'), ('dropoff_latitude', '40.746769999999998'), ('dropoff_longitude', '-73.997450000000001'), ('fare_amount', '52'), ('imp_surcharge', '0'), ('mta_tax', '0.5'), ('passenger_count', '1'), ('payment_type', 'CSH'), ('pickup_datetime', '2014-11-26T21:59:00.000'), ('pickup_latitude', '40.64499'), ('pickup_longitude', '-73.781149999999997'), ('rate_code', '2'), ('tip_amount', '0'), ('tolls_amount', '5.3300000000000001'), ('total_amount', '57.829999999999998'), ('trip_distance', '18.379999999999999'), ('vendor_id', 'VTS')])"
      ]
     },
     "execution_count": 171,
     "metadata": {},
     "output_type": "execute_result"
    }
   ],
   "source": [
    "trips[0].items()"
   ]
  },
  {
   "cell_type": "code",
   "execution_count": 172,
   "metadata": {},
   "outputs": [
    {
     "data": {
      "text/plain": [
       "'-73.982097999999993'"
      ]
     },
     "execution_count": 172,
     "metadata": {},
     "output_type": "execute_result"
    }
   ],
   "source": [
    "trips[1]['pickup_longitude']"
   ]
  },
  {
   "cell_type": "markdown",
   "metadata": {},
   "source": [
    "#### Limit our data"
   ]
  },
  {
   "cell_type": "markdown",
   "metadata": {},
   "source": [
    "Ok, now that we have explored some of our data, let's begin to think through what data is relevant for our task."
   ]
  },
  {
   "cell_type": "markdown",
   "metadata": {
    "collapsed": true
   },
   "source": [
    "Remember that our task is to **use the trip location to predict the length of a trip**.  So let's select the `pickup_latitude`, `pickup_longitude`, and `trip_distance` from each trip.  That will give us the trip location and related `trip_distance` for each trip.  Then based on these **actual** trip distances we can use nearest neighbors to predict an **expected** trip distance for a trip, provided an **actual** location."
   ]
  },
  {
   "cell_type": "markdown",
   "metadata": {},
   "source": [
    "** Add in about trip distance ** "
   ]
  },
  {
   "cell_type": "markdown",
   "metadata": {},
   "source": [
    "Write a function called `parse_trips(trips)` that returns a list of the trips with only the following attributes: \n",
    "* `trip_distance`\n",
    "* `pickup_latitude`\n",
    "* `pickup_longitude`"
   ]
  },
  {
   "cell_type": "code",
   "execution_count": 173,
   "metadata": {},
   "outputs": [],
   "source": [
    "def parse_trips(trips):\n",
    "    \n",
    "    return list(map(lambda trip: {'pickup_latitude': trip['pickup_latitude'], 'pickup_longitude': trip['pickup_longitude'], 'trip_distance': trip['trip_distance']}, trips))\n",
    "\n",
    "\n"
   ]
  },
  {
   "cell_type": "code",
   "execution_count": 174,
   "metadata": {
    "scrolled": true
   },
   "outputs": [
    {
     "data": {
      "text/plain": [
       "{'pickup_latitude': '40.64499',\n",
       " 'pickup_longitude': '-73.781149999999997',\n",
       " 'trip_distance': '18.379999999999999'}"
      ]
     },
     "execution_count": 174,
     "metadata": {},
     "output_type": "execute_result"
    }
   ],
   "source": [
    "parsed_trips = parse_trips(trips)\n",
    "parsed_trips and parsed_trips[0]\n",
    "\n",
    "# {'pickup_latitude': '40.64499',\n",
    "#  'pickup_longitude': '-73.78115',\n",
    "#  'trip_distance': '18.38'}"
   ]
  },
  {
   "cell_type": "markdown",
   "metadata": {},
   "source": [
    "Now, there's just one change to make.  If you look at one of the trips, all of the values are strings.  Let's change them to be floats."
   ]
  },
  {
   "cell_type": "code",
   "execution_count": 175,
   "metadata": {},
   "outputs": [],
   "source": [
    "def float_values(trips):    \n",
    "    return list(map(lambda parsed_trip: {'pickup_longitude': float(parsed_trip['pickup_longitude']), 'pickup_latitude': float(parsed_trip['pickup_latitude']), 'trip_distance': float(parsed_trip['trip_distance'])}, parsed_trips))\n",
    "\n",
    "\n"
   ]
  },
  {
   "cell_type": "code",
   "execution_count": 176,
   "metadata": {},
   "outputs": [],
   "source": [
    "cleaned_trips = float_values(parsed_trips)"
   ]
  },
  {
   "cell_type": "code",
   "execution_count": 177,
   "metadata": {},
   "outputs": [
    {
     "data": {
      "text/plain": [
       "{'pickup_longitude': -73.78115,\n",
       " 'pickup_latitude': 40.64499,\n",
       " 'trip_distance': 18.38}"
      ]
     },
     "execution_count": 177,
     "metadata": {},
     "output_type": "execute_result"
    }
   ],
   "source": [
    "cleaned_trips[0]\n",
    "\n",
    "# {'pickup_latitude': 40.64499,\n",
    "#  'pickup_longitude': -73.78115,\n",
    "#  'trip_distance': 18.38}"
   ]
  },
  {
   "cell_type": "markdown",
   "metadata": {},
   "source": [
    "### Exploring the Data"
   ]
  },
  {
   "cell_type": "markdown",
   "metadata": {},
   "source": [
    "Now that we have paired down our data, let's get a sense of our trip data.  We can use the `folium` Python library to plot a map of Manhattan, and our data.  First we must import `folium`, and then use the `Map` function to pass through a `location`, and `zoom_start`.  If a map isn't showing up below, copy and paste the command `pip install -r requirements.txt` into your terminal to install `folium` then try again."
   ]
  },
  {
   "cell_type": "code",
   "execution_count": 178,
   "metadata": {},
   "outputs": [],
   "source": [
    "import folium\n",
    "manhattan_map = folium.Map(location=[40.7589, -73.9851], zoom_start=11)"
   ]
  },
  {
   "cell_type": "code",
   "execution_count": 179,
   "metadata": {
    "scrolled": true
   },
   "outputs": [
    {
     "data": {
      "text/html": [
       "<div style=\"width:100%;\"><div style=\"position:relative;width:100%;height:0;padding-bottom:60%;\"><iframe src=\"data:text/html;charset=utf-8;base64,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\" style=\"position:absolute;width:100%;height:100%;left:0;top:0;border:none !important;\" allowfullscreen webkitallowfullscreen mozallowfullscreen></iframe></div></div>"
      ],
      "text/plain": [
       "<folium.folium.Map at 0x7fecac7f26d8>"
      ]
     },
     "execution_count": 179,
     "metadata": {},
     "output_type": "execute_result"
    }
   ],
   "source": [
    "manhattan_map"
   ]
  },
  {
   "cell_type": "markdown",
   "metadata": {},
   "source": [
    "Ok, now let's see how we could add a dot to mark a specific location.  We'll start with Times Square."
   ]
  },
  {
   "cell_type": "code",
   "execution_count": 180,
   "metadata": {},
   "outputs": [
    {
     "data": {
      "text/plain": [
       "<folium.vector_layers.CircleMarker at 0x7fecac70d0b8>"
      ]
     },
     "execution_count": 180,
     "metadata": {},
     "output_type": "execute_result"
    }
   ],
   "source": [
    "marker = folium.CircleMarker(location = [40.7589, -73.9851], radius=10)\n",
    "marker.add_to(manhattan_map)"
   ]
  },
  {
   "cell_type": "markdown",
   "metadata": {},
   "source": [
    "Above, we first create a marker.  Then we add that circle marker to the `manhattan_map` we created earlier. "
   ]
  },
  {
   "cell_type": "code",
   "execution_count": 181,
   "metadata": {
    "scrolled": false
   },
   "outputs": [
    {
     "data": {
      "text/html": [
       "<div style=\"width:100%;\"><div style=\"position:relative;width:100%;height:0;padding-bottom:60%;\"><iframe src=\"data:text/html;charset=utf-8;base64,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\" style=\"position:absolute;width:100%;height:100%;left:0;top:0;border:none !important;\" allowfullscreen webkitallowfullscreen mozallowfullscreen></iframe></div></div>"
      ],
      "text/plain": [
       "<folium.folium.Map at 0x7fecac7f26d8>"
      ]
     },
     "execution_count": 181,
     "metadata": {},
     "output_type": "execute_result"
    }
   ],
   "source": [
    "manhattan_map"
   ]
  },
  {
   "cell_type": "markdown",
   "metadata": {},
   "source": [
    "Do you see that blue dot near Time's Square?  That is our marker.  \n",
    "\n",
    "So now that we can plot one marker on a map, we should have a sense of how we can plot many markers on a map to display our taxi ride data.  We simply plot a map, and then we add a marker for each location of a taxi trip.\n",
    "\n",
    "Now let's write some functions to allow us to plot maps and add markers a little more easily.  "
   ]
  },
  {
   "cell_type": "markdown",
   "metadata": {},
   "source": [
    "#### Writing some map plotting functions"
   ]
  },
  {
   "cell_type": "markdown",
   "metadata": {},
   "source": [
    "As a first step towards this, note that the functions to create both a marker and map each take in a location as two element list, representing the latitude and longitude values.  Take another look:\n",
    "\n",
    "```python\n",
    "marker = folium.CircleMarker(location = [40.7589, -73.9851])\n",
    "manhattan_map = folium.Map(location=[40.7589, -73.9851])\n",
    "```\n",
    "\n",
    "So let's write a function called to create this two element list from a trip.  Write a function called `location` that  takes in a trip as an argument and returns a list where the first element is the latitude and the second is the longitude.  Remember that a location looks like the following:"
   ]
  },
  {
   "cell_type": "code",
   "execution_count": 182,
   "metadata": {
    "scrolled": true
   },
   "outputs": [
    {
     "data": {
      "text/plain": [
       "{'pickup_latitude': 40.64499,\n",
       " 'pickup_longitude': -73.78115,\n",
       " 'trip_distance': 18.38}"
      ]
     },
     "execution_count": 182,
     "metadata": {},
     "output_type": "execute_result"
    }
   ],
   "source": [
    "first_trip = {'pickup_latitude': 40.64499, 'pickup_longitude': -73.78115,  'trip_distance': 18.38}\n",
    "first_trip"
   ]
  },
  {
   "cell_type": "code",
   "execution_count": 183,
   "metadata": {},
   "outputs": [
    {
     "data": {
      "text/plain": [
       "dict_values([40.64499, -73.78115, 18.38])"
      ]
     },
     "execution_count": 183,
     "metadata": {},
     "output_type": "execute_result"
    }
   ],
   "source": [
    "first_trip.values()"
   ]
  },
  {
   "cell_type": "code",
   "execution_count": 184,
   "metadata": {},
   "outputs": [],
   "source": [
    "def location(trip):\n",
    "    \n",
    "    return [trip['pickup_latitude'],trip['pickup_longitude']]"
   ]
  },
  {
   "cell_type": "code",
   "execution_count": 185,
   "metadata": {},
   "outputs": [
    {
     "data": {
      "text/plain": [
       "[40.64499, -73.78115]"
      ]
     },
     "execution_count": 185,
     "metadata": {},
     "output_type": "execute_result"
    }
   ],
   "source": [
    "first_location = location(first_trip) # [40.64499, -73.78115]\n",
    "first_location # [40.64499, -73.78115]"
   ]
  },
  {
   "cell_type": "markdown",
   "metadata": {},
   "source": [
    "Ok, now that we can turn a trip into a location, let's turn a location into a marker.  Write a function called `to_marker` that takes in a location (in the form of a list) as an argument, and returns a folium `circleMarker` for that location.  The radius of the marker should always equal 6."
   ]
  },
  {
   "cell_type": "code",
   "execution_count": 186,
   "metadata": {},
   "outputs": [],
   "source": [
    "def to_marker(location):\n",
    "    return folium.CircleMarker(location, radius=6)"
   ]
  },
  {
   "cell_type": "code",
   "execution_count": 187,
   "metadata": {},
   "outputs": [
    {
     "data": {
      "text/plain": [
       "6"
      ]
     },
     "execution_count": 187,
     "metadata": {},
     "output_type": "execute_result"
    }
   ],
   "source": [
    "import json\n",
    "times_square_marker = to_marker([40.7589, -73.9851])\n",
    "\n",
    "times_square_marker and times_square_marker.location # [40.7589, -73.9851]\n",
    "times_square_marker and json.loads(times_square_marker.options)['radius'] # 6"
   ]
  },
  {
   "cell_type": "markdown",
   "metadata": {},
   "source": [
    "Ok, now that we know how to produce a single marker, let's write a function to produce lots.  We can write a function called `markers_from_trips` that takes in a list of trips, and returns a marker object for each trip.  "
   ]
  },
  {
   "cell_type": "code",
   "execution_count": 188,
   "metadata": {},
   "outputs": [],
   "source": [
    "def markers_from_trips(trips):\n",
    "    markers = []\n",
    "    for trip in trips:\n",
    "        loc = location(trip)\n",
    "        marker = to_marker(loc)\n",
    "        markers.append(marker)\n",
    "    return markers"
   ]
  },
  {
   "cell_type": "code",
   "execution_count": 189,
   "metadata": {},
   "outputs": [],
   "source": [
    "def markers_from_trips(trips):\n",
    "    \n",
    "    locations = list(map(lambda trip: location(trip), trips))\n",
    "    return list(map(lambda location: to_marker(location), locations))"
   ]
  },
  {
   "cell_type": "code",
   "execution_count": 190,
   "metadata": {},
   "outputs": [],
   "source": [
    "trip_markers = markers_from_trips(cleaned_trips)"
   ]
  },
  {
   "cell_type": "code",
   "execution_count": 191,
   "metadata": {},
   "outputs": [
    {
     "data": {
      "text/plain": [
       "[{'pickup_longitude': -73.78115,\n",
       "  'pickup_latitude': 40.64499,\n",
       "  'trip_distance': 18.38},\n",
       " {'pickup_longitude': -73.982098,\n",
       "  'pickup_latitude': 40.766931,\n",
       "  'trip_distance': 1.3},\n",
       " {'pickup_longitude': -73.951902,\n",
       "  'pickup_latitude': 40.77773,\n",
       "  'trip_distance': 4.5},\n",
       " {'pickup_longitude': -73.971049,\n",
       "  'pickup_latitude': 40.795678,\n",
       "  'trip_distance': 2.4}]"
      ]
     },
     "execution_count": 191,
     "metadata": {},
     "output_type": "execute_result"
    }
   ],
   "source": [
    "cleaned_trips[0:4]"
   ]
  },
  {
   "cell_type": "code",
   "execution_count": 192,
   "metadata": {},
   "outputs": [
    {
     "data": {
      "text/plain": [
       "[[40.64499, -73.78115],\n",
       " [40.766931, -73.982098],\n",
       " [40.77773, -73.951902],\n",
       " [40.795678, -73.971049]]"
      ]
     },
     "execution_count": 192,
     "metadata": {},
     "output_type": "execute_result"
    }
   ],
   "source": [
    "trip_markers and len(trip_markers) # 1000\n",
    "\n",
    "list(map(lambda marker: marker.location, trip_markers[0:4]))\n",
    "# [[40.64499, -73.78115],\n",
    "#  [40.766931, -73.982098],\n",
    "#  [40.77773, -73.951902],\n",
    "#  [40.795678, -73.971049]]"
   ]
  },
  {
   "cell_type": "markdown",
   "metadata": {},
   "source": [
    "Ok, now that we have a function that creates locations, and a function that creates markers, it is time to write a function to plot a map. \n",
    "\n",
    "Write a function called `map_from` that, provided the first argument of a list location and second argument an integer representing the `zoom_start`, returns a `folium` map the corresponding location and `zoom_start` attributes.\n",
    "\n",
    "> Hint: The following is how to write a map with folium:\n",
    "> ```python \n",
    "    folium.Map(location=location, zoom_start=zoom_amount)\n",
    "> ```"
   ]
  },
  {
   "cell_type": "code",
   "execution_count": 193,
   "metadata": {},
   "outputs": [],
   "source": [
    "def map_from(location, zoom_amount):\n",
    "    \n",
    "    return folium.Map(location=location, zoom_start = zoom_amount)"
   ]
  },
  {
   "cell_type": "code",
   "execution_count": 194,
   "metadata": {},
   "outputs": [
    {
     "data": {
      "text/plain": [
       "15"
      ]
     },
     "execution_count": 194,
     "metadata": {},
     "output_type": "execute_result"
    }
   ],
   "source": [
    "times_square_map = map_from([40.7589, -73.9851], 15)\n",
    "times_square_map and times_square_map.location # [40.7589, -73.9851]\n",
    "times_square_map and times_square_map.zoom_start # 15"
   ]
  },
  {
   "cell_type": "code",
   "execution_count": 195,
   "metadata": {
    "scrolled": true
   },
   "outputs": [
    {
     "data": {
      "text/html": [
       "<div style=\"width:100%;\"><div style=\"position:relative;width:100%;height:0;padding-bottom:60%;\"><iframe src=\"data:text/html;charset=utf-8;base64,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\" style=\"position:absolute;width:100%;height:100%;left:0;top:0;border:none !important;\" allowfullscreen webkitallowfullscreen mozallowfullscreen></iframe></div></div>"
      ],
      "text/plain": [
       "<folium.folium.Map at 0x7fecac0d90b8>"
      ]
     },
     "execution_count": 195,
     "metadata": {},
     "output_type": "execute_result"
    }
   ],
   "source": [
    "times_square_marker and times_square_marker.add_to(times_square_map)\n",
    "times_square_map"
   ]
  },
  {
   "cell_type": "markdown",
   "metadata": {},
   "source": [
    "Now that we have a marker and a map, now let's write a function that adds a lot of markers to a map.  This function should add each marker in the list to the map object then return the updated map object."
   ]
  },
  {
   "cell_type": "code",
   "execution_count": 196,
   "metadata": {},
   "outputs": [],
   "source": [
    "manhattan_map = map_from([40.7589, -73.9851], 13)"
   ]
  },
  {
   "cell_type": "code",
   "execution_count": 204,
   "metadata": {},
   "outputs": [],
   "source": [
    "def add_markers(markers, map_obj):\n",
    "    \n",
    "    map_obj = list(map(lambda marker: marker, markers))\n",
    "    \n",
    "    return map_obj"
   ]
  },
  {
   "cell_type": "code",
   "execution_count": 205,
   "metadata": {
    "scrolled": false
   },
   "outputs": [],
   "source": [
    "map_with_markers = add_markers(trip_markers, manhattan_map)"
   ]
  },
  {
   "cell_type": "code",
   "execution_count": 206,
   "metadata": {},
   "outputs": [
    {
     "data": {
      "text/plain": [
       "[<folium.vector_layers.CircleMarker at 0x7fecac70d320>,\n",
       " <folium.vector_layers.CircleMarker at 0x7fecac70d278>,\n",
       " <folium.vector_layers.CircleMarker at 0x7fecac70d5c0>,\n",
       " <folium.vector_layers.CircleMarker at 0x7fecac70d908>,\n",
       " <folium.vector_layers.CircleMarker at 0x7fecac70d748>,\n",
       " <folium.vector_layers.CircleMarker at 0x7fecac70d550>,\n",
       " <folium.vector_layers.CircleMarker at 0x7fecac70d780>,\n",
       " <folium.vector_layers.CircleMarker at 0x7fecac70d940>,\n",
       " <folium.vector_layers.CircleMarker at 0x7fecac70d128>,\n",
       " <folium.vector_layers.CircleMarker at 0x7fecac70dac8>,\n",
       " <folium.vector_layers.CircleMarker at 0x7fecac70db70>,\n",
       " <folium.vector_layers.CircleMarker at 0x7fecac70dc18>,\n",
       " <folium.vector_layers.CircleMarker at 0x7fecac70dcc0>,\n",
       " <folium.vector_layers.CircleMarker at 0x7fecac70dc88>,\n",
       " <folium.vector_layers.CircleMarker at 0x7fecac70d7f0>,\n",
       " <folium.vector_layers.CircleMarker at 0x7fecac70d8d0>,\n",
       " <folium.vector_layers.CircleMarker at 0x7fecac70d2e8>,\n",
       " <folium.vector_layers.CircleMarker at 0x7fecac70d630>,\n",
       " <folium.vector_layers.CircleMarker at 0x7fecac70d4e0>,\n",
       " <folium.vector_layers.CircleMarker at 0x7fecac70dba8>,\n",
       " <folium.vector_layers.CircleMarker at 0x7fecac70dda0>,\n",
       " <folium.vector_layers.CircleMarker at 0x7fecac70de48>,\n",
       " <folium.vector_layers.CircleMarker at 0x7fecac70d588>,\n",
       " <folium.vector_layers.CircleMarker at 0x7fecac70df28>,\n",
       " <folium.vector_layers.CircleMarker at 0x7fecac70dfd0>,\n",
       " <folium.vector_layers.CircleMarker at 0x7fecac70deb8>,\n",
       " <folium.vector_layers.CircleMarker at 0x7fecac72a128>,\n",
       " <folium.vector_layers.CircleMarker at 0x7fecac72a208>,\n",
       " <folium.vector_layers.CircleMarker at 0x7fecac72a2b0>,\n",
       " <folium.vector_layers.CircleMarker at 0x7fecac72a358>,\n",
       " <folium.vector_layers.CircleMarker at 0x7fecac72a400>,\n",
       " <folium.vector_layers.CircleMarker at 0x7fecac72a4a8>,\n",
       " <folium.vector_layers.CircleMarker at 0x7fecac72a550>,\n",
       " <folium.vector_layers.CircleMarker at 0x7fecac70d5f8>,\n",
       " <folium.vector_layers.CircleMarker at 0x7fecac70def0>,\n",
       " <folium.vector_layers.CircleMarker at 0x7fecac70d3c8>,\n",
       " <folium.vector_layers.CircleMarker at 0x7fecac70db38>,\n",
       " <folium.vector_layers.CircleMarker at 0x7fecac70dbe0>,\n",
       " <folium.vector_layers.CircleMarker at 0x7fecac70ddd8>,\n",
       " <folium.vector_layers.CircleMarker at 0x7fecac70d828>,\n",
       " <folium.vector_layers.CircleMarker at 0x7fecac70d0f0>,\n",
       " <folium.vector_layers.CircleMarker at 0x7fecac70d898>,\n",
       " <folium.vector_layers.CircleMarker at 0x7fecac72a390>,\n",
       " <folium.vector_layers.CircleMarker at 0x7fecac72a3c8>,\n",
       " <folium.vector_layers.CircleMarker at 0x7fecac72a278>,\n",
       " <folium.vector_layers.CircleMarker at 0x7fecac72a0b8>,\n",
       " <folium.vector_layers.CircleMarker at 0x7fecac72a5f8>,\n",
       " <folium.vector_layers.CircleMarker at 0x7fecac72a4e0>,\n",
       " <folium.vector_layers.CircleMarker at 0x7fecac72a710>,\n",
       " <folium.vector_layers.CircleMarker at 0x7fecac72a748>,\n",
       " <folium.vector_layers.CircleMarker at 0x7fecac72a7f0>,\n",
       " <folium.vector_layers.CircleMarker at 0x7fecac72a898>,\n",
       " <folium.vector_layers.CircleMarker at 0x7fecac72a940>,\n",
       " <folium.vector_layers.CircleMarker at 0x7fecac72a9e8>,\n",
       " <folium.vector_layers.CircleMarker at 0x7fecac70d860>,\n",
       " <folium.vector_layers.CircleMarker at 0x7fecac70dd30>,\n",
       " <folium.vector_layers.CircleMarker at 0x7fecac70d7b8>,\n",
       " <folium.vector_layers.CircleMarker at 0x7fecac70d9e8>,\n",
       " <folium.vector_layers.CircleMarker at 0x7fecac70dcf8>,\n",
       " <folium.vector_layers.CircleMarker at 0x7fecac70d400>,\n",
       " <folium.vector_layers.CircleMarker at 0x7fecac72aa90>,\n",
       " <folium.vector_layers.CircleMarker at 0x7fecac72a908>,\n",
       " <folium.vector_layers.CircleMarker at 0x7fecac72a7b8>,\n",
       " <folium.vector_layers.CircleMarker at 0x7fecac72a048>,\n",
       " <folium.vector_layers.CircleMarker at 0x7fecac72a630>,\n",
       " <folium.vector_layers.CircleMarker at 0x7fecac72a240>,\n",
       " <folium.vector_layers.CircleMarker at 0x7fecac72a320>,\n",
       " <folium.vector_layers.CircleMarker at 0x7fecac72aac8>,\n",
       " <folium.vector_layers.CircleMarker at 0x7fecac72ab70>,\n",
       " <folium.vector_layers.CircleMarker at 0x7fecac72a2e8>,\n",
       " <folium.vector_layers.CircleMarker at 0x7fecac72ac50>,\n",
       " <folium.vector_layers.CircleMarker at 0x7fecac72acf8>,\n",
       " <folium.vector_layers.CircleMarker at 0x7fecac72ada0>,\n",
       " <folium.vector_layers.CircleMarker at 0x7fecac72ae48>,\n",
       " <folium.vector_layers.CircleMarker at 0x7fecac72aef0>,\n",
       " <folium.vector_layers.CircleMarker at 0x7fecac70df98>,\n",
       " <folium.vector_layers.CircleMarker at 0x7fecac70de80>,\n",
       " <folium.vector_layers.CircleMarker at 0x7fecac70da90>,\n",
       " <folium.vector_layers.CircleMarker at 0x7fecac70d710>,\n",
       " <folium.vector_layers.CircleMarker at 0x7fecac72af98>,\n",
       " <folium.vector_layers.CircleMarker at 0x7fecac72ae10>,\n",
       " <folium.vector_layers.CircleMarker at 0x7fecac72acc0>,\n",
       " <folium.vector_layers.CircleMarker at 0x7fecac72a470>,\n",
       " <folium.vector_layers.CircleMarker at 0x7fecac72ab38>,\n",
       " <folium.vector_layers.CircleMarker at 0x7fecac72a6d8>,\n",
       " <folium.vector_layers.CircleMarker at 0x7fecac72a438>,\n",
       " <folium.vector_layers.CircleMarker at 0x7fecac72a780>,\n",
       " <folium.vector_layers.CircleMarker at 0x7fecac72a860>,\n",
       " <folium.vector_layers.CircleMarker at 0x7fecac72afd0>,\n",
       " <folium.vector_layers.CircleMarker at 0x7fecac72a9b0>,\n",
       " <folium.vector_layers.CircleMarker at 0x7fecac543048>,\n",
       " <folium.vector_layers.CircleMarker at 0x7fecac543160>,\n",
       " <folium.vector_layers.CircleMarker at 0x7fecac543240>,\n",
       " <folium.vector_layers.CircleMarker at 0x7fecac5432e8>,\n",
       " <folium.vector_layers.CircleMarker at 0x7fecac543390>,\n",
       " <folium.vector_layers.CircleMarker at 0x7fecac543438>,\n",
       " <folium.vector_layers.CircleMarker at 0x7fecac5434e0>,\n",
       " <folium.vector_layers.CircleMarker at 0x7fecac72ad30>,\n",
       " <folium.vector_layers.CircleMarker at 0x7fecac72ab00>,\n",
       " <folium.vector_layers.CircleMarker at 0x7fecac72aa20>,\n",
       " <folium.vector_layers.CircleMarker at 0x7fecac72a518>,\n",
       " <folium.vector_layers.CircleMarker at 0x7fecac72ac88>,\n",
       " <folium.vector_layers.CircleMarker at 0x7fecac72ad68>,\n",
       " <folium.vector_layers.CircleMarker at 0x7fecac72add8>,\n",
       " <folium.vector_layers.CircleMarker at 0x7fecac72aa58>,\n",
       " <folium.vector_layers.CircleMarker at 0x7fecac72af60>,\n",
       " <folium.vector_layers.CircleMarker at 0x7fecf0644518>,\n",
       " <folium.vector_layers.CircleMarker at 0x7fecac70d9b0>,\n",
       " <folium.vector_layers.CircleMarker at 0x7fecac415cf8>,\n",
       " <folium.vector_layers.CircleMarker at 0x7fecac70dd68>,\n",
       " <folium.vector_layers.CircleMarker at 0x7fecac70da20>,\n",
       " <folium.vector_layers.CircleMarker at 0x7fecac42f630>,\n",
       " <folium.vector_layers.CircleMarker at 0x7fecac42ff98>,\n",
       " <folium.vector_layers.CircleMarker at 0x7fecac42ff60>,\n",
       " <folium.vector_layers.CircleMarker at 0x7fecac42f6a0>,\n",
       " <folium.vector_layers.CircleMarker at 0x7fecac42f470>,\n",
       " <folium.vector_layers.CircleMarker at 0x7fecac42f908>,\n",
       " <folium.vector_layers.CircleMarker at 0x7fecb0bbe1d0>,\n",
       " <folium.vector_layers.CircleMarker at 0x7fecb0bbe908>,\n",
       " <folium.vector_layers.CircleMarker at 0x7fecb0bbe860>,\n",
       " <folium.vector_layers.CircleMarker at 0x7fecac42fc50>,\n",
       " <folium.vector_layers.CircleMarker at 0x7fecac42fd30>,\n",
       " <folium.vector_layers.CircleMarker at 0x7fecac415518>,\n",
       " <folium.vector_layers.CircleMarker at 0x7fecac42ff28>,\n",
       " <folium.vector_layers.CircleMarker at 0x7fecac42fb38>,\n",
       " <folium.vector_layers.CircleMarker at 0x7fecac70db00>,\n",
       " <folium.vector_layers.CircleMarker at 0x7fecac70df60>,\n",
       " <folium.vector_layers.CircleMarker at 0x7fecac72a5c0>,\n",
       " <folium.vector_layers.CircleMarker at 0x7fecac72abe0>,\n",
       " <folium.vector_layers.CircleMarker at 0x7fecac72a0f0>,\n",
       " <folium.vector_layers.CircleMarker at 0x7fecac72a978>,\n",
       " <folium.vector_layers.CircleMarker at 0x7fecac72a588>,\n",
       " <folium.vector_layers.CircleMarker at 0x7fecac72a160>,\n",
       " <folium.vector_layers.CircleMarker at 0x7fecb0bbe780>,\n",
       " <folium.vector_layers.CircleMarker at 0x7fecb0bbe668>,\n",
       " <folium.vector_layers.CircleMarker at 0x7fecb0bbe6a0>,\n",
       " <folium.vector_layers.CircleMarker at 0x7fecb0bbe898>,\n",
       " <folium.vector_layers.CircleMarker at 0x7fecb0bbe630>,\n",
       " <folium.vector_layers.CircleMarker at 0x7fecb0bbe0f0>,\n",
       " <folium.vector_layers.CircleMarker at 0x7fecb0bbe080>,\n",
       " <folium.vector_layers.CircleMarker at 0x7fecb0bbe198>,\n",
       " <folium.vector_layers.CircleMarker at 0x7fecb0bbe0b8>,\n",
       " <folium.vector_layers.CircleMarker at 0x7fecac72aeb8>,\n",
       " <folium.vector_layers.CircleMarker at 0x7fecac72a8d0>,\n",
       " <folium.vector_layers.CircleMarker at 0x7fecac4158d0>,\n",
       " <folium.vector_layers.CircleMarker at 0x7fecac72af28>,\n",
       " <folium.vector_layers.CircleMarker at 0x7fecac70de10>,\n",
       " <folium.vector_layers.CircleMarker at 0x7fecac70d080>,\n",
       " <folium.vector_layers.CircleMarker at 0x7fecac42fef0>,\n",
       " <folium.vector_layers.CircleMarker at 0x7fecac42f3c8>,\n",
       " <folium.vector_layers.CircleMarker at 0x7fecac42f588>,\n",
       " <folium.vector_layers.CircleMarker at 0x7fecb0bbe2e8>,\n",
       " <folium.vector_layers.CircleMarker at 0x7fecb0bbe5c0>,\n",
       " <folium.vector_layers.CircleMarker at 0x7fecb0bbe5f8>,\n",
       " <folium.vector_layers.CircleMarker at 0x7fecb0bbe748>,\n",
       " <folium.vector_layers.CircleMarker at 0x7fecb0bbe7b8>,\n",
       " <folium.vector_layers.CircleMarker at 0x7fecb0bbe978>,\n",
       " <folium.vector_layers.CircleMarker at 0x7fecac543400>,\n",
       " <folium.vector_layers.CircleMarker at 0x7fecac543208>,\n",
       " <folium.vector_layers.CircleMarker at 0x7fecac5430f0>,\n",
       " <folium.vector_layers.CircleMarker at 0x7fecac543588>,\n",
       " <folium.vector_layers.CircleMarker at 0x7fecac543470>,\n",
       " <folium.vector_layers.CircleMarker at 0x7fecac5436a0>,\n",
       " <folium.vector_layers.CircleMarker at 0x7fecac5436d8>,\n",
       " <folium.vector_layers.CircleMarker at 0x7fecb0bbe240>,\n",
       " <folium.vector_layers.CircleMarker at 0x7fecb0bbe048>,\n",
       " <folium.vector_layers.CircleMarker at 0x7fecb0bbe6d8>,\n",
       " <folium.vector_layers.CircleMarker at 0x7fecac42f748>,\n",
       " <folium.vector_layers.CircleMarker at 0x7fecac42fc18>,\n",
       " <folium.vector_layers.CircleMarker at 0x7fecb0bbe320>,\n",
       " <folium.vector_layers.CircleMarker at 0x7fecac70d4a8>,\n",
       " <folium.vector_layers.CircleMarker at 0x7fecac72ae80>,\n",
       " <folium.vector_layers.CircleMarker at 0x7fecac72a6a0>,\n",
       " <folium.vector_layers.CircleMarker at 0x7fecac72a198>,\n",
       " <folium.vector_layers.CircleMarker at 0x7fecac543278>,\n",
       " <folium.vector_layers.CircleMarker at 0x7fecac543198>,\n",
       " <folium.vector_layers.CircleMarker at 0x7fecac543128>,\n",
       " <folium.vector_layers.CircleMarker at 0x7fecac543780>,\n",
       " <folium.vector_layers.CircleMarker at 0x7fecac543518>,\n",
       " <folium.vector_layers.CircleMarker at 0x7fecac543898>,\n",
       " <folium.vector_layers.CircleMarker at 0x7fecac5438d0>,\n",
       " <folium.vector_layers.CircleMarker at 0x7fecac543978>,\n",
       " <folium.vector_layers.CircleMarker at 0x7fecac543a20>,\n",
       " <folium.vector_layers.CircleMarker at 0x7fecac543ac8>,\n",
       " <folium.vector_layers.CircleMarker at 0x7fecac543b70>,\n",
       " <folium.vector_layers.CircleMarker at 0x7fecac543c18>,\n",
       " <folium.vector_layers.CircleMarker at 0x7fecac70dc50>,\n",
       " <folium.vector_layers.CircleMarker at 0x7fecac42ffd0>,\n",
       " <folium.vector_layers.CircleMarker at 0x7fecac72a1d0>,\n",
       " <folium.vector_layers.CircleMarker at 0x7fecb0bbe7f0>,\n",
       " <folium.vector_layers.CircleMarker at 0x7fecb0bbe160>,\n",
       " <folium.vector_layers.CircleMarker at 0x7fecb0bbe710>,\n",
       " <folium.vector_layers.CircleMarker at 0x7fecac543a58>,\n",
       " <folium.vector_layers.CircleMarker at 0x7fecac543a90>,\n",
       " <folium.vector_layers.CircleMarker at 0x7fecac543940>,\n",
       " <folium.vector_layers.CircleMarker at 0x7fecac5434a8>,\n",
       " <folium.vector_layers.CircleMarker at 0x7fecac5437b8>,\n",
       " <folium.vector_layers.CircleMarker at 0x7fecac543668>,\n",
       " <folium.vector_layers.CircleMarker at 0x7fecac543358>,\n",
       " <folium.vector_layers.CircleMarker at 0x7fecac543748>,\n",
       " <folium.vector_layers.CircleMarker at 0x7fecac543d30>,\n",
       " <folium.vector_layers.CircleMarker at 0x7fecac543d68>,\n",
       " <folium.vector_layers.CircleMarker at 0x7fecac543c50>,\n",
       " <folium.vector_layers.CircleMarker at 0x7fecac543e48>,\n",
       " <folium.vector_layers.CircleMarker at 0x7fecac543ef0>,\n",
       " <folium.vector_layers.CircleMarker at 0x7fecac543f98>,\n",
       " <folium.vector_layers.CircleMarker at 0x7fecac543f28>,\n",
       " <folium.vector_layers.CircleMarker at 0x7fecac70da58>,\n",
       " <folium.vector_layers.CircleMarker at 0x7fecac42fe80>,\n",
       " <folium.vector_layers.CircleMarker at 0x7fecac72ac18>,\n",
       " <folium.vector_layers.CircleMarker at 0x7fecb0bbe128>,\n",
       " <folium.vector_layers.CircleMarker at 0x7fecb0bbe8d0>,\n",
       " <folium.vector_layers.CircleMarker at 0x7fecac543da0>,\n",
       " <folium.vector_layers.CircleMarker at 0x7fecac543b00>,\n",
       " <folium.vector_layers.CircleMarker at 0x7fecac543ba8>,\n",
       " <folium.vector_layers.CircleMarker at 0x7fecac5435c0>,\n",
       " <folium.vector_layers.CircleMarker at 0x7fecac5433c8>,\n",
       " <folium.vector_layers.CircleMarker at 0x7fecac543710>,\n",
       " <folium.vector_layers.CircleMarker at 0x7fecac543320>,\n",
       " <folium.vector_layers.CircleMarker at 0x7fecac543b38>,\n",
       " <folium.vector_layers.CircleMarker at 0x7fecac543828>,\n",
       " <folium.vector_layers.CircleMarker at 0x7fecac55d0f0>,\n",
       " <folium.vector_layers.CircleMarker at 0x7fecac55d208>,\n",
       " <folium.vector_layers.CircleMarker at 0x7fecac55d278>,\n",
       " <folium.vector_layers.CircleMarker at 0x7fecac55d320>,\n",
       " <folium.vector_layers.CircleMarker at 0x7fecac55d3c8>,\n",
       " <folium.vector_layers.CircleMarker at 0x7fecac55d470>,\n",
       " <folium.vector_layers.CircleMarker at 0x7fecac55d518>,\n",
       " <folium.vector_layers.CircleMarker at 0x7fecac55d5c0>,\n",
       " <folium.vector_layers.CircleMarker at 0x7fecac543e80>,\n",
       " <folium.vector_layers.CircleMarker at 0x7fecac5439e8>,\n",
       " <folium.vector_layers.CircleMarker at 0x7fecac543dd8>,\n",
       " <folium.vector_layers.CircleMarker at 0x7fecac72aba8>,\n",
       " <folium.vector_layers.CircleMarker at 0x7fecac42fda0>,\n",
       " <folium.vector_layers.CircleMarker at 0x7fecac70d668>,\n",
       " <folium.vector_layers.CircleMarker at 0x7fecac543860>,\n",
       " <folium.vector_layers.CircleMarker at 0x7fecac5439b0>,\n",
       " <folium.vector_layers.CircleMarker at 0x7fecb0bbe550>,\n",
       " <folium.vector_layers.CircleMarker at 0x7fecac55d400>,\n",
       " <folium.vector_layers.CircleMarker at 0x7fecac55d438>,\n",
       " <folium.vector_layers.CircleMarker at 0x7fecac55d2e8>,\n",
       " <folium.vector_layers.CircleMarker at 0x7fecac55d198>,\n",
       " <folium.vector_layers.CircleMarker at 0x7fecac55d668>,\n",
       " <folium.vector_layers.CircleMarker at 0x7fecac55d550>,\n",
       " <folium.vector_layers.CircleMarker at 0x7fecac55d780>,\n",
       " <folium.vector_layers.CircleMarker at 0x7fecac55d7b8>,\n",
       " <folium.vector_layers.CircleMarker at 0x7fecac55d860>,\n",
       " <folium.vector_layers.CircleMarker at 0x7fecac55d908>,\n",
       " <folium.vector_layers.CircleMarker at 0x7fecac55d9b0>,\n",
       " <folium.vector_layers.CircleMarker at 0x7fecac55da58>,\n",
       " <folium.vector_layers.CircleMarker at 0x7fecac55db00>,\n",
       " <folium.vector_layers.CircleMarker at 0x7fecb0bbe3c8>,\n",
       " <folium.vector_layers.CircleMarker at 0x7fecac543630>,\n",
       " <folium.vector_layers.CircleMarker at 0x7fecac5430b8>,\n",
       " <folium.vector_layers.CircleMarker at 0x7fecac543eb8>,\n",
       " <folium.vector_layers.CircleMarker at 0x7fecac5437f0>,\n",
       " <folium.vector_layers.CircleMarker at 0x7fecac5432b0>,\n",
       " <folium.vector_layers.CircleMarker at 0x7fecac55da20>,\n",
       " <folium.vector_layers.CircleMarker at 0x7fecac55d8d0>,\n",
       " <folium.vector_layers.CircleMarker at 0x7fecac55d6d8>,\n",
       " <folium.vector_layers.CircleMarker at 0x7fecac55d748>,\n",
       " <folium.vector_layers.CircleMarker at 0x7fecac55d240>,\n",
       " <folium.vector_layers.CircleMarker at 0x7fecac55d0b8>,\n",
       " <folium.vector_layers.CircleMarker at 0x7fecac55d4e0>,\n",
       " <folium.vector_layers.CircleMarker at 0x7fecac55dba8>,\n",
       " <folium.vector_layers.CircleMarker at 0x7fecac55da90>,\n",
       " <folium.vector_layers.CircleMarker at 0x7fecac55dcc0>,\n",
       " <folium.vector_layers.CircleMarker at 0x7fecac55dcf8>,\n",
       " <folium.vector_layers.CircleMarker at 0x7fecac55dda0>,\n",
       " <folium.vector_layers.CircleMarker at 0x7fecac55de48>,\n",
       " <folium.vector_layers.CircleMarker at 0x7fecac55def0>,\n",
       " <folium.vector_layers.CircleMarker at 0x7fecac55df98>,\n",
       " <folium.vector_layers.CircleMarker at 0x7fecac55df28>,\n",
       " <folium.vector_layers.CircleMarker at 0x7fecac55de80>,\n",
       " <folium.vector_layers.CircleMarker at 0x7fecac55deb8>,\n",
       " <folium.vector_layers.CircleMarker at 0x7fecac55dc18>,\n",
       " <folium.vector_layers.CircleMarker at 0x7fecac55dc88>,\n",
       " <folium.vector_layers.CircleMarker at 0x7fecac55d4a8>,\n",
       " <folium.vector_layers.CircleMarker at 0x7fecac55d390>,\n",
       " <folium.vector_layers.CircleMarker at 0x7fecac55d710>,\n",
       " <folium.vector_layers.CircleMarker at 0x7fecac55d160>,\n",
       " <folium.vector_layers.CircleMarker at 0x7fecac55d5f8>,\n",
       " <folium.vector_layers.CircleMarker at 0x7fecac55d898>,\n",
       " <folium.vector_layers.CircleMarker at 0x7fecac72a668>,\n",
       " <folium.vector_layers.CircleMarker at 0x7fecac5435f8>,\n",
       " <folium.vector_layers.CircleMarker at 0x7fecac543cc0>,\n",
       " <folium.vector_layers.CircleMarker at 0x7fecac543c88>,\n",
       " <folium.vector_layers.CircleMarker at 0x7fecac4f50f0>,\n",
       " <folium.vector_layers.CircleMarker at 0x7fecac4f5240>,\n",
       " <folium.vector_layers.CircleMarker at 0x7fecac4f5278>,\n",
       " <folium.vector_layers.CircleMarker at 0x7fecac4f5320>,\n",
       " <folium.vector_layers.CircleMarker at 0x7fecac4f53c8>,\n",
       " <folium.vector_layers.CircleMarker at 0x7fecac4f5470>,\n",
       " <folium.vector_layers.CircleMarker at 0x7fecac4f5518>,\n",
       " <folium.vector_layers.CircleMarker at 0x7fecac4f55c0>,\n",
       " <folium.vector_layers.CircleMarker at 0x7fecb0bbe828>,\n",
       " <folium.vector_layers.CircleMarker at 0x7fecac543cf8>,\n",
       " <folium.vector_layers.CircleMarker at 0x7fecac55d978>,\n",
       " <folium.vector_layers.CircleMarker at 0x7fecac55d828>,\n",
       " <folium.vector_layers.CircleMarker at 0x7fecac55d2b0>,\n",
       " <folium.vector_layers.CircleMarker at 0x7fecac55db38>,\n",
       " <folium.vector_layers.CircleMarker at 0x7fecac55d588>,\n",
       " <folium.vector_layers.CircleMarker at 0x7fecac55dd30>,\n",
       " <folium.vector_layers.CircleMarker at 0x7fecac55dc50>,\n",
       " <folium.vector_layers.CircleMarker at 0x7fecac4f54e0>,\n",
       " <folium.vector_layers.CircleMarker at 0x7fecac4f5390>,\n",
       " <folium.vector_layers.CircleMarker at 0x7fecac4f5128>,\n",
       " <folium.vector_layers.CircleMarker at 0x7fecac4f51d0>,\n",
       " <folium.vector_layers.CircleMarker at 0x7fecac4f5668>,\n",
       " <folium.vector_layers.CircleMarker at 0x7fecac4f5550>,\n",
       " <folium.vector_layers.CircleMarker at 0x7fecac4f5780>,\n",
       " <folium.vector_layers.CircleMarker at 0x7fecac4f57b8>,\n",
       " <folium.vector_layers.CircleMarker at 0x7fecac4f5860>,\n",
       " <folium.vector_layers.CircleMarker at 0x7fecac4f5908>,\n",
       " <folium.vector_layers.CircleMarker at 0x7fecac4f59b0>,\n",
       " <folium.vector_layers.CircleMarker at 0x7fecac4f5a58>,\n",
       " <folium.vector_layers.CircleMarker at 0x7fecac4f5b00>,\n",
       " <folium.vector_layers.CircleMarker at 0x7fecac55d6a0>,\n",
       " <folium.vector_layers.CircleMarker at 0x7fecac55d9e8>,\n",
       " <folium.vector_layers.CircleMarker at 0x7fecac55d7f0>,\n",
       " <folium.vector_layers.CircleMarker at 0x7fecac543f60>,\n",
       " <folium.vector_layers.CircleMarker at 0x7fecac543080>,\n",
       " <folium.vector_layers.CircleMarker at 0x7fecac55dac8>,\n",
       " <folium.vector_layers.CircleMarker at 0x7fecac4f5a20>,\n",
       " <folium.vector_layers.CircleMarker at 0x7fecac4f58d0>,\n",
       " <folium.vector_layers.CircleMarker at 0x7fecac4f56d8>,\n",
       " <folium.vector_layers.CircleMarker at 0x7fecac4f5748>,\n",
       " <folium.vector_layers.CircleMarker at 0x7fecac4f5160>,\n",
       " <folium.vector_layers.CircleMarker at 0x7fecac4f5208>,\n",
       " <folium.vector_layers.CircleMarker at 0x7fecac4f5048>,\n",
       " <folium.vector_layers.CircleMarker at 0x7fecac4f5630>,\n",
       " <folium.vector_layers.CircleMarker at 0x7fecac4f5c18>,\n",
       " <folium.vector_layers.CircleMarker at 0x7fecac4f5c50>,\n",
       " <folium.vector_layers.CircleMarker at 0x7fecac4f5b38>,\n",
       " <folium.vector_layers.CircleMarker at 0x7fecac4f5d30>,\n",
       " <folium.vector_layers.CircleMarker at 0x7fecac4f5dd8>,\n",
       " <folium.vector_layers.CircleMarker at 0x7fecac4f5e80>,\n",
       " <folium.vector_layers.CircleMarker at 0x7fecac4f5f28>,\n",
       " <folium.vector_layers.CircleMarker at 0x7fecac543e10>,\n",
       " <folium.vector_layers.CircleMarker at 0x7fecac55d1d0>,\n",
       " <folium.vector_layers.CircleMarker at 0x7fecac55d128>,\n",
       " <folium.vector_layers.CircleMarker at 0x7fecac55d358>,\n",
       " <folium.vector_layers.CircleMarker at 0x7fecac4f5fd0>,\n",
       " <folium.vector_layers.CircleMarker at 0x7fecac4f5e48>,\n",
       " <folium.vector_layers.CircleMarker at 0x7fecac4f5cf8>,\n",
       " <folium.vector_layers.CircleMarker at 0x7fecac4f5438>,\n",
       " <folium.vector_layers.CircleMarker at 0x7fecac4f5ba8>,\n",
       " <folium.vector_layers.CircleMarker at 0x7fecac4f5198>,\n",
       " <folium.vector_layers.CircleMarker at 0x7fecac4f52b0>,\n",
       " <folium.vector_layers.CircleMarker at 0x7fecac4f57f0>,\n",
       " <folium.vector_layers.CircleMarker at 0x7fecac4f5828>,\n",
       " <folium.vector_layers.CircleMarker at 0x7fecac4f5ac8>,\n",
       " <folium.vector_layers.CircleMarker at 0x7fecac4f5f60>,\n",
       " <folium.vector_layers.CircleMarker at 0x7fecac4f55f8>,\n",
       " <folium.vector_layers.CircleMarker at 0x7fecac50b128>,\n",
       " <folium.vector_layers.CircleMarker at 0x7fecac50b208>,\n",
       " <folium.vector_layers.CircleMarker at 0x7fecac50b2b0>,\n",
       " <folium.vector_layers.CircleMarker at 0x7fecac50b358>,\n",
       " <folium.vector_layers.CircleMarker at 0x7fecac50b400>,\n",
       " <folium.vector_layers.CircleMarker at 0x7fecac50b4a8>,\n",
       " <folium.vector_layers.CircleMarker at 0x7fecac4f5d68>,\n",
       " <folium.vector_layers.CircleMarker at 0x7fecac4f5978>,\n",
       " <folium.vector_layers.CircleMarker at 0x7fecac4f5a90>,\n",
       " <folium.vector_layers.CircleMarker at 0x7fecac4f5588>,\n",
       " <folium.vector_layers.CircleMarker at 0x7fecac4f5400>,\n",
       " <folium.vector_layers.CircleMarker at 0x7fecac4f5da0>,\n",
       " <folium.vector_layers.CircleMarker at 0x7fecac4f5e10>,\n",
       " <folium.vector_layers.CircleMarker at 0x7fecac4f5ef0>,\n",
       " <folium.vector_layers.CircleMarker at 0x7fecac55dd68>,\n",
       " <folium.vector_layers.CircleMarker at 0x7fecac72a080>,\n",
       " <folium.vector_layers.CircleMarker at 0x7fecb0bbe2b0>,\n",
       " <folium.vector_layers.CircleMarker at 0x7fecac543be0>,\n",
       " <folium.vector_layers.CircleMarker at 0x7fecac5431d0>,\n",
       " <folium.vector_layers.CircleMarker at 0x7fecac55db70>,\n",
       " <folium.vector_layers.CircleMarker at 0x7fecac50b3c8>,\n",
       " <folium.vector_layers.CircleMarker at 0x7fecac50b278>,\n",
       " <folium.vector_layers.CircleMarker at 0x7fecac50b0b8>,\n",
       " <folium.vector_layers.CircleMarker at 0x7fecac50b550>,\n",
       " <folium.vector_layers.CircleMarker at 0x7fecac50b438>,\n",
       " <folium.vector_layers.CircleMarker at 0x7fecac50b668>,\n",
       " <folium.vector_layers.CircleMarker at 0x7fecac50b6a0>,\n",
       " <folium.vector_layers.CircleMarker at 0x7fecac50b748>,\n",
       " <folium.vector_layers.CircleMarker at 0x7fecac543908>,\n",
       " <folium.vector_layers.CircleMarker at 0x7fecac55d048>,\n",
       " <folium.vector_layers.CircleMarker at 0x7fecac55d630>,\n",
       " <folium.vector_layers.CircleMarker at 0x7fecac55dbe0>,\n",
       " <folium.vector_layers.CircleMarker at 0x7fecac4f5f98>,\n",
       " <folium.vector_layers.CircleMarker at 0x7fecac4f5080>,\n",
       " <folium.vector_layers.CircleMarker at 0x7fecac4f5eb8>,\n",
       " <folium.vector_layers.CircleMarker at 0x7fecac4f5898>,\n",
       " <folium.vector_layers.CircleMarker at 0x7fecac4f59e8>,\n",
       " <folium.vector_layers.CircleMarker at 0x7fecac50b5f8>,\n",
       " <folium.vector_layers.CircleMarker at 0x7fecac50b630>,\n",
       " <folium.vector_layers.CircleMarker at 0x7fecac50b390>,\n",
       " <folium.vector_layers.CircleMarker at 0x7fecac50b0f0>,\n",
       " <folium.vector_layers.CircleMarker at 0x7fecac50b7f0>,\n",
       " <folium.vector_layers.CircleMarker at 0x7fecac50b6d8>,\n",
       " <folium.vector_layers.CircleMarker at 0x7fecac50b908>,\n",
       " <folium.vector_layers.CircleMarker at 0x7fecac50b940>,\n",
       " <folium.vector_layers.CircleMarker at 0x7fecac50b9e8>,\n",
       " <folium.vector_layers.CircleMarker at 0x7fecac50ba90>,\n",
       " <folium.vector_layers.CircleMarker at 0x7fecac50bb38>,\n",
       " <folium.vector_layers.CircleMarker at 0x7fecac50bbe0>,\n",
       " <folium.vector_layers.CircleMarker at 0x7fecac50bc88>,\n",
       " <folium.vector_layers.CircleMarker at 0x7fecac4f5cc0>,\n",
       " <folium.vector_layers.CircleMarker at 0x7fecac4f54a8>,\n",
       " <folium.vector_layers.CircleMarker at 0x7fecb0bbe940>,\n",
       " <folium.vector_layers.CircleMarker at 0x7fecac4f56a0>,\n",
       " <folium.vector_layers.CircleMarker at 0x7fecac55d080>,\n",
       " <folium.vector_layers.CircleMarker at 0x7fecac55d940>,\n",
       " <folium.vector_layers.CircleMarker at 0x7fecac50bba8>,\n",
       " <folium.vector_layers.CircleMarker at 0x7fecac50ba58>,\n",
       " <folium.vector_layers.CircleMarker at 0x7fecac50b860>,\n",
       " <folium.vector_layers.CircleMarker at 0x7fecac50b8d0>,\n",
       " <folium.vector_layers.CircleMarker at 0x7fecac50b1d0>,\n",
       " <folium.vector_layers.CircleMarker at 0x7fecac50b198>,\n",
       " <folium.vector_layers.CircleMarker at 0x7fecac50b080>,\n",
       " <folium.vector_layers.CircleMarker at 0x7fecac50bd30>,\n",
       " <folium.vector_layers.CircleMarker at 0x7fecac50bc18>,\n",
       " <folium.vector_layers.CircleMarker at 0x7fecac50be48>,\n",
       " <folium.vector_layers.CircleMarker at 0x7fecac50be80>,\n",
       " <folium.vector_layers.CircleMarker at 0x7fecac50bf28>,\n",
       " <folium.vector_layers.CircleMarker at 0x7fecac50bfd0>,\n",
       " <folium.vector_layers.CircleMarker at 0x7fecac50beb8>,\n",
       " <folium.vector_layers.CircleMarker at 0x7fecac51e0f0>,\n",
       " <folium.vector_layers.CircleMarker at 0x7fecac51e208>,\n",
       " <folium.vector_layers.CircleMarker at 0x7fecac50bac8>,\n",
       " <folium.vector_layers.CircleMarker at 0x7fecac50bef0>,\n",
       " <folium.vector_layers.CircleMarker at 0x7fecac50b160>,\n",
       " <folium.vector_layers.CircleMarker at 0x7fecac50bb70>,\n",
       " <folium.vector_layers.CircleMarker at 0x7fecac50b2e8>,\n",
       " <folium.vector_layers.CircleMarker at 0x7fecac50b828>,\n",
       " <folium.vector_layers.CircleMarker at 0x7fecac50ba20>,\n",
       " <folium.vector_layers.CircleMarker at 0x7fecac543fd0>,\n",
       " <folium.vector_layers.CircleMarker at 0x7fecac55de10>,\n",
       " <folium.vector_layers.CircleMarker at 0x7fecac55dfd0>,\n",
       " <folium.vector_layers.CircleMarker at 0x7fecac50b9b0>,\n",
       " <folium.vector_layers.CircleMarker at 0x7fecac4f5940>,\n",
       " <folium.vector_layers.CircleMarker at 0x7fecac4f5be0>,\n",
       " <folium.vector_layers.CircleMarker at 0x7fecac51e080>,\n",
       " <folium.vector_layers.CircleMarker at 0x7fecac51e128>,\n",
       " <folium.vector_layers.CircleMarker at 0x7fecac51e3c8>,\n",
       " <folium.vector_layers.CircleMarker at 0x7fecac51e400>,\n",
       " <folium.vector_layers.CircleMarker at 0x7fecac51e4a8>,\n",
       " <folium.vector_layers.CircleMarker at 0x7fecac51e550>,\n",
       " <folium.vector_layers.CircleMarker at 0x7fecac51e5f8>,\n",
       " <folium.vector_layers.CircleMarker at 0x7fecac51e6a0>,\n",
       " <folium.vector_layers.CircleMarker at 0x7fecac51e748>,\n",
       " <folium.vector_layers.CircleMarker at 0x7fecac55df60>,\n",
       " <folium.vector_layers.CircleMarker at 0x7fecac4f5c88>,\n",
       " <folium.vector_layers.CircleMarker at 0x7fecac50b978>,\n",
       " <folium.vector_layers.CircleMarker at 0x7fecac50b320>,\n",
       " <folium.vector_layers.CircleMarker at 0x7fecac50bda0>,\n",
       " <folium.vector_layers.CircleMarker at 0x7fecac50b470>,\n",
       " <folium.vector_layers.CircleMarker at 0x7fecac50bdd8>,\n",
       " <folium.vector_layers.CircleMarker at 0x7fecac50b710>,\n",
       " <folium.vector_layers.CircleMarker at 0x7fecac51e668>,\n",
       " <folium.vector_layers.CircleMarker at 0x7fecac51e518>,\n",
       " <folium.vector_layers.CircleMarker at 0x7fecac51e2b0>,\n",
       " <folium.vector_layers.CircleMarker at 0x7fecac51e390>,\n",
       " <folium.vector_layers.CircleMarker at 0x7fecac51e0b8>,\n",
       " <folium.vector_layers.CircleMarker at 0x7fecac51e7f0>,\n",
       " <folium.vector_layers.CircleMarker at 0x7fecac51e6d8>,\n",
       " <folium.vector_layers.CircleMarker at 0x7fecac51e908>,\n",
       " <folium.vector_layers.CircleMarker at 0x7fecac51e940>,\n",
       " <folium.vector_layers.CircleMarker at 0x7fecac51e9e8>,\n",
       " <folium.vector_layers.CircleMarker at 0x7fecac51ea90>,\n",
       " <folium.vector_layers.CircleMarker at 0x7fecac51eb38>,\n",
       " <folium.vector_layers.CircleMarker at 0x7fecac51ebe0>,\n",
       " <folium.vector_layers.CircleMarker at 0x7fecac51ec88>,\n",
       " <folium.vector_layers.CircleMarker at 0x7fecac50bb00>,\n",
       " <folium.vector_layers.CircleMarker at 0x7fecac55ddd8>,\n",
       " <folium.vector_layers.CircleMarker at 0x7fecac4f50b8>,\n",
       " <folium.vector_layers.CircleMarker at 0x7fecac50b780>,\n",
       " <folium.vector_layers.CircleMarker at 0x7fecac50bd68>,\n",
       " <folium.vector_layers.CircleMarker at 0x7fecac51eba8>,\n",
       " <folium.vector_layers.CircleMarker at 0x7fecac51ea58>,\n",
       " <folium.vector_layers.CircleMarker at 0x7fecac51e860>,\n",
       " <folium.vector_layers.CircleMarker at 0x7fecac51e8d0>,\n",
       " <folium.vector_layers.CircleMarker at 0x7fecac51e1d0>,\n",
       " <folium.vector_layers.CircleMarker at 0x7fecac51e320>,\n",
       " <folium.vector_layers.CircleMarker at 0x7fecac51e4e0>,\n",
       " <folium.vector_layers.CircleMarker at 0x7fecac51e5c0>,\n",
       " <folium.vector_layers.CircleMarker at 0x7fecac51ed30>,\n",
       " <folium.vector_layers.CircleMarker at 0x7fecac51ec18>,\n",
       " <folium.vector_layers.CircleMarker at 0x7fecac51ee48>,\n",
       " <folium.vector_layers.CircleMarker at 0x7fecac51ee80>,\n",
       " <folium.vector_layers.CircleMarker at 0x7fecac51ef28>,\n",
       " <folium.vector_layers.CircleMarker at 0x7fecac51efd0>,\n",
       " <folium.vector_layers.CircleMarker at 0x7fecac51eeb8>,\n",
       " <folium.vector_layers.CircleMarker at 0x7fecac2f20f0>,\n",
       " <folium.vector_layers.CircleMarker at 0x7fecac2f2208>,\n",
       " <folium.vector_layers.CircleMarker at 0x7fecac50b240>,\n",
       " <folium.vector_layers.CircleMarker at 0x7fecac50be10>,\n",
       " <folium.vector_layers.CircleMarker at 0x7fecac50bc50>,\n",
       " <folium.vector_layers.CircleMarker at 0x7fecac51ef60>,\n",
       " <folium.vector_layers.CircleMarker at 0x7fecac51eef0>,\n",
       " <folium.vector_layers.CircleMarker at 0x7fecac51ee10>,\n",
       " <folium.vector_layers.CircleMarker at 0x7fecac51e438>,\n",
       " <folium.vector_layers.CircleMarker at 0x7fecac51e240>,\n",
       " <folium.vector_layers.CircleMarker at 0x7fecac51e160>,\n",
       " <folium.vector_layers.CircleMarker at 0x7fecac51e828>,\n",
       " <folium.vector_layers.CircleMarker at 0x7fecac51ea20>,\n",
       " <folium.vector_layers.CircleMarker at 0x7fecac51eb00>,\n",
       " <folium.vector_layers.CircleMarker at 0x7fecac51e9b0>,\n",
       " <folium.vector_layers.CircleMarker at 0x7fecac2f2198>,\n",
       " <folium.vector_layers.CircleMarker at 0x7fecac2f22b0>,\n",
       " <folium.vector_layers.CircleMarker at 0x7fecac2f2358>,\n",
       " <folium.vector_layers.CircleMarker at 0x7fecac2f2240>,\n",
       " <folium.vector_layers.CircleMarker at 0x7fecac2f2438>,\n",
       " <folium.vector_layers.CircleMarker at 0x7fecac2f24e0>,\n",
       " <folium.vector_layers.CircleMarker at 0x7fecac2f2588>,\n",
       " <folium.vector_layers.CircleMarker at 0x7fecac2f2630>,\n",
       " <folium.vector_layers.CircleMarker at 0x7fecac51ecc0>,\n",
       " <folium.vector_layers.CircleMarker at 0x7fecac51ecf8>,\n",
       " <folium.vector_layers.CircleMarker at 0x7fecac51e898>,\n",
       " <folium.vector_layers.CircleMarker at 0x7fecac51eda0>,\n",
       " <folium.vector_layers.CircleMarker at 0x7fecac51ed68>,\n",
       " <folium.vector_layers.CircleMarker at 0x7fecac4f5358>,\n",
       " <folium.vector_layers.CircleMarker at 0x7fecac51e048>,\n",
       " <folium.vector_layers.CircleMarker at 0x7fecac50b588>,\n",
       " <folium.vector_layers.CircleMarker at 0x7fecac50bf98>,\n",
       " <folium.vector_layers.CircleMarker at 0x7fecac2f26d8>,\n",
       " <folium.vector_layers.CircleMarker at 0x7fecac2f2550>,\n",
       " <folium.vector_layers.CircleMarker at 0x7fecac2f2400>,\n",
       " <folium.vector_layers.CircleMarker at 0x7fecac2f2128>,\n",
       " <folium.vector_layers.CircleMarker at 0x7fecac2f2160>,\n",
       " <folium.vector_layers.CircleMarker at 0x7fecac2f25c0>,\n",
       " <folium.vector_layers.CircleMarker at 0x7fecac2f27f0>,\n",
       " <folium.vector_layers.CircleMarker at 0x7fecac2f2828>,\n",
       " <folium.vector_layers.CircleMarker at 0x7fecac2f28d0>,\n",
       " <folium.vector_layers.CircleMarker at 0x7fecac2f2978>,\n",
       " <folium.vector_layers.CircleMarker at 0x7fecac2f2a20>,\n",
       " <folium.vector_layers.CircleMarker at 0x7fecac2f2ac8>,\n",
       " <folium.vector_layers.CircleMarker at 0x7fecac2f2b70>,\n",
       " <folium.vector_layers.CircleMarker at 0x7fecac50b048>,\n",
       " <folium.vector_layers.CircleMarker at 0x7fecac51eac8>,\n",
       " <folium.vector_layers.CircleMarker at 0x7fecac51ec50>,\n",
       " <folium.vector_layers.CircleMarker at 0x7fecac51e2e8>,\n",
       " <folium.vector_layers.CircleMarker at 0x7fecac51e358>,\n",
       " <folium.vector_layers.CircleMarker at 0x7fecac51eb70>,\n",
       " <folium.vector_layers.CircleMarker at 0x7fecac2f2a90>,\n",
       " <folium.vector_layers.CircleMarker at 0x7fecac2f2940>,\n",
       " <folium.vector_layers.CircleMarker at 0x7fecac2f2278>,\n",
       " <folium.vector_layers.CircleMarker at 0x7fecac2f27b8>,\n",
       " <folium.vector_layers.CircleMarker at 0x7fecac2f2390>,\n",
       " <folium.vector_layers.CircleMarker at 0x7fecac2f23c8>,\n",
       " <folium.vector_layers.CircleMarker at 0x7fecac2f25f8>,\n",
       " <folium.vector_layers.CircleMarker at 0x7fecac2f2c18>,\n",
       " <folium.vector_layers.CircleMarker at 0x7fecac2f2b00>,\n",
       " <folium.vector_layers.CircleMarker at 0x7fecac2f2d30>,\n",
       " <folium.vector_layers.CircleMarker at 0x7fecac2f2d68>,\n",
       " <folium.vector_layers.CircleMarker at 0x7fecac2f2e10>,\n",
       " <folium.vector_layers.CircleMarker at 0x7fecac2f2eb8>,\n",
       " <folium.vector_layers.CircleMarker at 0x7fecac2f2f60>,\n",
       " <folium.vector_layers.CircleMarker at 0x7fecac2f2ef0>,\n",
       " <folium.vector_layers.CircleMarker at 0x7fecac308048>,\n",
       " <folium.vector_layers.CircleMarker at 0x7fecac2f29b0>,\n",
       " <folium.vector_layers.CircleMarker at 0x7fecac2f2f28>,\n",
       " <folium.vector_layers.CircleMarker at 0x7fecac2f2c88>,\n",
       " <folium.vector_layers.CircleMarker at 0x7fecac2f2cf8>,\n",
       " <folium.vector_layers.CircleMarker at 0x7fecac2f2048>,\n",
       " <folium.vector_layers.CircleMarker at 0x7fecac2f24a8>,\n",
       " <folium.vector_layers.CircleMarker at 0x7fecac2f2780>,\n",
       " <folium.vector_layers.CircleMarker at 0x7fecac2f22e8>,\n",
       " <folium.vector_layers.CircleMarker at 0x7fecac2f2668>,\n",
       " <folium.vector_layers.CircleMarker at 0x7fecac2f2908>,\n",
       " <folium.vector_layers.CircleMarker at 0x7fecac50bcc0>,\n",
       " <folium.vector_layers.CircleMarker at 0x7fecac51e588>,\n",
       " <folium.vector_layers.CircleMarker at 0x7fecac51edd8>,\n",
       " <folium.vector_layers.CircleMarker at 0x7fecac51e470>,\n",
       " <folium.vector_layers.CircleMarker at 0x7fecac308160>,\n",
       " <folium.vector_layers.CircleMarker at 0x7fecac3082b0>,\n",
       " <folium.vector_layers.CircleMarker at 0x7fecac3082e8>,\n",
       " <folium.vector_layers.CircleMarker at 0x7fecac308390>,\n",
       " <folium.vector_layers.CircleMarker at 0x7fecac308438>,\n",
       " <folium.vector_layers.CircleMarker at 0x7fecac3084e0>,\n",
       " <folium.vector_layers.CircleMarker at 0x7fecac308588>,\n",
       " <folium.vector_layers.CircleMarker at 0x7fecac308630>,\n",
       " <folium.vector_layers.CircleMarker at 0x7fecac50b5c0>,\n",
       " <folium.vector_layers.CircleMarker at 0x7fecac51ef98>,\n",
       " <folium.vector_layers.CircleMarker at 0x7fecac2f29e8>,\n",
       " <folium.vector_layers.CircleMarker at 0x7fecac2f2898>,\n",
       " <folium.vector_layers.CircleMarker at 0x7fecac2f21d0>,\n",
       " <folium.vector_layers.CircleMarker at 0x7fecac2f2ba8>,\n",
       " <folium.vector_layers.CircleMarker at 0x7fecac2f2748>,\n",
       " <folium.vector_layers.CircleMarker at 0x7fecac2f2da0>,\n",
       " <folium.vector_layers.CircleMarker at 0x7fecac2f2cc0>,\n",
       " <folium.vector_layers.CircleMarker at 0x7fecac308550>,\n",
       " <folium.vector_layers.CircleMarker at 0x7fecac308400>,\n",
       " <folium.vector_layers.CircleMarker at 0x7fecac308198>,\n",
       " <folium.vector_layers.CircleMarker at 0x7fecac308240>,\n",
       " <folium.vector_layers.CircleMarker at 0x7fecac3086d8>,\n",
       " <folium.vector_layers.CircleMarker at 0x7fecac3085c0>,\n",
       " <folium.vector_layers.CircleMarker at 0x7fecac3087f0>,\n",
       " <folium.vector_layers.CircleMarker at 0x7fecac308828>,\n",
       " <folium.vector_layers.CircleMarker at 0x7fecac3088d0>,\n",
       " <folium.vector_layers.CircleMarker at 0x7fecac308978>,\n",
       " <folium.vector_layers.CircleMarker at 0x7fecac308a20>,\n",
       " <folium.vector_layers.CircleMarker at 0x7fecac308ac8>,\n",
       " <folium.vector_layers.CircleMarker at 0x7fecac2f2710>,\n",
       " <folium.vector_layers.CircleMarker at 0x7fecac2f2470>,\n",
       " <folium.vector_layers.CircleMarker at 0x7fecac2f2320>,\n",
       " <folium.vector_layers.CircleMarker at 0x7fecac2f2dd8>,\n",
       " <folium.vector_layers.CircleMarker at 0x7fecac2f20b8>,\n",
       " <folium.vector_layers.CircleMarker at 0x7fecac51e710>,\n",
       " <folium.vector_layers.CircleMarker at 0x7fecac308b70>,\n",
       " <folium.vector_layers.CircleMarker at 0x7fecac3089e8>,\n",
       " <folium.vector_layers.CircleMarker at 0x7fecac308898>,\n",
       " <folium.vector_layers.CircleMarker at 0x7fecac308128>,\n",
       " <folium.vector_layers.CircleMarker at 0x7fecac308710>,\n",
       " <folium.vector_layers.CircleMarker at 0x7fecac308320>,\n",
       " <folium.vector_layers.CircleMarker at 0x7fecac308358>,\n",
       " <folium.vector_layers.CircleMarker at 0x7fecac3085f8>,\n",
       " <folium.vector_layers.CircleMarker at 0x7fecac308a58>,\n",
       " <folium.vector_layers.CircleMarker at 0x7fecac308c88>,\n",
       " <folium.vector_layers.CircleMarker at 0x7fecac308cc0>,\n",
       " <folium.vector_layers.CircleMarker at 0x7fecac308d68>,\n",
       " <folium.vector_layers.CircleMarker at 0x7fecac308e10>,\n",
       " <folium.vector_layers.CircleMarker at 0x7fecac308eb8>,\n",
       " <folium.vector_layers.CircleMarker at 0x7fecac308f60>,\n",
       " <folium.vector_layers.CircleMarker at 0x7fecac308ef0>,\n",
       " <folium.vector_layers.CircleMarker at 0x7fecac2f2b38>,\n",
       " <folium.vector_layers.CircleMarker at 0x7fecac2f2a58>,\n",
       " <folium.vector_layers.CircleMarker at 0x7fecac2f2518>,\n",
       " <folium.vector_layers.CircleMarker at 0x7fecac2f2e80>,\n",
       " <folium.vector_layers.CircleMarker at 0x7fecac4f52e8>,\n",
       " <folium.vector_layers.CircleMarker at 0x7fecac51e278>,\n",
       " <folium.vector_layers.CircleMarker at 0x7fecac51e780>,\n",
       " <folium.vector_layers.CircleMarker at 0x7fecac50b4e0>,\n",
       " <folium.vector_layers.CircleMarker at 0x7fecac308e48>,\n",
       " <folium.vector_layers.CircleMarker at 0x7fecac308e80>,\n",
       " <folium.vector_layers.CircleMarker at 0x7fecac308d30>,\n",
       " <folium.vector_layers.CircleMarker at 0x7fecac3080b8>,\n",
       " <folium.vector_layers.CircleMarker at 0x7fecac308ba8>,\n",
       " <folium.vector_layers.CircleMarker at 0x7fecac3087b8>,\n",
       " <folium.vector_layers.CircleMarker at 0x7fecac308518>,\n",
       " <folium.vector_layers.CircleMarker at 0x7fecac308860>,\n",
       " <folium.vector_layers.CircleMarker at 0x7fecac308940>,\n",
       " <folium.vector_layers.CircleMarker at 0x7fecac3089b0>,\n",
       " <folium.vector_layers.CircleMarker at 0x7fecac308f98>,\n",
       " <folium.vector_layers.CircleMarker at 0x7fecac308a90>,\n",
       " <folium.vector_layers.CircleMarker at 0x7fecac31d0f0>,\n",
       " <folium.vector_layers.CircleMarker at 0x7fecac31d208>,\n",
       " <folium.vector_layers.CircleMarker at 0x7fecac308da0>,\n",
       " <folium.vector_layers.CircleMarker at 0x7fecac308080>,\n",
       " <folium.vector_layers.CircleMarker at 0x7fecac308208>,\n",
       " <folium.vector_layers.CircleMarker at 0x7fecac3086a0>,\n",
       " <folium.vector_layers.CircleMarker at 0x7fecac308278>,\n",
       " <folium.vector_layers.CircleMarker at 0x7fecac4f5710>,\n",
       " <folium.vector_layers.CircleMarker at 0x7fecac3084a8>,\n",
       " <folium.vector_layers.CircleMarker at 0x7fecac308dd8>,\n",
       " <folium.vector_layers.CircleMarker at 0x7fecac51e7b8>,\n",
       " <folium.vector_layers.CircleMarker at 0x7fecac51e978>,\n",
       " <folium.vector_layers.CircleMarker at 0x7fecac50bf60>,\n",
       " <folium.vector_layers.CircleMarker at 0x7fecac2f2c50>,\n",
       " <folium.vector_layers.CircleMarker at 0x7fecac2f2f98>,\n",
       " <folium.vector_layers.CircleMarker at 0x7fecac31d160>,\n",
       " <folium.vector_layers.CircleMarker at 0x7fecac31d128>,\n",
       " <folium.vector_layers.CircleMarker at 0x7fecac31d3c8>,\n",
       " <folium.vector_layers.CircleMarker at 0x7fecac31d400>,\n",
       " <folium.vector_layers.CircleMarker at 0x7fecac31d4a8>,\n",
       " <folium.vector_layers.CircleMarker at 0x7fecac31d550>,\n",
       " <folium.vector_layers.CircleMarker at 0x7fecac31d5f8>,\n",
       " <folium.vector_layers.CircleMarker at 0x7fecac31d6a0>,\n",
       " <folium.vector_layers.CircleMarker at 0x7fecac31d748>,\n",
       " <folium.vector_layers.CircleMarker at 0x7fecac51e630>,\n",
       " <folium.vector_layers.CircleMarker at 0x7fecac50bcf8>,\n",
       " <folium.vector_layers.CircleMarker at 0x7fecac2f2860>,\n",
       " <folium.vector_layers.CircleMarker at 0x7fecac308748>,\n",
       " <folium.vector_layers.CircleMarker at 0x7fecac308b38>,\n",
       " <folium.vector_layers.CircleMarker at 0x7fecac308c50>,\n",
       " <folium.vector_layers.CircleMarker at 0x7fecac308be0>,\n",
       " <folium.vector_layers.CircleMarker at 0x7fecac3083c8>,\n",
       " <folium.vector_layers.CircleMarker at 0x7fecac31d588>,\n",
       " <folium.vector_layers.CircleMarker at 0x7fecac31d5c0>,\n",
       " <folium.vector_layers.CircleMarker at 0x7fecac31d470>,\n",
       " <folium.vector_layers.CircleMarker at 0x7fecac31d198>,\n",
       " <folium.vector_layers.CircleMarker at 0x7fecac31d048>,\n",
       " <folium.vector_layers.CircleMarker at 0x7fecac31d7f0>,\n",
       " <folium.vector_layers.CircleMarker at 0x7fecac31d6d8>,\n",
       " <folium.vector_layers.CircleMarker at 0x7fecac31d908>,\n",
       " <folium.vector_layers.CircleMarker at 0x7fecac31d940>,\n",
       " <folium.vector_layers.CircleMarker at 0x7fecac31d9e8>,\n",
       " <folium.vector_layers.CircleMarker at 0x7fecac31da90>,\n",
       " <folium.vector_layers.CircleMarker at 0x7fecac31db38>,\n",
       " <folium.vector_layers.CircleMarker at 0x7fecac31dbe0>,\n",
       " <folium.vector_layers.CircleMarker at 0x7fecac31dc88>,\n",
       " <folium.vector_layers.CircleMarker at 0x7fecac50b7b8>,\n",
       " <folium.vector_layers.CircleMarker at 0x7fecac51e198>,\n",
       " <folium.vector_layers.CircleMarker at 0x7fecac308780>,\n",
       " <folium.vector_layers.CircleMarker at 0x7fecac2f26a0>,\n",
       " <folium.vector_layers.CircleMarker at 0x7fecac308cf8>,\n",
       " <folium.vector_layers.CircleMarker at 0x7fecac31dac8>,\n",
       " <folium.vector_layers.CircleMarker at 0x7fecac31db00>,\n",
       " <folium.vector_layers.CircleMarker at 0x7fecac31d9b0>,\n",
       " <folium.vector_layers.CircleMarker at 0x7fecac31d320>,\n",
       " <folium.vector_layers.CircleMarker at 0x7fecac31d828>,\n",
       " <folium.vector_layers.CircleMarker at 0x7fecac31d240>,\n",
       " <folium.vector_layers.CircleMarker at 0x7fecac31d1d0>,\n",
       " <folium.vector_layers.CircleMarker at 0x7fecac31d668>,\n",
       " <folium.vector_layers.CircleMarker at 0x7fecac31dd30>,\n",
       " <folium.vector_layers.CircleMarker at 0x7fecac31dc18>,\n",
       " <folium.vector_layers.CircleMarker at 0x7fecac31de48>,\n",
       " <folium.vector_layers.CircleMarker at 0x7fecac31de80>,\n",
       " <folium.vector_layers.CircleMarker at 0x7fecac31df28>,\n",
       " <folium.vector_layers.CircleMarker at 0x7fecac31dfd0>,\n",
       " <folium.vector_layers.CircleMarker at 0x7fecac31deb8>,\n",
       " <folium.vector_layers.CircleMarker at 0x7fecac0b00f0>,\n",
       " <folium.vector_layers.CircleMarker at 0x7fecac0b0208>,\n",
       " <folium.vector_layers.CircleMarker at 0x7fecac31da20>,\n",
       " <folium.vector_layers.CircleMarker at 0x7fecac31def0>,\n",
       " <folium.vector_layers.CircleMarker at 0x7fecac31d358>,\n",
       " <folium.vector_layers.CircleMarker at 0x7fecac31db70>,\n",
       " <folium.vector_layers.CircleMarker at 0x7fecac31d8d0>,\n",
       " <folium.vector_layers.CircleMarker at 0x7fecac31d630>,\n",
       " <folium.vector_layers.CircleMarker at 0x7fecac2f2fd0>,\n",
       " <folium.vector_layers.CircleMarker at 0x7fecac31d898>,\n",
       " <folium.vector_layers.CircleMarker at 0x7fecac31dba8>,\n",
       " <folium.vector_layers.CircleMarker at 0x7fecac31da58>,\n",
       " <folium.vector_layers.CircleMarker at 0x7fecac3081d0>,\n",
       " <folium.vector_layers.CircleMarker at 0x7fecac308fd0>,\n",
       " <folium.vector_layers.CircleMarker at 0x7fecac308f28>,\n",
       " <folium.vector_layers.CircleMarker at 0x7fecac0b0080>,\n",
       " <folium.vector_layers.CircleMarker at 0x7fecac0b0128>,\n",
       " <folium.vector_layers.CircleMarker at 0x7fecac0b03c8>,\n",
       " <folium.vector_layers.CircleMarker at 0x7fecac0b0400>,\n",
       " <folium.vector_layers.CircleMarker at 0x7fecac0b04a8>,\n",
       " <folium.vector_layers.CircleMarker at 0x7fecac0b0550>,\n",
       " <folium.vector_layers.CircleMarker at 0x7fecac0b05f8>,\n",
       " <folium.vector_layers.CircleMarker at 0x7fecac0b06a0>,\n",
       " <folium.vector_layers.CircleMarker at 0x7fecac0b0748>,\n",
       " <folium.vector_layers.CircleMarker at 0x7fecac50b898>,\n",
       " <folium.vector_layers.CircleMarker at 0x7fecac308c18>,\n",
       " <folium.vector_layers.CircleMarker at 0x7fecac31d2b0>,\n",
       " <folium.vector_layers.CircleMarker at 0x7fecac31d390>,\n",
       " <folium.vector_layers.CircleMarker at 0x7fecac31dda0>,\n",
       " <folium.vector_layers.CircleMarker at 0x7fecac31d2e8>,\n",
       " <folium.vector_layers.CircleMarker at 0x7fecac31ddd8>,\n",
       " <folium.vector_layers.CircleMarker at 0x7fecac31d710>,\n",
       " <folium.vector_layers.CircleMarker at 0x7fecac0b0668>,\n",
       " <folium.vector_layers.CircleMarker at 0x7fecac0b0518>,\n",
       " <folium.vector_layers.CircleMarker at 0x7fecac0b02b0>,\n",
       " <folium.vector_layers.CircleMarker at 0x7fecac0b0390>,\n",
       " <folium.vector_layers.CircleMarker at 0x7fecac0b00b8>,\n",
       " <folium.vector_layers.CircleMarker at 0x7fecac0b07f0>,\n",
       " <folium.vector_layers.CircleMarker at 0x7fecac0b06d8>,\n",
       " <folium.vector_layers.CircleMarker at 0x7fecac0b0908>,\n",
       " <folium.vector_layers.CircleMarker at 0x7fecac0b0940>,\n",
       " <folium.vector_layers.CircleMarker at 0x7fecac0b09e8>,\n",
       " <folium.vector_layers.CircleMarker at 0x7fecac0b0a90>,\n",
       " <folium.vector_layers.CircleMarker at 0x7fecac0b0b38>,\n",
       " <folium.vector_layers.CircleMarker at 0x7fecac0b0be0>,\n",
       " <folium.vector_layers.CircleMarker at 0x7fecac0b0c88>,\n",
       " <folium.vector_layers.CircleMarker at 0x7fecac2f2be0>,\n",
       " <folium.vector_layers.CircleMarker at 0x7fecac308b00>,\n",
       " <folium.vector_layers.CircleMarker at 0x7fecac31d4e0>,\n",
       " <folium.vector_layers.CircleMarker at 0x7fecac31d780>,\n",
       " <folium.vector_layers.CircleMarker at 0x7fecac31df98>,\n",
       " <folium.vector_layers.CircleMarker at 0x7fecac0b0ac8>,\n",
       " <folium.vector_layers.CircleMarker at 0x7fecac0b0b00>,\n",
       " <folium.vector_layers.CircleMarker at 0x7fecac0b09b0>,\n",
       " <folium.vector_layers.CircleMarker at 0x7fecac0b0198>,\n",
       " <folium.vector_layers.CircleMarker at 0x7fecac0b0828>,\n",
       " <folium.vector_layers.CircleMarker at 0x7fecac0b0358>,\n",
       " <folium.vector_layers.CircleMarker at 0x7fecac0b0048>,\n",
       " <folium.vector_layers.CircleMarker at 0x7fecac0b0240>,\n",
       " <folium.vector_layers.CircleMarker at 0x7fecac0b07b8>,\n",
       " <folium.vector_layers.CircleMarker at 0x7fecac0b0da0>,\n",
       " <folium.vector_layers.CircleMarker at 0x7fecac0b0dd8>,\n",
       " <folium.vector_layers.CircleMarker at 0x7fecac0b0cc0>,\n",
       " <folium.vector_layers.CircleMarker at 0x7fecac0b0eb8>,\n",
       " <folium.vector_layers.CircleMarker at 0x7fecac0b0f60>,\n",
       " <folium.vector_layers.CircleMarker at 0x7fecac0b0ef0>,\n",
       " <folium.vector_layers.CircleMarker at 0x7fecac0c6048>,\n",
       " <folium.vector_layers.CircleMarker at 0x7fecac3080f0>,\n",
       " <folium.vector_layers.CircleMarker at 0x7fecac31de10>,\n",
       " <folium.vector_layers.CircleMarker at 0x7fecac31d518>,\n",
       " <folium.vector_layers.CircleMarker at 0x7fecac31dd68>,\n",
       " <folium.vector_layers.CircleMarker at 0x7fecac0b0fd0>,\n",
       " <folium.vector_layers.CircleMarker at 0x7fecac0b0e80>,\n",
       " <folium.vector_layers.CircleMarker at 0x7fecac0b05c0>,\n",
       " <folium.vector_layers.CircleMarker at 0x7fecac0b0d30>,\n",
       " <folium.vector_layers.CircleMarker at 0x7fecac0b01d0>,\n",
       " <folium.vector_layers.CircleMarker at 0x7fecac0b0438>,\n",
       " <folium.vector_layers.CircleMarker at 0x7fecac0b0780>,\n",
       " <folium.vector_layers.CircleMarker at 0x7fecac0b0160>,\n",
       " <folium.vector_layers.CircleMarker at 0x7fecac0b0ba8>,\n",
       " <folium.vector_layers.CircleMarker at 0x7fecac0b0898>,\n",
       " <folium.vector_layers.CircleMarker at 0x7fecac0c6128>,\n",
       " <folium.vector_layers.CircleMarker at 0x7fecac0c6278>,\n",
       " <folium.vector_layers.CircleMarker at 0x7fecac0c62e8>,\n",
       " <folium.vector_layers.CircleMarker at 0x7fecac0c6390>,\n",
       " <folium.vector_layers.CircleMarker at 0x7fecac0c6438>,\n",
       " <folium.vector_layers.CircleMarker at 0x7fecac0c64e0>,\n",
       " <folium.vector_layers.CircleMarker at 0x7fecac0c6588>,\n",
       " <folium.vector_layers.CircleMarker at 0x7fecac0c6630>,\n",
       " <folium.vector_layers.CircleMarker at 0x7fecac0b0f98>,\n",
       " <folium.vector_layers.CircleMarker at 0x7fecac0b0a58>,\n",
       " <folium.vector_layers.CircleMarker at 0x7fecac0b0c18>,\n",
       " <folium.vector_layers.CircleMarker at 0x7fecac0b0710>,\n",
       " <folium.vector_layers.CircleMarker at 0x7fecac0b0588>,\n",
       " <folium.vector_layers.CircleMarker at 0x7fecac308470>,\n",
       " <folium.vector_layers.CircleMarker at 0x7fecac0b0630>,\n",
       " <folium.vector_layers.CircleMarker at 0x7fecac31d860>,\n",
       " <folium.vector_layers.CircleMarker at 0x7fecac31d978>,\n",
       " <folium.vector_layers.CircleMarker at 0x7fecac0c6470>,\n",
       " <folium.vector_layers.CircleMarker at 0x7fecac0c64a8>,\n",
       " <folium.vector_layers.CircleMarker at 0x7fecac0c6358>,\n",
       " <folium.vector_layers.CircleMarker at 0x7fecac0c61d0>,\n",
       " <folium.vector_layers.CircleMarker at 0x7fecac0c66d8>,\n",
       " <folium.vector_layers.CircleMarker at 0x7fecac0c65c0>,\n",
       " <folium.vector_layers.CircleMarker at 0x7fecac0c67f0>,\n",
       " <folium.vector_layers.CircleMarker at 0x7fecac0c6828>,\n",
       " <folium.vector_layers.CircleMarker at 0x7fecac0c68d0>,\n",
       " <folium.vector_layers.CircleMarker at 0x7fecac0c6978>,\n",
       " <folium.vector_layers.CircleMarker at 0x7fecac0c6a20>,\n",
       " <folium.vector_layers.CircleMarker at 0x7fecac0c6ac8>,\n",
       " <folium.vector_layers.CircleMarker at 0x7fecac0c6b70>,\n",
       " <folium.vector_layers.CircleMarker at 0x7fecac31dc50>,\n",
       " <folium.vector_layers.CircleMarker at 0x7fecac0b0a20>,\n",
       " <folium.vector_layers.CircleMarker at 0x7fecac0b08d0>,\n",
       " <folium.vector_layers.CircleMarker at 0x7fecac0b0b70>,\n",
       " <folium.vector_layers.CircleMarker at 0x7fecac0b0860>,\n",
       " <folium.vector_layers.CircleMarker at 0x7fecac0b0320>,\n",
       " <folium.vector_layers.CircleMarker at 0x7fecac0c6a90>,\n",
       " <folium.vector_layers.CircleMarker at 0x7fecac0c6940>,\n",
       " <folium.vector_layers.CircleMarker at 0x7fecac0c6748>,\n",
       " <folium.vector_layers.CircleMarker at 0x7fecac0c67b8>,\n",
       " <folium.vector_layers.CircleMarker at 0x7fecac0c62b0>,\n",
       " <folium.vector_layers.CircleMarker at 0x7fecac0c60b8>,\n",
       " <folium.vector_layers.CircleMarker at 0x7fecac0c6550>,\n",
       " <folium.vector_layers.CircleMarker at 0x7fecac0c6c18>,\n",
       " <folium.vector_layers.CircleMarker at 0x7fecac0c6b00>,\n",
       " <folium.vector_layers.CircleMarker at 0x7fecac0c6d30>,\n",
       " <folium.vector_layers.CircleMarker at 0x7fecac0c6d68>,\n",
       " <folium.vector_layers.CircleMarker at 0x7fecac0c6e10>,\n",
       " <folium.vector_layers.CircleMarker at 0x7fecac0c6eb8>,\n",
       " <folium.vector_layers.CircleMarker at 0x7fecac0c6f60>,\n",
       " <folium.vector_layers.CircleMarker at 0x7fecac0c6ef0>,\n",
       " <folium.vector_layers.CircleMarker at 0x7fecac0d9048>,\n",
       " <folium.vector_layers.CircleMarker at 0x7fecac0c69b0>,\n",
       " <folium.vector_layers.CircleMarker at 0x7fecac0c6f28>,\n",
       " <folium.vector_layers.CircleMarker at 0x7fecac0c6c88>,\n",
       " <folium.vector_layers.CircleMarker at 0x7fecac0c6cf8>,\n",
       " <folium.vector_layers.CircleMarker at 0x7fecac0c6518>,\n",
       " <folium.vector_layers.CircleMarker at 0x7fecac0c6400>,\n",
       " <folium.vector_layers.CircleMarker at 0x7fecac0c6780>,\n",
       " <folium.vector_layers.CircleMarker at 0x7fecac0c6198>,\n",
       " <folium.vector_layers.CircleMarker at 0x7fecac0c6668>,\n",
       " <folium.vector_layers.CircleMarker at 0x7fecac0c6908>,\n",
       " <folium.vector_layers.CircleMarker at 0x7fecac31dcc0>,\n",
       " <folium.vector_layers.CircleMarker at 0x7fecac0b0d68>,\n",
       " <folium.vector_layers.CircleMarker at 0x7fecac0b04e0>,\n",
       " <folium.vector_layers.CircleMarker at 0x7fecac0b0cf8>,\n",
       " <folium.vector_layers.CircleMarker at 0x7fecac0d9160>,\n",
       " <folium.vector_layers.CircleMarker at 0x7fecac0d92b0>,\n",
       " <folium.vector_layers.CircleMarker at 0x7fecac0d92e8>,\n",
       " <folium.vector_layers.CircleMarker at 0x7fecac0d9390>,\n",
       " <folium.vector_layers.CircleMarker at 0x7fecac0d9438>,\n",
       " <folium.vector_layers.CircleMarker at 0x7fecac0d94e0>,\n",
       " <folium.vector_layers.CircleMarker at 0x7fecac0d9588>,\n",
       " <folium.vector_layers.CircleMarker at 0x7fecac0d9630>,\n",
       " <folium.vector_layers.CircleMarker at 0x7fecac31d438>,\n",
       " <folium.vector_layers.CircleMarker at 0x7fecac0b0f28>,\n",
       " <folium.vector_layers.CircleMarker at 0x7fecac0c69e8>,\n",
       " <folium.vector_layers.CircleMarker at 0x7fecac0c6898>,\n",
       " <folium.vector_layers.CircleMarker at 0x7fecac0c6320>,\n",
       " <folium.vector_layers.CircleMarker at 0x7fecac0c6ba8>,\n",
       " <folium.vector_layers.CircleMarker at 0x7fecac0c65f8>,\n",
       " <folium.vector_layers.CircleMarker at 0x7fecac0c6da0>,\n",
       " <folium.vector_layers.CircleMarker at 0x7fecac0c6cc0>,\n",
       " <folium.vector_layers.CircleMarker at 0x7fecac0d9550>,\n",
       " <folium.vector_layers.CircleMarker at 0x7fecac0d9400>,\n",
       " <folium.vector_layers.CircleMarker at 0x7fecac0d9198>,\n",
       " <folium.vector_layers.CircleMarker at 0x7fecac0d9240>,\n",
       " <folium.vector_layers.CircleMarker at 0x7fecac0d96d8>,\n",
       " <folium.vector_layers.CircleMarker at 0x7fecac0d95c0>,\n",
       " <folium.vector_layers.CircleMarker at 0x7fecac0d97f0>,\n",
       " <folium.vector_layers.CircleMarker at 0x7fecac0d9828>,\n",
       " <folium.vector_layers.CircleMarker at 0x7fecac0d98d0>,\n",
       " <folium.vector_layers.CircleMarker at 0x7fecac0d9978>,\n",
       " <folium.vector_layers.CircleMarker at 0x7fecac0d9a20>,\n",
       " <folium.vector_layers.CircleMarker at 0x7fecac0d9ac8>,\n",
       " <folium.vector_layers.CircleMarker at 0x7fecac0c6710>,\n",
       " <folium.vector_layers.CircleMarker at 0x7fecac0c63c8>,\n",
       " <folium.vector_layers.CircleMarker at 0x7fecac0c6240>,\n",
       " <folium.vector_layers.CircleMarker at 0x7fecac0c6dd8>,\n",
       " <folium.vector_layers.CircleMarker at 0x7fecac0c66a0>,\n",
       " <folium.vector_layers.CircleMarker at 0x7fecac308668>,\n",
       " <folium.vector_layers.CircleMarker at 0x7fecac0c6b38>,\n",
       " <folium.vector_layers.CircleMarker at 0x7fecac0b0e48>,\n",
       " <folium.vector_layers.CircleMarker at 0x7fecac0b0e10>,\n",
       " <folium.vector_layers.CircleMarker at 0x7fecac31d0b8>,\n",
       " <folium.vector_layers.CircleMarker at 0x7fecac31d278>,\n",
       " <folium.vector_layers.CircleMarker at 0x7fecac0d9b70>,\n",
       " <folium.vector_layers.CircleMarker at 0x7fecac0d99e8>,\n",
       " <folium.vector_layers.CircleMarker at 0x7fecac0d9898>,\n",
       " <folium.vector_layers.CircleMarker at 0x7fecac0d9128>,\n",
       " <folium.vector_layers.CircleMarker at 0x7fecac0d9710>,\n",
       " <folium.vector_layers.CircleMarker at 0x7fecac0d9320>,\n",
       " <folium.vector_layers.CircleMarker at 0x7fecac0d9358>,\n",
       " <folium.vector_layers.CircleMarker at 0x7fecac0d95f8>,\n",
       " <folium.vector_layers.CircleMarker at 0x7fecac0d9ba8>,\n",
       " <folium.vector_layers.CircleMarker at 0x7fecac0d9c50>,\n",
       " <folium.vector_layers.CircleMarker at 0x7fecac0d9470>,\n",
       " <folium.vector_layers.CircleMarker at 0x7fecac0d9d30>,\n",
       " <folium.vector_layers.CircleMarker at 0x7fecac0b0470>,\n",
       " <folium.vector_layers.CircleMarker at 0x7fecac0b0278>,\n",
       " <folium.vector_layers.CircleMarker at 0x7fecac31d7b8>,\n",
       " <folium.vector_layers.CircleMarker at 0x7fecac0c60f0>,\n",
       " <folium.vector_layers.CircleMarker at 0x7fecac0c6be0>,\n",
       " <folium.vector_layers.CircleMarker at 0x7fecac0c6a58>,\n",
       " <folium.vector_layers.CircleMarker at 0x7fecac0c6860>,\n",
       " <folium.vector_layers.CircleMarker at 0x7fecac0d9a58>,\n",
       " <folium.vector_layers.CircleMarker at 0x7fecac0d9c18>,\n",
       " <folium.vector_layers.CircleMarker at 0x7fecac0d94a8>,\n",
       " <folium.vector_layers.CircleMarker at 0x7fecac0d9748>,\n",
       " <folium.vector_layers.CircleMarker at 0x7fecac0d9208>,\n",
       " <folium.vector_layers.CircleMarker at 0x7fecac0d9780>,\n",
       " <folium.vector_layers.CircleMarker at 0x7fecac0d9be0>,\n",
       " <folium.vector_layers.CircleMarker at 0x7fecac0d9e48>,\n",
       " <folium.vector_layers.CircleMarker at 0x7fecac0d9e80>,\n",
       " <folium.vector_layers.CircleMarker at 0x7fecac0d9d68>,\n",
       " <folium.vector_layers.CircleMarker at 0x7fecac0d9f60>,\n",
       " <folium.vector_layers.CircleMarker at 0x7fecac0d9908>,\n",
       " <folium.vector_layers.CircleMarker at 0x7fecabd32048>,\n",
       " <folium.vector_layers.CircleMarker at 0x7fecabd32160>,\n",
       " <folium.vector_layers.CircleMarker at 0x7fecabd32240>,\n",
       " <folium.vector_layers.CircleMarker at 0x7fecac2f2080>,\n",
       " <folium.vector_layers.CircleMarker at 0x7fecac0b0978>,\n",
       " <folium.vector_layers.CircleMarker at 0x7fecac0c6208>,\n",
       " <folium.vector_layers.CircleMarker at 0x7fecac0c6f98>,\n",
       " <folium.vector_layers.CircleMarker at 0x7fecac0d9fd0>,\n",
       " <folium.vector_layers.CircleMarker at 0x7fecac0d9ef0>,\n",
       " <folium.vector_layers.CircleMarker at 0x7fecac0d9860>,\n",
       " <folium.vector_layers.CircleMarker at 0x7fecac0d9a90>,\n",
       " <folium.vector_layers.CircleMarker at 0x7fecac0d9278>,\n",
       " <folium.vector_layers.CircleMarker at 0x7fecac31dcf8>,\n",
       " <folium.vector_layers.CircleMarker at 0x7fecac0d93c8>,\n",
       " <folium.vector_layers.CircleMarker at 0x7fecac0d9da0>,\n",
       " <folium.vector_layers.CircleMarker at 0x7fecac0d97b8>,\n",
       " <folium.vector_layers.CircleMarker at 0x7fecabd32208>,\n",
       " <folium.vector_layers.CircleMarker at 0x7fecabd322e8>,\n",
       " <folium.vector_layers.CircleMarker at 0x7fecabd32390>,\n",
       " <folium.vector_layers.CircleMarker at 0x7fecabd32278>,\n",
       " <folium.vector_layers.CircleMarker at 0x7fecabd32470>,\n",
       " <folium.vector_layers.CircleMarker at 0x7fecabd32518>,\n",
       " <folium.vector_layers.CircleMarker at 0x7fecabd325c0>,\n",
       " <folium.vector_layers.CircleMarker at 0x7fecabd32668>,\n",
       " <folium.vector_layers.CircleMarker at 0x7fecac31df60>,\n",
       " <folium.vector_layers.CircleMarker at 0x7fecac0d91d0>,\n",
       " <folium.vector_layers.CircleMarker at 0x7fecac0d9dd8>,\n",
       " <folium.vector_layers.CircleMarker at 0x7fecac0b02e8>,\n",
       " <folium.vector_layers.CircleMarker at 0x7fecac0d9eb8>,\n",
       " <folium.vector_layers.CircleMarker at 0x7fecac0d9c88>,\n",
       " <folium.vector_layers.CircleMarker at 0x7fecac0d9cc0>,\n",
       " <folium.vector_layers.CircleMarker at 0x7fecac0c6080>,\n",
       " <folium.vector_layers.CircleMarker at 0x7fecac0c6e80>,\n",
       " <folium.vector_layers.CircleMarker at 0x7fecabd32710>,\n",
       " <folium.vector_layers.CircleMarker at 0x7fecabd32588>,\n",
       " <folium.vector_layers.CircleMarker at 0x7fecabd32438>,\n",
       " <folium.vector_layers.CircleMarker at 0x7fecabd32198>,\n",
       " <folium.vector_layers.CircleMarker at 0x7fecabd321d0>,\n",
       " <folium.vector_layers.CircleMarker at 0x7fecabd325f8>,\n",
       " <folium.vector_layers.CircleMarker at 0x7fecabd32828>,\n",
       " <folium.vector_layers.CircleMarker at 0x7fecabd32860>,\n",
       " <folium.vector_layers.CircleMarker at 0x7fecabd32908>,\n",
       " <folium.vector_layers.CircleMarker at 0x7fecabd329b0>,\n",
       " <folium.vector_layers.CircleMarker at 0x7fecabd32a58>,\n",
       " <folium.vector_layers.CircleMarker at 0x7fecabd32b00>,\n",
       " <folium.vector_layers.CircleMarker at 0x7fecabd32ba8>,\n",
       " <folium.vector_layers.CircleMarker at 0x7fecac0b0c50>,\n",
       " <folium.vector_layers.CircleMarker at 0x7fecac0c6c50>,\n",
       " <folium.vector_layers.CircleMarker at 0x7fecac31d080>,\n",
       " <folium.vector_layers.CircleMarker at 0x7fecac0d9940>,\n",
       " <folium.vector_layers.CircleMarker at 0x7fecac0d9518>,\n",
       " <folium.vector_layers.CircleMarker at 0x7fecac0d9f98>,\n",
       " <folium.vector_layers.CircleMarker at 0x7fecabd32ac8>,\n",
       " <folium.vector_layers.CircleMarker at 0x7fecabd32978>,\n",
       " <folium.vector_layers.CircleMarker at 0x7fecabd322b0>,\n",
       " <folium.vector_layers.CircleMarker at 0x7fecabd327f0>,\n",
       " <folium.vector_layers.CircleMarker at 0x7fecabd323c8>,\n",
       " <folium.vector_layers.CircleMarker at 0x7fecabd32400>,\n",
       " <folium.vector_layers.CircleMarker at 0x7fecabd32630>,\n",
       " <folium.vector_layers.CircleMarker at 0x7fecabd32c50>,\n",
       " <folium.vector_layers.CircleMarker at 0x7fecabd32b38>,\n",
       " <folium.vector_layers.CircleMarker at 0x7fecabd32d68>,\n",
       " <folium.vector_layers.CircleMarker at 0x7fecabd32da0>,\n",
       " <folium.vector_layers.CircleMarker at 0x7fecabd32e48>,\n",
       " <folium.vector_layers.CircleMarker at 0x7fecabd32ef0>,\n",
       " <folium.vector_layers.CircleMarker at 0x7fecabd32f98>,\n",
       " <folium.vector_layers.CircleMarker at 0x7fecabd32f28>,\n",
       " <folium.vector_layers.CircleMarker at 0x7fecabd460b8>,\n",
       " <folium.vector_layers.CircleMarker at 0x7fecabd329e8>,\n",
       " <folium.vector_layers.CircleMarker at 0x7fecabd32be0>,\n",
       " <folium.vector_layers.CircleMarker at 0x7fecabd324a8>,\n",
       " <folium.vector_layers.CircleMarker at 0x7fecabd32358>,\n",
       " <folium.vector_layers.CircleMarker at 0x7fecabd32a90>,\n",
       " <folium.vector_layers.CircleMarker at 0x7fecabd320f0>]"
      ]
     },
     "execution_count": 206,
     "metadata": {},
     "output_type": "execute_result"
    }
   ],
   "source": [
    "map_with_markers"
   ]
  },
  {
   "cell_type": "markdown",
   "metadata": {},
   "source": [
    "### Using Nearest Neighbors"
   ]
  },
  {
   "cell_type": "markdown",
   "metadata": {},
   "source": [
    "Ok, let's write a function that given a latitude and longitude will predict the distance for us.  We'll do this by first finding the nearest trips given a latitude and longitude. "
   ]
  },
  {
   "cell_type": "markdown",
   "metadata": {},
   "source": [
    "Here we once again apply the nearest neighbors formula. As a first step, write a function named `distance_location` that calculates the distance in pickup location between two trips."
   ]
  },
  {
   "cell_type": "code",
   "execution_count": 137,
   "metadata": {},
   "outputs": [],
   "source": [
    "import math\n",
    "\n",
    "def distance_location(selected_trip, neighbor_trip):\n",
    "    a = abs(selected_trip['pickup_latitude'] - neighbor_trip['pickup_latitude'])\n",
    "    b = abs(selected_trip['pickup_longitude'] - neighbor_trip['pickup_longitude'])\n",
    "    \n",
    "    return math.sqrt(a**2 + b**2)"
   ]
  },
  {
   "cell_type": "code",
   "execution_count": 138,
   "metadata": {},
   "outputs": [
    {
     "name": "stdout",
     "output_type": "stream",
     "text": [
      "40.64499\n"
     ]
    }
   ],
   "source": [
    "print(first_trip['pickup_latitude'])"
   ]
  },
  {
   "cell_type": "code",
   "execution_count": 166,
   "metadata": {},
   "outputs": [
    {
     "data": {
      "text/plain": [
       "0.235"
      ]
     },
     "execution_count": 166,
     "metadata": {},
     "output_type": "execute_result"
    }
   ],
   "source": [
    "first_trip = {'pickup_latitude': 40.64499, 'pickup_longitude': -73.78115, 'trip_distance': 18.38}\n",
    "second_trip = {'pickup_latitude': 40.766931, 'pickup_longitude': -73.982098, 'trip_distance': 1.3}\n",
    "distance_first_and_second = distance_location(first_trip, second_trip)\n",
    "\n",
    "distance_first_and_second and round(distance_first_and_second, 3) # 0.235"
   ]
  },
  {
   "cell_type": "code",
   "execution_count": null,
   "metadata": {},
   "outputs": [],
   "source": []
  },
  {
   "cell_type": "markdown",
   "metadata": {},
   "source": [
    "Ok, next write a function called `distance_between_neighbors` that adds a new key-value pair, called `distance_from_selected`, that calculates the distance of the `neighbor_trip` from the `selected_trip`."
   ]
  },
  {
   "cell_type": "code",
   "execution_count": 150,
   "metadata": {},
   "outputs": [],
   "source": [
    "def distance_between_neighbors(selected_trip, neighbor_trip):\n",
    "    neighbor_trip['distance_from_selected'] = distance_location(selected_trip, neighbor_trip)\n",
    "    \n",
    "    return neighbor_trip"
   ]
  },
  {
   "cell_type": "code",
   "execution_count": 151,
   "metadata": {},
   "outputs": [
    {
     "data": {
      "text/plain": [
       "{'pickup_latitude': 40.766931,\n",
       " 'pickup_longitude': -73.982098,\n",
       " 'trip_distance': 1.3,\n",
       " 'distance_from_selected': 0.23505256047318146}"
      ]
     },
     "execution_count": 151,
     "metadata": {},
     "output_type": "execute_result"
    }
   ],
   "source": [
    "distance_between_neighbors(first_trip, second_trip)\n",
    "\n",
    "# {'distance_from_selected': 0.23505256047318146,\n",
    "#  'pickup_latitude': 40.766931,\n",
    "#  'pickup_longitude': -73.982098,\n",
    "#  'trip_distance': 1.3}"
   ]
  },
  {
   "cell_type": "markdown",
   "metadata": {},
   "source": [
    "Ok, now our `neighbor_trip` has another attribute called `distance_from_selected`, that indicates the distance from the `neighbor_trip`'s pickup location from the `selected_trip`."
   ]
  },
  {
   "cell_type": "markdown",
   "metadata": {},
   "source": [
    "> ** Understand the data:** Our dictionary now has a few attributes, two of which say distance.  Let's make sure we understand the difference. \n",
    "> * **`distance_from_selected`:** This is our calculation of the distance of the neighbor's pickup location from the selected trip.\n",
    "> * **`trip_distance`:** This is the attribute we were provided initially.  It tells us the length of the neighbor's taxi trip from pickup to drop-off.  "
   ]
  },
  {
   "cell_type": "markdown",
   "metadata": {},
   "source": [
    "Next, write a function called `distance_all` that provided a list of neighbors, returns each of those neighbors with their respective `distance_from_selected` numbers."
   ]
  },
  {
   "cell_type": "code",
   "execution_count": 164,
   "metadata": {},
   "outputs": [],
   "source": [
    "def distance_all(selected_individual, neighbors):\n",
    "    \n",
    "    remaing_neighbors = list(filter(lambda neighbor: neighbor != selected_individual, neighbors))\n",
    "    return list(map(lambda neighbor: distance_between_neighbors(selected_individual, neighbor), remaing_neighbors))"
   ]
  },
  {
   "cell_type": "code",
   "execution_count": 165,
   "metadata": {},
   "outputs": [
    {
     "data": {
      "text/plain": [
       "[{'pickup_longitude': -73.78115,\n",
       "  'pickup_latitude': 40.64499,\n",
       "  'trip_distance': 18.38,\n",
       "  'distance_between_selected': 0.0,\n",
       "  'distance_from_selected': 0.0},\n",
       " {'pickup_longitude': -73.982098,\n",
       "  'pickup_latitude': 40.766931,\n",
       "  'trip_distance': 1.3,\n",
       "  'distance_between_selected': 0.23505256047318146,\n",
       "  'distance_from_selected': 0.23505256047318146},\n",
       " {'pickup_longitude': -73.951902,\n",
       "  'pickup_latitude': 40.77773,\n",
       "  'trip_distance': 4.5,\n",
       "  'distance_between_selected': 0.2162779533470808,\n",
       "  'distance_from_selected': 0.2162779533470808},\n",
       " {'pickup_longitude': -73.971049,\n",
       "  'pickup_latitude': 40.795678,\n",
       "  'trip_distance': 2.4,\n",
       "  'distance_between_selected': 0.24242215976473674,\n",
       "  'distance_from_selected': 0.24242215976473674}]"
      ]
     },
     "execution_count": 165,
     "metadata": {},
     "output_type": "execute_result"
    }
   ],
   "source": [
    "cleaned_trips and distance_all(first_trip, cleaned_trips[0:4])"
   ]
  },
  {
   "cell_type": "markdown",
   "metadata": {},
   "source": [
    "Now write the nearest neighbors formula to calculate the distance of the `selected_trip` from all of the `cleaned_trips` in our dataset.  If no number is provided, it should return the top 3 neighbors."
   ]
  },
  {
   "cell_type": "code",
   "execution_count": 162,
   "metadata": {},
   "outputs": [],
   "source": [
    "def nearest_neighbors(selected_trip, trips, number = 3):\n",
    "    \n",
    "    neighbor_distances = distance_all(selected_trip, trips)\n",
    "    sorted_neighbor_distances = sorted(neighbor_distances, key=lambda neighbor: neighbor['distance_from_selected'])\n",
    "    \n",
    "    return sorted_neighbor_distances[:number]"
   ]
  },
  {
   "cell_type": "code",
   "execution_count": 163,
   "metadata": {},
   "outputs": [
    {
     "data": {
      "text/plain": [
       "[{'pickup_longitude': -73.78115,\n",
       "  'pickup_latitude': 40.64499,\n",
       "  'trip_distance': 18.38,\n",
       "  'distance_between_selected': 0.0,\n",
       "  'distance_from_selected': 0.0},\n",
       " {'pickup_longitude': -73.781578,\n",
       "  'pickup_latitude': 40.64483,\n",
       "  'trip_distance': 7.78,\n",
       "  'distance_between_selected': 0.0004569288784918792,\n",
       "  'distance_from_selected': 0.0004569288784918792},\n",
       " {'pickup_longitude': -73.782229,\n",
       "  'pickup_latitude': 40.644657,\n",
       "  'trip_distance': 12.7,\n",
       "  'distance_between_selected': 0.0011292165425673159,\n",
       "  'distance_from_selected': 0.0011292165425673159}]"
      ]
     },
     "execution_count": 163,
     "metadata": {},
     "output_type": "execute_result"
    }
   ],
   "source": [
    "new_trip = {'pickup_latitude': 40.64499,\n",
    "'pickup_longitude': -73.78115,\n",
    "'trip_distance': 18.38}\n",
    "\n",
    "nearest_three_neighbors = nearest_neighbors(new_trip, cleaned_trips or [], number = 3)\n",
    "nearest_three_neighbors\n",
    "# [{'distance_from_selected': 0.0004569288784918792,\n",
    "#   'pickup_latitude': 40.64483,\n",
    "#   'pickup_longitude': -73.781578,\n",
    "#   'trip_distance': 7.78},\n",
    "#  {'distance_from_selected': 0.0011292165425673159,\n",
    "#   'pickup_latitude': 40.644657,\n",
    "#   'pickup_longitude': -73.782229,\n",
    "#   'trip_distance': 12.7},\n",
    "#  {'distance_from_selected': 0.0042359798158141185,\n",
    "#   'pickup_latitude': 40.648509,\n",
    "#   'pickup_longitude': -73.783508,\n",
    "#   'trip_distance': 17.3}]"
   ]
  },
  {
   "cell_type": "markdown",
   "metadata": {},
   "source": [
    "Ok great! Now that we can provide a new trip location, and find the distances of the three nearest trips, we can take  calculate an estimate of the trip distance for that new trip location.  \n",
    "\n",
    "We do so simply by calculating the average of it's nearest neighbors."
   ]
  },
  {
   "cell_type": "code",
   "execution_count": null,
   "metadata": {},
   "outputs": [],
   "source": [
    "import statistics\n",
    "def mean_distance(neighbors):\n",
    "    nearest_distances = list(map(lambda neighbor: neighbor['trip_distance'], neighbors))\n",
    "    return round(statistics.mean(nearest_distances), 3)\n",
    "\n",
    "nearest_three_neighbors = nearest_neighbors(new_trip, cleaned_trips or [], number = 3)\n",
    "distance_estimate_of_selected_trip = mean_distance(nearest_three_neighbors) # 12.593\n",
    "distance_estimate_of_selected_trip"
   ]
  },
  {
   "cell_type": "markdown",
   "metadata": {},
   "source": [
    "### Choosing the correct number of neighbors"
   ]
  },
  {
   "cell_type": "markdown",
   "metadata": {},
   "source": [
    "Now, as we know from the last lesson, one tricky element is to determine how many neighbors to choose, our $k$ value,  before calculating the average.  We want to choose our value of $k$ such that it properly matches actual data, and so that it applies to new data.  There are fancy formulas to ensure that we **train** our algorithm so that our formula is optimized for all data, but here let's see different $k$ values manually.  This is the gist of choosing our $k$ value:\n",
    "\n",
    "* If we choose a $k$ value too low, our formula will be too heavily influenced by a single neighbor, whereas if our $k$ value is too high, we will be choosing so many neighbors that our nearest neighbors formula will not be adjust enough according to locations.\n",
    "\n",
    "Ok, let's experiment with this."
   ]
  },
  {
   "cell_type": "markdown",
   "metadata": {},
   "source": [
    "First, let's choose a midtown location, to see what the trip distance would be.  A Google search reveals the coordinates of 51st and 7th avenue to be the following."
   ]
  },
  {
   "cell_type": "code",
   "execution_count": null,
   "metadata": {},
   "outputs": [],
   "source": [
    "midtown_trip = dict(pickup_latitude=40.761710, pickup_longitude=-73.982760)"
   ]
  },
  {
   "cell_type": "code",
   "execution_count": null,
   "metadata": {},
   "outputs": [],
   "source": [
    "seven_closest = nearest_neighbors(midtown_trip, cleaned_trips, number = 7)\n",
    "seven_closest\n",
    "# [{'trip_distance': 0.58,\n",
    "#   'pickup_latitude': 40.761372,\n",
    "#   'pickup_longitude': -73.982602,\n",
    "#   'distance_from_selected': 0.00037310588309379025},\n",
    "#  {'trip_distance': 0.8,\n",
    "#   'pickup_latitude': 40.762444,\n",
    "#   'pickup_longitude': -73.98244,\n",
    "#   'distance_from_selected': 0.00080072217404248},\n",
    "#  {'trip_distance': 1.4,\n",
    "#   'pickup_latitude': 40.762767,\n",
    "#   'pickup_longitude': -73.982293,\n",
    "#   'distance_from_selected': 0.0011555682584735844},\n",
    "#  {'trip_distance': 8.3,\n",
    "#   'pickup_latitude': 40.762868,\n",
    "#   'pickup_longitude': -73.983233,\n",
    "#   'distance_from_selected': 0.0012508768924205918},\n",
    "#  {'trip_distance': 1.26,\n",
    "#   'pickup_latitude': 40.760057,\n",
    "#   'pickup_longitude': -73.983502,\n",
    "#   'distance_from_selected': 0.0018118976240381972},\n",
    "#  {'trip_distance': 0.0,\n",
    "#   'pickup_latitude': 40.760644,\n",
    "#   'pickup_longitude': -73.984531,\n",
    "#   'distance_from_selected': 0.002067074502774709},\n",
    "#  {'trip_distance': 1.72,\n",
    "#   'pickup_latitude': 40.762107,\n",
    "#   'pickup_longitude': -73.98479,\n",
    "#   'distance_from_selected': 0.0020684557041472677}]"
   ]
  },
  {
   "cell_type": "markdown",
   "metadata": {},
   "source": [
    "Looking at the `distance_from_selected` it appears that our our trips are still fairly close to our selected trip.  Notice that most of the data is within a distance of .002 away, so going to the top 7 nearest neighbors didn't seem to give us neighbors too far from each other, which is a good sign.\n",
    "\n",
    "Still, it's hard to know what distance in latitude and longitude really look like, so let's map the data. "
   ]
  },
  {
   "cell_type": "code",
   "execution_count": null,
   "metadata": {},
   "outputs": [],
   "source": [
    "midtown_location = location(midtown_trip) # [40.76171, -73.98276]\n",
    "midtown_map = map_from(midtown_location, 16)\n",
    "closest_markers = markers_from_trips(seven_closest)\n",
    "\n",
    "add_markers(closest_markers, midtown_map)"
   ]
  },
  {
   "cell_type": "markdown",
   "metadata": {},
   "source": [
    "Ok.  These locations stay fairly close to our estimated location of 51st street and 7th Avenue.  So they could be a good estimate of a trip distance."
   ]
  },
  {
   "cell_type": "code",
   "execution_count": null,
   "metadata": {},
   "outputs": [],
   "source": [
    "mean_distance(seven_closest) # 2.009"
   ]
  },
  {
   "cell_type": "markdown",
   "metadata": {},
   "source": [
    "Ok, now let's try a different location"
   ]
  },
  {
   "cell_type": "code",
   "execution_count": null,
   "metadata": {},
   "outputs": [],
   "source": [
    "charging_bull_closest = nearest_neighbors({'pickup_latitude': 40.7049, 'pickup_longitude': -74.0137}, cleaned_trips, number = 12)"
   ]
  },
  {
   "cell_type": "code",
   "execution_count": null,
   "metadata": {
    "scrolled": true
   },
   "outputs": [],
   "source": [
    "mean_distance(charging_bull_closest) # 3.145"
   ]
  },
  {
   "cell_type": "markdown",
   "metadata": {},
   "source": [
    "Ok, so there appears to be a significant difference between choosing a location near Times Square versus choosing a location at Wall Street."
   ]
  },
  {
   "cell_type": "markdown",
   "metadata": {},
   "source": [
    "### Summary"
   ]
  },
  {
   "cell_type": "markdown",
   "metadata": {},
   "source": [
    "In this lab, we used the nearest neighbors function to predict the length of a taxi ride.  To do so, we selected a location, then found a number of taxi rides closest to that location, and finally took the average trip lengths of the nearest taxi rides to find an estimate of the new ride's trip length.  You can see that even with just a little bit of math and programming we can begin to make meaningful predictions with data."
   ]
  }
 ],
 "metadata": {
  "kernelspec": {
   "display_name": "Python 3",
   "language": "python",
   "name": "python3"
  },
  "language_info": {
   "codemirror_mode": {
    "name": "ipython",
    "version": 3
   },
   "file_extension": ".py",
   "mimetype": "text/x-python",
   "name": "python",
   "nbconvert_exporter": "python",
   "pygments_lexer": "ipython3",
   "version": "3.6.6"
  }
 },
 "nbformat": 4,
 "nbformat_minor": 2
}
