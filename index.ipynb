{
 "cells": [
  {
   "cell_type": "markdown",
   "metadata": {},
   "source": [
    "# Nearest Neighbors Lab"
   ]
  },
  {
   "cell_type": "markdown",
   "metadata": {},
   "source": [
    "### Introduction\n",
    "\n",
    "In this lab, you apply nearest neighbors technique to help a taxi company predict the length of their rides.  Imagine that we are hired to consult for LiftOff, a limo and taxi service that is just opening up in NYC.  Liftoff wants it's taxi drivers to target longer rides, as the longer the ride the more money it makes.  LiftOff has the following theory:\n",
    "\n",
    "* the pickup location of a taxi ride can help predict the length of the ride.  \n",
    "\n",
    "\n",
    "\n",
    "LiftOff asks us to do some analysis to write a function that will allow it to **predict the length of a taxi ride for any given location **.\n",
    "\n",
    "Our technique will be the following:\n",
    "  * **Collect** Obtain the data containing all of the taxi information, and only select the attributes of taxi trips that we need \n",
    "  * ** Explore ** Examine the attributes of our data, and plot some of our data on a map\n",
    "  * ** Train ** Write our nearest neighbors formula, and change the number of nearby trips to predict the length of a new trip\n",
    "  * ** Predict ** Use our function to predict trip lengths of new locations"
   ]
  },
  {
   "cell_type": "markdown",
   "metadata": {},
   "source": [
    "### Collect and Explore the data"
   ]
  },
  {
   "cell_type": "markdown",
   "metadata": {},
   "source": [
    "#### Collect the Data"
   ]
  },
  {
   "cell_type": "markdown",
   "metadata": {},
   "source": [
    "Luckily for us, [NYC Open Data](https://opendata.cityofnewyork.us/) collects information about NYC taxi trips and provides this data on [its website](https://data.cityofnewyork.us/Transportation/2014-Yellow-Taxi-Trip-Data/gn7m-em8n)."
   ]
  },
  {
   "cell_type": "markdown",
   "metadata": {},
   "source": [
    "![](./nyc-taxi.png)"
   ]
  },
  {
   "cell_type": "markdown",
   "metadata": {},
   "source": [
    "For your reading pleasure, the data has already been downloaded into the [trips.json](https://github.com/learn-co-curriculum/nearest-neighbors-lab/blob/master/trips.json) file in this lab which you can find here.  We'll use Python's `json` library to take the data from the `trips.json` file and store it as a variable in our notebook."
   ]
  },
  {
   "cell_type": "code",
   "execution_count": 1,
   "metadata": {},
   "outputs": [],
   "source": [
    "import json\n",
    "# First, read the file\n",
    "trips_file = open('trips.json')\n",
    "# Then, convert contents to list of dictionaries \n",
    "trips = json.load(trips_file)"
   ]
  },
  {
   "cell_type": "markdown",
   "metadata": {},
   "source": [
    "> Press shift + enter"
   ]
  },
  {
   "cell_type": "markdown",
   "metadata": {},
   "source": [
    "#### Explore the data"
   ]
  },
  {
   "cell_type": "markdown",
   "metadata": {},
   "source": [
    "The next step is to explore the data.  First, let's see how many trips we have."
   ]
  },
  {
   "cell_type": "code",
   "execution_count": 2,
   "metadata": {},
   "outputs": [
    {
     "data": {
      "text/plain": [
       "1000"
      ]
     },
     "execution_count": 2,
     "metadata": {},
     "output_type": "execute_result"
    }
   ],
   "source": [
    "len(trips)"
   ]
  },
  {
   "cell_type": "markdown",
   "metadata": {},
   "source": [
    "Not bad at all.  Now let's see what each individual trip looks like.  Each trip is a dictionary, so we can see the attributes of each trip with the `keys` function."
   ]
  },
  {
   "cell_type": "code",
   "execution_count": 4,
   "metadata": {
    "scrolled": true
   },
   "outputs": [
    {
     "data": {
      "text/plain": [
       "dict_keys(['dropoff_datetime', 'dropoff_latitude', 'dropoff_longitude', 'fare_amount', 'imp_surcharge', 'mta_tax', 'passenger_count', 'payment_type', 'pickup_datetime', 'pickup_latitude', 'pickup_longitude', 'rate_code', 'tip_amount', 'tolls_amount', 'total_amount', 'trip_distance', 'vendor_id'])"
      ]
     },
     "execution_count": 4,
     "metadata": {},
     "output_type": "execute_result"
    }
   ],
   "source": [
    "trips[0].keys()"
   ]
  },
  {
   "cell_type": "code",
   "execution_count": 5,
   "metadata": {},
   "outputs": [
    {
     "data": {
      "text/plain": [
       "dict_items([('dropoff_datetime', '2014-11-26T22:31:00.000'), ('dropoff_latitude', '40.746769999999998'), ('dropoff_longitude', '-73.997450000000001'), ('fare_amount', '52'), ('imp_surcharge', '0'), ('mta_tax', '0.5'), ('passenger_count', '1'), ('payment_type', 'CSH'), ('pickup_datetime', '2014-11-26T21:59:00.000'), ('pickup_latitude', '40.64499'), ('pickup_longitude', '-73.781149999999997'), ('rate_code', '2'), ('tip_amount', '0'), ('tolls_amount', '5.3300000000000001'), ('total_amount', '57.829999999999998'), ('trip_distance', '18.379999999999999'), ('vendor_id', 'VTS')])"
      ]
     },
     "execution_count": 5,
     "metadata": {},
     "output_type": "execute_result"
    }
   ],
   "source": [
    "trips[0].items()"
   ]
  },
  {
   "cell_type": "code",
   "execution_count": 6,
   "metadata": {},
   "outputs": [
    {
     "data": {
      "text/plain": [
       "'-73.982097999999993'"
      ]
     },
     "execution_count": 6,
     "metadata": {},
     "output_type": "execute_result"
    }
   ],
   "source": [
    "trips[1]['pickup_longitude']"
   ]
  },
  {
   "cell_type": "markdown",
   "metadata": {},
   "source": [
    "#### Limit our data"
   ]
  },
  {
   "cell_type": "markdown",
   "metadata": {},
   "source": [
    "Ok, now that we have explored some of our data, let's begin to think through what data is relevant for our task."
   ]
  },
  {
   "cell_type": "markdown",
   "metadata": {
    "collapsed": true
   },
   "source": [
    "Remember that our task is to **use the trip location to predict the length of a trip**.  So let's select the `pickup_latitude`, `pickup_longitude`, and `trip_distance` from each trip.  That will give us the trip location and related `trip_distance` for each trip.  Then based on these **actual** trip distances we can use nearest neighbors to predict an **expected** trip distance for a trip, provided an **actual** location."
   ]
  },
  {
   "cell_type": "markdown",
   "metadata": {},
   "source": [
    "** Add in about trip distance ** "
   ]
  },
  {
   "cell_type": "markdown",
   "metadata": {},
   "source": [
    "Write a function called `parse_trips(trips)` that returns a list of the trips with only the following attributes: \n",
    "* `trip_distance`\n",
    "* `pickup_latitude`\n",
    "* `pickup_longitude`"
   ]
  },
  {
   "cell_type": "code",
   "execution_count": 7,
   "metadata": {},
   "outputs": [],
   "source": [
    "def parse_trips(trips):\n",
    "    \n",
    "    return list(map(lambda trip: {'pickup_latitude': trip['pickup_latitude'], 'pickup_longitude': trip['pickup_longitude'], 'trip_distance': trip['trip_distance']}, trips))\n",
    "\n",
    "\n"
   ]
  },
  {
   "cell_type": "code",
   "execution_count": 8,
   "metadata": {
    "scrolled": true
   },
   "outputs": [
    {
     "data": {
      "text/plain": [
       "{'pickup_latitude': '40.64499',\n",
       " 'pickup_longitude': '-73.781149999999997',\n",
       " 'trip_distance': '18.379999999999999'}"
      ]
     },
     "execution_count": 8,
     "metadata": {},
     "output_type": "execute_result"
    }
   ],
   "source": [
    "parsed_trips = parse_trips(trips)\n",
    "parsed_trips and parsed_trips[0]\n",
    "\n",
    "# {'pickup_latitude': '40.64499',\n",
    "#  'pickup_longitude': '-73.78115',\n",
    "#  'trip_distance': '18.38'}"
   ]
  },
  {
   "cell_type": "markdown",
   "metadata": {},
   "source": [
    "Now, there's just one change to make.  If you look at one of the trips, all of the values are strings.  Let's change them to be floats."
   ]
  },
  {
   "cell_type": "code",
   "execution_count": 9,
   "metadata": {},
   "outputs": [],
   "source": [
    "def float_values(trips):    \n",
    "    return list(map(lambda parsed_trip: {'pickup_longitude': float(parsed_trip['pickup_longitude']), 'pickup_latitude': float(parsed_trip['pickup_latitude']), 'trip_distance': float(parsed_trip['trip_distance'])}, parsed_trips))\n",
    "\n",
    "\n"
   ]
  },
  {
   "cell_type": "code",
   "execution_count": 10,
   "metadata": {},
   "outputs": [],
   "source": [
    "cleaned_trips = float_values(parsed_trips)"
   ]
  },
  {
   "cell_type": "code",
   "execution_count": 11,
   "metadata": {},
   "outputs": [
    {
     "data": {
      "text/plain": [
       "{'pickup_longitude': -73.78115,\n",
       " 'pickup_latitude': 40.64499,\n",
       " 'trip_distance': 18.38}"
      ]
     },
     "execution_count": 11,
     "metadata": {},
     "output_type": "execute_result"
    }
   ],
   "source": [
    "cleaned_trips[0]\n",
    "\n",
    "# {'pickup_latitude': 40.64499,\n",
    "#  'pickup_longitude': -73.78115,\n",
    "#  'trip_distance': 18.38}"
   ]
  },
  {
   "cell_type": "markdown",
   "metadata": {},
   "source": [
    "### Exploring the Data"
   ]
  },
  {
   "cell_type": "markdown",
   "metadata": {},
   "source": [
    "Now that we have paired down our data, let's get a sense of our trip data.  We can use the `folium` Python library to plot a map of Manhattan, and our data.  First we must import `folium`, and then use the `Map` function to pass through a `location`, and `zoom_start`.  If a map isn't showing up below, copy and paste the command `pip install -r requirements.txt` into your terminal to install `folium` then try again."
   ]
  },
  {
   "cell_type": "code",
   "execution_count": 12,
   "metadata": {},
   "outputs": [],
   "source": [
    "import folium\n",
    "manhattan_map = folium.Map(location=[40.7589, -73.9851], zoom_start=11)"
   ]
  },
  {
   "cell_type": "code",
   "execution_count": 13,
   "metadata": {
    "scrolled": true
   },
   "outputs": [
    {
     "data": {
      "text/html": [
       "<div style=\"width:100%;\"><div style=\"position:relative;width:100%;height:0;padding-bottom:60%;\"><iframe src=\"data:text/html;charset=utf-8;base64,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\" style=\"position:absolute;width:100%;height:100%;left:0;top:0;border:none !important;\" allowfullscreen webkitallowfullscreen mozallowfullscreen></iframe></div></div>"
      ],
      "text/plain": [
       "<folium.folium.Map at 0x7fecec5d7b70>"
      ]
     },
     "execution_count": 13,
     "metadata": {},
     "output_type": "execute_result"
    }
   ],
   "source": [
    "manhattan_map"
   ]
  },
  {
   "cell_type": "markdown",
   "metadata": {},
   "source": [
    "Ok, now let's see how we could add a dot to mark a specific location.  We'll start with Times Square."
   ]
  },
  {
   "cell_type": "code",
   "execution_count": 14,
   "metadata": {},
   "outputs": [
    {
     "data": {
      "text/plain": [
       "<folium.vector_layers.CircleMarker at 0x7fecb72ebac8>"
      ]
     },
     "execution_count": 14,
     "metadata": {},
     "output_type": "execute_result"
    }
   ],
   "source": [
    "marker = folium.CircleMarker(location = [40.7589, -73.9851], radius=10)\n",
    "marker.add_to(manhattan_map)"
   ]
  },
  {
   "cell_type": "markdown",
   "metadata": {},
   "source": [
    "Above, we first create a marker.  Then we add that circle marker to the `manhattan_map` we created earlier. "
   ]
  },
  {
   "cell_type": "code",
   "execution_count": 15,
   "metadata": {
    "scrolled": false
   },
   "outputs": [
    {
     "data": {
      "text/html": [
       "<div style=\"width:100%;\"><div style=\"position:relative;width:100%;height:0;padding-bottom:60%;\"><iframe src=\"data:text/html;charset=utf-8;base64,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\" style=\"position:absolute;width:100%;height:100%;left:0;top:0;border:none !important;\" allowfullscreen webkitallowfullscreen mozallowfullscreen></iframe></div></div>"
      ],
      "text/plain": [
       "<folium.folium.Map at 0x7fecec5d7b70>"
      ]
     },
     "execution_count": 15,
     "metadata": {},
     "output_type": "execute_result"
    }
   ],
   "source": [
    "manhattan_map"
   ]
  },
  {
   "cell_type": "markdown",
   "metadata": {},
   "source": [
    "Do you see that blue dot near Time's Square?  That is our marker.  \n",
    "\n",
    "So now that we can plot one marker on a map, we should have a sense of how we can plot many markers on a map to display our taxi ride data.  We simply plot a map, and then we add a marker for each location of a taxi trip.\n",
    "\n",
    "Now let's write some functions to allow us to plot maps and add markers a little more easily.  "
   ]
  },
  {
   "cell_type": "markdown",
   "metadata": {},
   "source": [
    "#### Writing some map plotting functions"
   ]
  },
  {
   "cell_type": "markdown",
   "metadata": {},
   "source": [
    "As a first step towards this, note that the functions to create both a marker and map each take in a location as two element list, representing the latitude and longitude values.  Take another look:\n",
    "\n",
    "```python\n",
    "marker = folium.CircleMarker(location = [40.7589, -73.9851])\n",
    "manhattan_map = folium.Map(location=[40.7589, -73.9851])\n",
    "```\n",
    "\n",
    "So let's write a function called to create this two element list from a trip.  Write a function called `location` that  takes in a trip as an argument and returns a list where the first element is the latitude and the second is the longitude.  Remember that a location looks like the following:"
   ]
  },
  {
   "cell_type": "code",
   "execution_count": 16,
   "metadata": {
    "scrolled": true
   },
   "outputs": [
    {
     "data": {
      "text/plain": [
       "{'pickup_latitude': 40.64499,\n",
       " 'pickup_longitude': -73.78115,\n",
       " 'trip_distance': 18.38}"
      ]
     },
     "execution_count": 16,
     "metadata": {},
     "output_type": "execute_result"
    }
   ],
   "source": [
    "first_trip = {'pickup_latitude': 40.64499, 'pickup_longitude': -73.78115,  'trip_distance': 18.38}\n",
    "first_trip"
   ]
  },
  {
   "cell_type": "code",
   "execution_count": 39,
   "metadata": {},
   "outputs": [
    {
     "data": {
      "text/plain": [
       "dict_values([40.64499, -73.78115, 18.38])"
      ]
     },
     "execution_count": 39,
     "metadata": {},
     "output_type": "execute_result"
    }
   ],
   "source": [
    "first_trip.values()"
   ]
  },
  {
   "cell_type": "code",
   "execution_count": 52,
   "metadata": {},
   "outputs": [],
   "source": [
    "def location(trip):\n",
    "    \n",
    "    return [trip['pickup_latitude'],trip['pickup_longitude']]"
   ]
  },
  {
   "cell_type": "code",
   "execution_count": 53,
   "metadata": {},
   "outputs": [
    {
     "data": {
      "text/plain": [
       "[40.64499, -73.78115]"
      ]
     },
     "execution_count": 53,
     "metadata": {},
     "output_type": "execute_result"
    }
   ],
   "source": [
    "first_location = location(first_trip) # [40.64499, -73.78115]\n",
    "first_location # [40.64499, -73.78115]"
   ]
  },
  {
   "cell_type": "markdown",
   "metadata": {},
   "source": [
    "Ok, now that we can turn a trip into a location, let's turn a location into a marker.  Write a function called `to_marker` that takes in a location (in the form of a list) as an argument, and returns a folium `circleMarker` for that location.  The radius of the marker should always equal 6."
   ]
  },
  {
   "cell_type": "code",
   "execution_count": 54,
   "metadata": {},
   "outputs": [],
   "source": [
    "def to_marker(location):\n",
    "    return folium.CircleMarker(location, radius=6)"
   ]
  },
  {
   "cell_type": "code",
   "execution_count": 55,
   "metadata": {},
   "outputs": [
    {
     "data": {
      "text/plain": [
       "6"
      ]
     },
     "execution_count": 55,
     "metadata": {},
     "output_type": "execute_result"
    }
   ],
   "source": [
    "import json\n",
    "times_square_marker = to_marker([40.7589, -73.9851])\n",
    "\n",
    "times_square_marker and times_square_marker.location # [40.7589, -73.9851]\n",
    "times_square_marker and json.loads(times_square_marker.options)['radius'] # 6"
   ]
  },
  {
   "cell_type": "markdown",
   "metadata": {},
   "source": [
    "Ok, now that we know how to produce a single marker, let's write a function to produce lots.  We can write a function called `markers_from_trips` that takes in a list of trips, and returns a marker object for each trip.  "
   ]
  },
  {
   "cell_type": "code",
   "execution_count": 59,
   "metadata": {},
   "outputs": [],
   "source": [
    "def markers_from_trips(trips):\n",
    "    markers = []\n",
    "    for trip in trips:\n",
    "        loc = location(trip)\n",
    "        marker = to_marker(loc)\n",
    "        markers.append(marker)\n",
    "    return markers"
   ]
  },
  {
   "cell_type": "code",
   "execution_count": 73,
   "metadata": {},
   "outputs": [],
   "source": [
    "def markers_from_trips(trips):\n",
    "    \n",
    "    locations = list(map(lambda trip: location(trip), trips))\n",
    "    return list(map(lambda location: to_marker(location), locations))"
   ]
  },
  {
   "cell_type": "code",
   "execution_count": 74,
   "metadata": {},
   "outputs": [],
   "source": [
    "trip_markers = markers_from_trips(cleaned_trips)"
   ]
  },
  {
   "cell_type": "code",
   "execution_count": 75,
   "metadata": {},
   "outputs": [
    {
     "data": {
      "text/plain": [
       "[{'pickup_longitude': -73.78115,\n",
       "  'pickup_latitude': 40.64499,\n",
       "  'trip_distance': 18.38},\n",
       " {'pickup_longitude': -73.982098,\n",
       "  'pickup_latitude': 40.766931,\n",
       "  'trip_distance': 1.3},\n",
       " {'pickup_longitude': -73.951902,\n",
       "  'pickup_latitude': 40.77773,\n",
       "  'trip_distance': 4.5},\n",
       " {'pickup_longitude': -73.971049,\n",
       "  'pickup_latitude': 40.795678,\n",
       "  'trip_distance': 2.4}]"
      ]
     },
     "execution_count": 75,
     "metadata": {},
     "output_type": "execute_result"
    }
   ],
   "source": [
    "cleaned_trips[0:4]"
   ]
  },
  {
   "cell_type": "code",
   "execution_count": 76,
   "metadata": {},
   "outputs": [
    {
     "data": {
      "text/plain": [
       "[[40.64499, -73.78115],\n",
       " [40.766931, -73.982098],\n",
       " [40.77773, -73.951902],\n",
       " [40.795678, -73.971049]]"
      ]
     },
     "execution_count": 76,
     "metadata": {},
     "output_type": "execute_result"
    }
   ],
   "source": [
    "trip_markers and len(trip_markers) # 1000\n",
    "\n",
    "list(map(lambda marker: marker.location, trip_markers[0:4]))\n",
    "# [[40.64499, -73.78115],\n",
    "#  [40.766931, -73.982098],\n",
    "#  [40.77773, -73.951902],\n",
    "#  [40.795678, -73.971049]]"
   ]
  },
  {
   "cell_type": "markdown",
   "metadata": {},
   "source": [
    "Ok, now that we have a function that creates locations, and a function that creates markers, it is time to write a function to plot a map. \n",
    "\n",
    "Write a function called `map_from` that, provided the first argument of a list location and second argument an integer representing the `zoom_start`, returns a `folium` map the corresponding location and `zoom_start` attributes.\n",
    "\n",
    "> Hint: The following is how to write a map with folium:\n",
    "> ```python \n",
    "    folium.Map(location=location, zoom_start=zoom_amount)\n",
    "> ```"
   ]
  },
  {
   "cell_type": "code",
   "execution_count": 93,
   "metadata": {},
   "outputs": [],
   "source": [
    "def map_from(location, zoom_amount):\n",
    "    \n",
    "    return folium.Map(location=location, zoom_start = zoom_amount)"
   ]
  },
  {
   "cell_type": "code",
   "execution_count": 94,
   "metadata": {},
   "outputs": [
    {
     "data": {
      "text/plain": [
       "15"
      ]
     },
     "execution_count": 94,
     "metadata": {},
     "output_type": "execute_result"
    }
   ],
   "source": [
    "times_square_map = map_from([40.7589, -73.9851], 15)\n",
    "times_square_map and times_square_map.location # [40.7589, -73.9851]\n",
    "times_square_map and times_square_map.zoom_start # 15"
   ]
  },
  {
   "cell_type": "code",
   "execution_count": 95,
   "metadata": {
    "scrolled": true
   },
   "outputs": [
    {
     "data": {
      "text/html": [
       "<div style=\"width:100%;\"><div style=\"position:relative;width:100%;height:0;padding-bottom:60%;\"><iframe src=\"data:text/html;charset=utf-8;base64,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\" style=\"position:absolute;width:100%;height:100%;left:0;top:0;border:none !important;\" allowfullscreen webkitallowfullscreen mozallowfullscreen></iframe></div></div>"
      ],
      "text/plain": [
       "<folium.folium.Map at 0x7fecb6fee3c8>"
      ]
     },
     "execution_count": 95,
     "metadata": {},
     "output_type": "execute_result"
    }
   ],
   "source": [
    "times_square_marker and times_square_marker.add_to(times_square_map)\n",
    "times_square_map"
   ]
  },
  {
   "cell_type": "markdown",
   "metadata": {},
   "source": [
    "Now that we have a marker and a map, now let's write a function that adds a lot of markers to a map.  This function should add each marker in the list to the map object then return the updated map object."
   ]
  },
  {
   "cell_type": "code",
   "execution_count": null,
   "metadata": {},
   "outputs": [],
   "source": [
    "manhattan_map = map_from([40.7589, -73.9851], 13)"
   ]
  },
  {
   "cell_type": "code",
   "execution_count": 98,
   "metadata": {},
   "outputs": [],
   "source": [
    "def add_markers(markers, map_obj):\n",
    "    \n",
    "    map_obj = []\n",
    "    \n",
    "    for marker in markers:\n",
    "        map_obj.append(marker)\n",
    "    return map_obj\n",
    "\n",
    "def add_markers(markers, map_obj):\n",
    "    \n",
    "    map_obj = []\n",
    "    \n",
    "    for marker in markers:\n",
    "        map_obj.append(marker)\n",
    "    return map_obj"
   ]
  },
  {
   "cell_type": "code",
   "execution_count": 103,
   "metadata": {},
   "outputs": [],
   "source": [
    "def add_markers(markers, map_obj):\n",
    "    \n",
    "    return list(map(lambda marker: map_obj.append(marker), markers))"
   ]
  },
  {
   "cell_type": "code",
   "execution_count": 104,
   "metadata": {
    "scrolled": false
   },
   "outputs": [
    {
     "ename": "AttributeError",
     "evalue": "'Map' object has no attribute 'append'",
     "output_type": "error",
     "traceback": [
      "\u001b[0;31m\u001b[0m",
      "\u001b[0;31mAttributeError\u001b[0mTraceback (most recent call last)",
      "\u001b[0;32m<ipython-input-104-cc1a912a8e96>\u001b[0m in \u001b[0;36m<module>\u001b[0;34m()\u001b[0m\n\u001b[0;32m----> 1\u001b[0;31m \u001b[0mmap_with_markers\u001b[0m \u001b[0;34m=\u001b[0m \u001b[0madd_markers\u001b[0m\u001b[0;34m(\u001b[0m\u001b[0mtrip_markers\u001b[0m\u001b[0;34m,\u001b[0m \u001b[0mmanhattan_map\u001b[0m\u001b[0;34m)\u001b[0m\u001b[0;34m\u001b[0m\u001b[0m\n\u001b[0m",
      "\u001b[0;32m<ipython-input-103-06d871de674c>\u001b[0m in \u001b[0;36madd_markers\u001b[0;34m(markers, map_obj)\u001b[0m\n\u001b[1;32m      1\u001b[0m \u001b[0;32mdef\u001b[0m \u001b[0madd_markers\u001b[0m\u001b[0;34m(\u001b[0m\u001b[0mmarkers\u001b[0m\u001b[0;34m,\u001b[0m \u001b[0mmap_obj\u001b[0m\u001b[0;34m)\u001b[0m\u001b[0;34m:\u001b[0m\u001b[0;34m\u001b[0m\u001b[0m\n\u001b[1;32m      2\u001b[0m \u001b[0;34m\u001b[0m\u001b[0m\n\u001b[0;32m----> 3\u001b[0;31m     \u001b[0;32mreturn\u001b[0m \u001b[0mlist\u001b[0m\u001b[0;34m(\u001b[0m\u001b[0mmap\u001b[0m\u001b[0;34m(\u001b[0m\u001b[0;32mlambda\u001b[0m \u001b[0mmarker\u001b[0m\u001b[0;34m:\u001b[0m \u001b[0mmap_obj\u001b[0m\u001b[0;34m.\u001b[0m\u001b[0mappend\u001b[0m\u001b[0;34m(\u001b[0m\u001b[0mmarker\u001b[0m\u001b[0;34m)\u001b[0m\u001b[0;34m,\u001b[0m \u001b[0mmarkers\u001b[0m\u001b[0;34m)\u001b[0m\u001b[0;34m)\u001b[0m\u001b[0;34m\u001b[0m\u001b[0m\n\u001b[0m",
      "\u001b[0;32m<ipython-input-103-06d871de674c>\u001b[0m in \u001b[0;36m<lambda>\u001b[0;34m(marker)\u001b[0m\n\u001b[1;32m      1\u001b[0m \u001b[0;32mdef\u001b[0m \u001b[0madd_markers\u001b[0m\u001b[0;34m(\u001b[0m\u001b[0mmarkers\u001b[0m\u001b[0;34m,\u001b[0m \u001b[0mmap_obj\u001b[0m\u001b[0;34m)\u001b[0m\u001b[0;34m:\u001b[0m\u001b[0;34m\u001b[0m\u001b[0m\n\u001b[1;32m      2\u001b[0m \u001b[0;34m\u001b[0m\u001b[0m\n\u001b[0;32m----> 3\u001b[0;31m     \u001b[0;32mreturn\u001b[0m \u001b[0mlist\u001b[0m\u001b[0;34m(\u001b[0m\u001b[0mmap\u001b[0m\u001b[0;34m(\u001b[0m\u001b[0;32mlambda\u001b[0m \u001b[0mmarker\u001b[0m\u001b[0;34m:\u001b[0m \u001b[0mmap_obj\u001b[0m\u001b[0;34m.\u001b[0m\u001b[0mappend\u001b[0m\u001b[0;34m(\u001b[0m\u001b[0mmarker\u001b[0m\u001b[0;34m)\u001b[0m\u001b[0;34m,\u001b[0m \u001b[0mmarkers\u001b[0m\u001b[0;34m)\u001b[0m\u001b[0;34m)\u001b[0m\u001b[0;34m\u001b[0m\u001b[0m\n\u001b[0m",
      "\u001b[0;31mAttributeError\u001b[0m: 'Map' object has no attribute 'append'"
     ]
    }
   ],
   "source": [
    "map_with_markers = add_markers(trip_markers, manhattan_map)"
   ]
  },
  {
   "cell_type": "code",
   "execution_count": 100,
   "metadata": {},
   "outputs": [
    {
     "data": {
      "text/plain": [
       "[<folium.vector_layers.CircleMarker at 0x7fecab257eb8>,\n",
       " <folium.vector_layers.CircleMarker at 0x7fecb6eda780>,\n",
       " <folium.vector_layers.CircleMarker at 0x7feced9c7fd0>,\n",
       " <folium.vector_layers.CircleMarker at 0x7fecb0df3048>,\n",
       " <folium.vector_layers.CircleMarker at 0x7fecb0df32b0>,\n",
       " <folium.vector_layers.CircleMarker at 0x7fecb0df34e0>,\n",
       " <folium.vector_layers.CircleMarker at 0x7fecb0df34a8>,\n",
       " <folium.vector_layers.CircleMarker at 0x7fecb0df35c0>,\n",
       " <folium.vector_layers.CircleMarker at 0x7fecb0df36a0>,\n",
       " <folium.vector_layers.CircleMarker at 0x7fecb0df3080>,\n",
       " <folium.vector_layers.CircleMarker at 0x7fecb0df30b8>,\n",
       " <folium.vector_layers.CircleMarker at 0x7feced9c7c88>,\n",
       " <folium.vector_layers.CircleMarker at 0x7fecab93add8>,\n",
       " <folium.vector_layers.CircleMarker at 0x7fecb0df3240>,\n",
       " <folium.vector_layers.CircleMarker at 0x7fecb0df3588>,\n",
       " <folium.vector_layers.CircleMarker at 0x7fecb0df3400>,\n",
       " <folium.vector_layers.CircleMarker at 0x7fecb0df3208>,\n",
       " <folium.vector_layers.CircleMarker at 0x7fecb0df3128>,\n",
       " <folium.vector_layers.CircleMarker at 0x7fecb0df31d0>,\n",
       " <folium.vector_layers.CircleMarker at 0x7fecb0df3518>,\n",
       " <folium.vector_layers.CircleMarker at 0x7fecb72e98d0>,\n",
       " <folium.vector_layers.CircleMarker at 0x7fecb72e9470>,\n",
       " <folium.vector_layers.CircleMarker at 0x7fecb72e9a20>,\n",
       " <folium.vector_layers.CircleMarker at 0x7fecaab29b70>,\n",
       " <folium.vector_layers.CircleMarker at 0x7fecaab29c18>,\n",
       " <folium.vector_layers.CircleMarker at 0x7fecaab29cf8>,\n",
       " <folium.vector_layers.CircleMarker at 0x7fecaab29da0>,\n",
       " <folium.vector_layers.CircleMarker at 0x7fecaab29e48>,\n",
       " <folium.vector_layers.CircleMarker at 0x7fecaab29828>,\n",
       " <folium.vector_layers.CircleMarker at 0x7fecaab29f98>,\n",
       " <folium.vector_layers.CircleMarker at 0x7fecaab29a58>,\n",
       " <folium.vector_layers.CircleMarker at 0x7fecef91cb38>,\n",
       " <folium.vector_layers.CircleMarker at 0x7fecb72e9ef0>,\n",
       " <folium.vector_layers.CircleMarker at 0x7fecb72e9908>,\n",
       " <folium.vector_layers.CircleMarker at 0x7fecb0df3550>,\n",
       " <folium.vector_layers.CircleMarker at 0x7fecf46ebd30>,\n",
       " <folium.vector_layers.CircleMarker at 0x7fecb0df32e8>,\n",
       " <folium.vector_layers.CircleMarker at 0x7fecb0df3278>,\n",
       " <folium.vector_layers.CircleMarker at 0x7fecb0df3358>,\n",
       " <folium.vector_layers.CircleMarker at 0x7fecaab29e80>,\n",
       " <folium.vector_layers.CircleMarker at 0x7fecaab29eb8>,\n",
       " <folium.vector_layers.CircleMarker at 0x7fecaab29d68>,\n",
       " <folium.vector_layers.CircleMarker at 0x7fecaab29a20>,\n",
       " <folium.vector_layers.CircleMarker at 0x7fecaab299e8>,\n",
       " <folium.vector_layers.CircleMarker at 0x7fecaab29ef0>,\n",
       " <folium.vector_layers.CircleMarker at 0x7fecaab299b0>,\n",
       " <folium.vector_layers.CircleMarker at 0x7fecb153a1d0>,\n",
       " <folium.vector_layers.CircleMarker at 0x7fecb153a208>,\n",
       " <folium.vector_layers.CircleMarker at 0x7fecb153a438>,\n",
       " <folium.vector_layers.CircleMarker at 0x7fecb153a550>,\n",
       " <folium.vector_layers.CircleMarker at 0x7fecb153a5f8>,\n",
       " <folium.vector_layers.CircleMarker at 0x7fecb153a710>,\n",
       " <folium.vector_layers.CircleMarker at 0x7fecaab29dd8>,\n",
       " <folium.vector_layers.CircleMarker at 0x7feced95bc18>,\n",
       " <folium.vector_layers.CircleMarker at 0x7fecaab29d30>,\n",
       " <folium.vector_layers.CircleMarker at 0x7fecaab29f60>,\n",
       " <folium.vector_layers.CircleMarker at 0x7fecaab29e10>,\n",
       " <folium.vector_layers.CircleMarker at 0x7fecb0df3470>,\n",
       " <folium.vector_layers.CircleMarker at 0x7fecb0df3668>,\n",
       " <folium.vector_layers.CircleMarker at 0x7fecb0df33c8>,\n",
       " <folium.vector_layers.CircleMarker at 0x7fecb72e9668>,\n",
       " <folium.vector_layers.CircleMarker at 0x7fecb72e9828>,\n",
       " <folium.vector_layers.CircleMarker at 0x7fecb153a3c8>,\n",
       " <folium.vector_layers.CircleMarker at 0x7fecb153a470>,\n",
       " <folium.vector_layers.CircleMarker at 0x7fecb153a4a8>,\n",
       " <folium.vector_layers.CircleMarker at 0x7fecb153a668>,\n",
       " <folium.vector_layers.CircleMarker at 0x7fecb153a7b8>,\n",
       " <folium.vector_layers.CircleMarker at 0x7fecb153a048>,\n",
       " <folium.vector_layers.CircleMarker at 0x7fecb153a978>,\n",
       " <folium.vector_layers.CircleMarker at 0x7fecb153aa20>,\n",
       " <folium.vector_layers.CircleMarker at 0x7fecb153ab38>,\n",
       " <folium.vector_layers.CircleMarker at 0x7fecb153a9b0>,\n",
       " <folium.vector_layers.CircleMarker at 0x7fecb153a6d8>,\n",
       " <folium.vector_layers.CircleMarker at 0x7fecb72e94a8>,\n",
       " <folium.vector_layers.CircleMarker at 0x7fecb6eda198>,\n",
       " <folium.vector_layers.CircleMarker at 0x7fecb0df3438>,\n",
       " <folium.vector_layers.CircleMarker at 0x7fecaab29c88>,\n",
       " <folium.vector_layers.CircleMarker at 0x7fecaab29a90>,\n",
       " <folium.vector_layers.CircleMarker at 0x7fecaab29be0>,\n",
       " <folium.vector_layers.CircleMarker at 0x7fecb153abe0>,\n",
       " <folium.vector_layers.CircleMarker at 0x7fecb153a7f0>,\n",
       " <folium.vector_layers.CircleMarker at 0x7fecb153a828>,\n",
       " <folium.vector_layers.CircleMarker at 0x7fecb153a630>,\n",
       " <folium.vector_layers.CircleMarker at 0x7fecb153a198>,\n",
       " <folium.vector_layers.CircleMarker at 0x7fecb153a278>,\n",
       " <folium.vector_layers.CircleMarker at 0x7fecb153aac8>,\n",
       " <folium.vector_layers.CircleMarker at 0x7fecb153ac18>,\n",
       " <folium.vector_layers.CircleMarker at 0x7fecb153ad68>,\n",
       " <folium.vector_layers.CircleMarker at 0x7fecb153a320>,\n",
       " <folium.vector_layers.CircleMarker at 0x7fecb153ae80>,\n",
       " <folium.vector_layers.CircleMarker at 0x7fecb153acc0>,\n",
       " <folium.vector_layers.CircleMarker at 0x7fecb153af98>,\n",
       " <folium.vector_layers.CircleMarker at 0x7fecb153a898>,\n",
       " <folium.vector_layers.CircleMarker at 0x7fecb153a240>,\n",
       " <folium.vector_layers.CircleMarker at 0x7fecaab29b38>,\n",
       " <folium.vector_layers.CircleMarker at 0x7fecaab29b00>,\n",
       " <folium.vector_layers.CircleMarker at 0x7fecb0df3198>,\n",
       " <folium.vector_layers.CircleMarker at 0x7fecb0df3630>,\n",
       " <folium.vector_layers.CircleMarker at 0x7fecb153a128>,\n",
       " <folium.vector_layers.CircleMarker at 0x7fecb153add8>,\n",
       " <folium.vector_layers.CircleMarker at 0x7fecb153ab70>,\n",
       " <folium.vector_layers.CircleMarker at 0x7fecb153aa90>,\n",
       " <folium.vector_layers.CircleMarker at 0x7fecb153a390>,\n",
       " <folium.vector_layers.CircleMarker at 0x7fecb153a358>,\n",
       " <folium.vector_layers.CircleMarker at 0x7fecb153a6a0>,\n",
       " <folium.vector_layers.CircleMarker at 0x7fecb153a400>,\n",
       " <folium.vector_layers.CircleMarker at 0x7fecb153a780>,\n",
       " <folium.vector_layers.CircleMarker at 0x7fecb153a0b8>,\n",
       " <folium.vector_layers.CircleMarker at 0x7fecb153a9e8>,\n",
       " <folium.vector_layers.CircleMarker at 0x7fecb720e8d0>,\n",
       " <folium.vector_layers.CircleMarker at 0x7fecb720e898>,\n",
       " <folium.vector_layers.CircleMarker at 0x7fecb720ea90>,\n",
       " <folium.vector_layers.CircleMarker at 0x7fecb720ebe0>,\n",
       " <folium.vector_layers.CircleMarker at 0x7fecb702b470>,\n",
       " <folium.vector_layers.CircleMarker at 0x7fecb702b2e8>,\n",
       " <folium.vector_layers.CircleMarker at 0x7fecb702b358>,\n",
       " <folium.vector_layers.CircleMarker at 0x7fecb720e128>,\n",
       " <folium.vector_layers.CircleMarker at 0x7fecb720e048>,\n",
       " <folium.vector_layers.CircleMarker at 0x7fecb153aa58>,\n",
       " <folium.vector_layers.CircleMarker at 0x7fecb153ac50>,\n",
       " <folium.vector_layers.CircleMarker at 0x7fecb153a748>,\n",
       " <folium.vector_layers.CircleMarker at 0x7fecb153ae48>,\n",
       " <folium.vector_layers.CircleMarker at 0x7fecb153a8d0>,\n",
       " <folium.vector_layers.CircleMarker at 0x7fecb72e9fd0>,\n",
       " <folium.vector_layers.CircleMarker at 0x7fecaab29fd0>,\n",
       " <folium.vector_layers.CircleMarker at 0x7fecb153a518>,\n",
       " <folium.vector_layers.CircleMarker at 0x7fecb0df3390>,\n",
       " <folium.vector_layers.CircleMarker at 0x7fecb153ada0>,\n",
       " <folium.vector_layers.CircleMarker at 0x7fecb702b7b8>,\n",
       " <folium.vector_layers.CircleMarker at 0x7fecb702b630>,\n",
       " <folium.vector_layers.CircleMarker at 0x7fecb702b4a8>,\n",
       " <folium.vector_layers.CircleMarker at 0x7fecb702ba90>,\n",
       " <folium.vector_layers.CircleMarker at 0x7fecb702b828>,\n",
       " <folium.vector_layers.CircleMarker at 0x7fecb702bac8>,\n",
       " <folium.vector_layers.CircleMarker at 0x7fecb702bba8>,\n",
       " <folium.vector_layers.CircleMarker at 0x7fecb702bb70>,\n",
       " <folium.vector_layers.CircleMarker at 0x7fecb702ba20>,\n",
       " <folium.vector_layers.CircleMarker at 0x7fecb702bc50>,\n",
       " <folium.vector_layers.CircleMarker at 0x7fecb0df3320>,\n",
       " <folium.vector_layers.CircleMarker at 0x7fecb153af28>,\n",
       " <folium.vector_layers.CircleMarker at 0x7fecb153ab00>,\n",
       " <folium.vector_layers.CircleMarker at 0x7fecb153aba8>,\n",
       " <folium.vector_layers.CircleMarker at 0x7fecb153ad30>,\n",
       " <folium.vector_layers.CircleMarker at 0x7fecb720e0b8>,\n",
       " <folium.vector_layers.CircleMarker at 0x7fecb720e588>,\n",
       " <folium.vector_layers.CircleMarker at 0x7fecb153a860>,\n",
       " <folium.vector_layers.CircleMarker at 0x7fecb702b710>,\n",
       " <folium.vector_layers.CircleMarker at 0x7fecb702bb00>,\n",
       " <folium.vector_layers.CircleMarker at 0x7fecb702b3c8>,\n",
       " <folium.vector_layers.CircleMarker at 0x7fecb702b8d0>,\n",
       " <folium.vector_layers.CircleMarker at 0x7fecb702b550>,\n",
       " <folium.vector_layers.CircleMarker at 0x7fecb702bcf8>,\n",
       " <folium.vector_layers.CircleMarker at 0x7fecb702bc88>,\n",
       " <folium.vector_layers.CircleMarker at 0x7fecb702be10>,\n",
       " <folium.vector_layers.CircleMarker at 0x7fecb702bda0>,\n",
       " <folium.vector_layers.CircleMarker at 0x7fecb702b320>,\n",
       " <folium.vector_layers.CircleMarker at 0x7fecb702bf28>,\n",
       " <folium.vector_layers.CircleMarker at 0x7fecb702b860>,\n",
       " <folium.vector_layers.CircleMarker at 0x7fecb702b780>,\n",
       " <folium.vector_layers.CircleMarker at 0x7fecb720e0f0>,\n",
       " <folium.vector_layers.CircleMarker at 0x7fecaab29ba8>,\n",
       " <folium.vector_layers.CircleMarker at 0x7fecb0df3160>,\n",
       " <folium.vector_layers.CircleMarker at 0x7fecb153a2b0>,\n",
       " <folium.vector_layers.CircleMarker at 0x7fecb153a4e0>,\n",
       " <folium.vector_layers.CircleMarker at 0x7fecb153a0f0>,\n",
       " <folium.vector_layers.CircleMarker at 0x7fecb702bef0>,\n",
       " <folium.vector_layers.CircleMarker at 0x7fecb702be48>,\n",
       " <folium.vector_layers.CircleMarker at 0x7fecb702b5f8>,\n",
       " <folium.vector_layers.CircleMarker at 0x7fecb702b908>,\n",
       " <folium.vector_layers.CircleMarker at 0x7fecb702bbe0>,\n",
       " <folium.vector_layers.CircleMarker at 0x7fecb702ba58>,\n",
       " <folium.vector_layers.CircleMarker at 0x7fecb702b9e8>,\n",
       " <folium.vector_layers.CircleMarker at 0x7fecb702bcc0>,\n",
       " <folium.vector_layers.CircleMarker at 0x7fecb702bdd8>,\n",
       " <folium.vector_layers.CircleMarker at 0x7fecb702bd68>,\n",
       " <folium.vector_layers.CircleMarker at 0x7fecb0af8048>,\n",
       " <folium.vector_layers.CircleMarker at 0x7fecb0af8160>,\n",
       " <folium.vector_layers.CircleMarker at 0x7fecb0af8240>,\n",
       " <folium.vector_layers.CircleMarker at 0x7fecb0af82e8>,\n",
       " <folium.vector_layers.CircleMarker at 0x7fecb0af8390>,\n",
       " <folium.vector_layers.CircleMarker at 0x7fecb0af8438>,\n",
       " <folium.vector_layers.CircleMarker at 0x7fecb720e908>,\n",
       " <folium.vector_layers.CircleMarker at 0x7fecb702b940>,\n",
       " <folium.vector_layers.CircleMarker at 0x7fecb702b898>,\n",
       " <folium.vector_layers.CircleMarker at 0x7fecb702b7f0>,\n",
       " <folium.vector_layers.CircleMarker at 0x7fecb702b6d8>,\n",
       " <folium.vector_layers.CircleMarker at 0x7fecb702bc18>,\n",
       " <folium.vector_layers.CircleMarker at 0x7fecb702beb8>,\n",
       " <folium.vector_layers.CircleMarker at 0x7fecb702b668>,\n",
       " <folium.vector_layers.CircleMarker at 0x7fecb702b2b0>,\n",
       " <folium.vector_layers.CircleMarker at 0x7fecb153a588>,\n",
       " <folium.vector_layers.CircleMarker at 0x7fecb153aef0>,\n",
       " <folium.vector_layers.CircleMarker at 0x7fecb72e9d30>,\n",
       " <folium.vector_layers.CircleMarker at 0x7fecb0df30f0>,\n",
       " <folium.vector_layers.CircleMarker at 0x7fecaab29f28>,\n",
       " <folium.vector_layers.CircleMarker at 0x7fecb153aeb8>,\n",
       " <folium.vector_layers.CircleMarker at 0x7fecb0af8278>,\n",
       " <folium.vector_layers.CircleMarker at 0x7fecb0af82b0>,\n",
       " <folium.vector_layers.CircleMarker at 0x7fecb0af8080>,\n",
       " <folium.vector_layers.CircleMarker at 0x7fecb0af8550>,\n",
       " <folium.vector_layers.CircleMarker at 0x7fecb0af8588>,\n",
       " <folium.vector_layers.CircleMarker at 0x7fecb0af8470>,\n",
       " <folium.vector_layers.CircleMarker at 0x7fecb0af8668>,\n",
       " <folium.vector_layers.CircleMarker at 0x7fecaab29c50>,\n",
       " <folium.vector_layers.CircleMarker at 0x7feced9c79e8>,\n",
       " <folium.vector_layers.CircleMarker at 0x7fecb153ac88>,\n",
       " <folium.vector_layers.CircleMarker at 0x7fecb153a908>,\n",
       " <folium.vector_layers.CircleMarker at 0x7fecb153ae10>,\n",
       " <folium.vector_layers.CircleMarker at 0x7fecb702bf98>,\n",
       " <folium.vector_layers.CircleMarker at 0x7fecb702b400>,\n",
       " <folium.vector_layers.CircleMarker at 0x7fecb702b278>,\n",
       " <folium.vector_layers.CircleMarker at 0x7fecb702b390>,\n",
       " <folium.vector_layers.CircleMarker at 0x7fecb702b5c0>,\n",
       " <folium.vector_layers.CircleMarker at 0x7fecb0af8518>,\n",
       " <folium.vector_layers.CircleMarker at 0x7fecb0af83c8>,\n",
       " <folium.vector_layers.CircleMarker at 0x7fecb0af81d0>,\n",
       " <folium.vector_layers.CircleMarker at 0x7fecb0af8710>,\n",
       " <folium.vector_layers.CircleMarker at 0x7fecb0af80b8>,\n",
       " <folium.vector_layers.CircleMarker at 0x7fecb0af8828>,\n",
       " <folium.vector_layers.CircleMarker at 0x7fecb0af8860>,\n",
       " <folium.vector_layers.CircleMarker at 0x7fecb0af8908>,\n",
       " <folium.vector_layers.CircleMarker at 0x7fecb0af89b0>,\n",
       " <folium.vector_layers.CircleMarker at 0x7fecb0af8a58>,\n",
       " <folium.vector_layers.CircleMarker at 0x7fecb0af8b00>,\n",
       " <folium.vector_layers.CircleMarker at 0x7fecb0af8ba8>,\n",
       " <folium.vector_layers.CircleMarker at 0x7fecb702b978>,\n",
       " <folium.vector_layers.CircleMarker at 0x7fecb702b9b0>,\n",
       " <folium.vector_layers.CircleMarker at 0x7fecb72e9c18>,\n",
       " <folium.vector_layers.CircleMarker at 0x7fecaab29ac8>,\n",
       " <folium.vector_layers.CircleMarker at 0x7fecb702b588>,\n",
       " <folium.vector_layers.CircleMarker at 0x7fecb153a080>,\n",
       " <folium.vector_layers.CircleMarker at 0x7fecb153a160>,\n",
       " <folium.vector_layers.CircleMarker at 0x7fecb0af8898>,\n",
       " <folium.vector_layers.CircleMarker at 0x7fecb0af87b8>,\n",
       " <folium.vector_layers.CircleMarker at 0x7fecb0af8198>,\n",
       " <folium.vector_layers.CircleMarker at 0x7fecb0af8128>,\n",
       " <folium.vector_layers.CircleMarker at 0x7fecb0af8400>,\n",
       " <folium.vector_layers.CircleMarker at 0x7fecb0af85f8>,\n",
       " <folium.vector_layers.CircleMarker at 0x7fecb0af8c50>,\n",
       " <folium.vector_layers.CircleMarker at 0x7fecb0af8b38>,\n",
       " <folium.vector_layers.CircleMarker at 0x7fecb0af8d68>,\n",
       " <folium.vector_layers.CircleMarker at 0x7fecb0af8da0>,\n",
       " <folium.vector_layers.CircleMarker at 0x7fecb0af8e48>,\n",
       " <folium.vector_layers.CircleMarker at 0x7fecb0af8ef0>,\n",
       " <folium.vector_layers.CircleMarker at 0x7fecb0af8f98>,\n",
       " <folium.vector_layers.CircleMarker at 0x7fecb0af8f28>,\n",
       " <folium.vector_layers.CircleMarker at 0x7fecb701d240>,\n",
       " <folium.vector_layers.CircleMarker at 0x7fecb0af8b70>,\n",
       " <folium.vector_layers.CircleMarker at 0x7fecb0af8be0>,\n",
       " <folium.vector_layers.CircleMarker at 0x7fecb0af8320>,\n",
       " <folium.vector_layers.CircleMarker at 0x7fecb0af80f0>,\n",
       " <folium.vector_layers.CircleMarker at 0x7fecb0af8a90>,\n",
       " <folium.vector_layers.CircleMarker at 0x7fecb0af88d0>,\n",
       " <folium.vector_layers.CircleMarker at 0x7fecb0af87f0>,\n",
       " <folium.vector_layers.CircleMarker at 0x7fecb0af8978>,\n",
       " <folium.vector_layers.CircleMarker at 0x7fecb153acf8>,\n",
       " <folium.vector_layers.CircleMarker at 0x7fecb153a2e8>,\n",
       " <folium.vector_layers.CircleMarker at 0x7fecb0af8ac8>,\n",
       " <folium.vector_layers.CircleMarker at 0x7fecb702bf60>,\n",
       " <folium.vector_layers.CircleMarker at 0x7fecb702b6a0>,\n",
       " <folium.vector_layers.CircleMarker at 0x7fecb702b748>,\n",
       " <folium.vector_layers.CircleMarker at 0x7fecb701d390>,\n",
       " <folium.vector_layers.CircleMarker at 0x7fecb701d470>,\n",
       " <folium.vector_layers.CircleMarker at 0x7fecb701d4a8>,\n",
       " <folium.vector_layers.CircleMarker at 0x7fecb701d550>,\n",
       " <folium.vector_layers.CircleMarker at 0x7fecb701d5f8>,\n",
       " <folium.vector_layers.CircleMarker at 0x7fecb701d6a0>,\n",
       " <folium.vector_layers.CircleMarker at 0x7fecb701d748>,\n",
       " <folium.vector_layers.CircleMarker at 0x7fecb701d7f0>,\n",
       " <folium.vector_layers.CircleMarker at 0x7fecb153a5c0>,\n",
       " <folium.vector_layers.CircleMarker at 0x7fecb702bfd0>,\n",
       " <folium.vector_layers.CircleMarker at 0x7fecb0af8cc0>,\n",
       " <folium.vector_layers.CircleMarker at 0x7fecb0af8358>,\n",
       " <folium.vector_layers.CircleMarker at 0x7fecb0af8630>,\n",
       " <folium.vector_layers.CircleMarker at 0x7fecb0af8748>,\n",
       " <folium.vector_layers.CircleMarker at 0x7fecb0af8e10>,\n",
       " <folium.vector_layers.CircleMarker at 0x7fecb0af8e80>,\n",
       " <folium.vector_layers.CircleMarker at 0x7fecb0af8dd8>,\n",
       " <folium.vector_layers.CircleMarker at 0x7fecb701d4e0>,\n",
       " <folium.vector_layers.CircleMarker at 0x7fecb701d208>,\n",
       " <folium.vector_layers.CircleMarker at 0x7fecb701d278>,\n",
       " <folium.vector_layers.CircleMarker at 0x7fecb701d358>,\n",
       " <folium.vector_layers.CircleMarker at 0x7fecb701d898>,\n",
       " <folium.vector_layers.CircleMarker at 0x7fecb701d780>,\n",
       " <folium.vector_layers.CircleMarker at 0x7fecb701d9b0>,\n",
       " <folium.vector_layers.CircleMarker at 0x7fecb701d9e8>,\n",
       " <folium.vector_layers.CircleMarker at 0x7fecb701da90>,\n",
       " <folium.vector_layers.CircleMarker at 0x7fecb701db38>,\n",
       " <folium.vector_layers.CircleMarker at 0x7fecb701dbe0>,\n",
       " <folium.vector_layers.CircleMarker at 0x7fecb701dc88>,\n",
       " <folium.vector_layers.CircleMarker at 0x7fecb701dd30>,\n",
       " <folium.vector_layers.CircleMarker at 0x7fecb0af89e8>,\n",
       " <folium.vector_layers.CircleMarker at 0x7fecb153a940>,\n",
       " <folium.vector_layers.CircleMarker at 0x7fecb0af8a20>,\n",
       " <folium.vector_layers.CircleMarker at 0x7fecb702bd30>,\n",
       " <folium.vector_layers.CircleMarker at 0x7fecb0af8c88>,\n",
       " <folium.vector_layers.CircleMarker at 0x7fecb701db70>,\n",
       " <folium.vector_layers.CircleMarker at 0x7fecb701dba8>,\n",
       " <folium.vector_layers.CircleMarker at 0x7fecb701d860>,\n",
       " <folium.vector_layers.CircleMarker at 0x7fecb701d1d0>,\n",
       " <folium.vector_layers.CircleMarker at 0x7fecb701d8d0>,\n",
       " <folium.vector_layers.CircleMarker at 0x7fecb701d668>,\n",
       " <folium.vector_layers.CircleMarker at 0x7fecb701d3c8>,\n",
       " <folium.vector_layers.CircleMarker at 0x7fecb701d588>,\n",
       " <folium.vector_layers.CircleMarker at 0x7fecb701ddd8>,\n",
       " <folium.vector_layers.CircleMarker at 0x7fecb701dcc0>,\n",
       " <folium.vector_layers.CircleMarker at 0x7fecb701def0>,\n",
       " <folium.vector_layers.CircleMarker at 0x7fecb701df28>,\n",
       " <folium.vector_layers.CircleMarker at 0x7fecb701dfd0>,\n",
       " <folium.vector_layers.CircleMarker at 0x7fecb701da58>,\n",
       " <folium.vector_layers.CircleMarker at 0x7fecb701d160>,\n",
       " <folium.vector_layers.CircleMarker at 0x7fecb701d048>,\n",
       " <folium.vector_layers.CircleMarker at 0x7fecb72200f0>,\n",
       " <folium.vector_layers.CircleMarker at 0x7fecb702be80>,\n",
       " <folium.vector_layers.CircleMarker at 0x7fecb0af8208>,\n",
       " <folium.vector_layers.CircleMarker at 0x7fecb0af8cf8>,\n",
       " <folium.vector_layers.CircleMarker at 0x7fecb0af8940>,\n",
       " <folium.vector_layers.CircleMarker at 0x7fecb701d0b8>,\n",
       " <folium.vector_layers.CircleMarker at 0x7fecb701df98>,\n",
       " <folium.vector_layers.CircleMarker at 0x7fecb701d630>,\n",
       " <folium.vector_layers.CircleMarker at 0x7fecb701de10>,\n",
       " <folium.vector_layers.CircleMarker at 0x7fecb701d518>,\n",
       " <folium.vector_layers.CircleMarker at 0x7fecb701d710>,\n",
       " <folium.vector_layers.CircleMarker at 0x7fecb701d828>,\n",
       " <folium.vector_layers.CircleMarker at 0x7fecb701d320>,\n",
       " <folium.vector_layers.CircleMarker at 0x7fecb701dc50>,\n",
       " <folium.vector_layers.CircleMarker at 0x7fecb701d940>,\n",
       " <folium.vector_layers.CircleMarker at 0x7fecb7220080>,\n",
       " <folium.vector_layers.CircleMarker at 0x7fecb72200b8>,\n",
       " <folium.vector_layers.CircleMarker at 0x7fecb7220128>,\n",
       " <folium.vector_layers.CircleMarker at 0x7fecb7220358>,\n",
       " <folium.vector_layers.CircleMarker at 0x7fecb7220400>,\n",
       " <folium.vector_layers.CircleMarker at 0x7fecb72204a8>,\n",
       " <folium.vector_layers.CircleMarker at 0x7fecb7220550>,\n",
       " <folium.vector_layers.CircleMarker at 0x7fecb701dac8>,\n",
       " <folium.vector_layers.CircleMarker at 0x7fecb701dda0>,\n",
       " <folium.vector_layers.CircleMarker at 0x7fecb701d6d8>,\n",
       " <folium.vector_layers.CircleMarker at 0x7fecb701de48>,\n",
       " <folium.vector_layers.CircleMarker at 0x7fecb701d5c0>,\n",
       " <folium.vector_layers.CircleMarker at 0x7fecb701de80>,\n",
       " <folium.vector_layers.CircleMarker at 0x7fecb702b518>,\n",
       " <folium.vector_layers.CircleMarker at 0x7fecb701d0f0>,\n",
       " <folium.vector_layers.CircleMarker at 0x7fecb0af8780>,\n",
       " <folium.vector_layers.CircleMarker at 0x7fecb0af8eb8>,\n",
       " <folium.vector_layers.CircleMarker at 0x7fecb7220518>,\n",
       " <folium.vector_layers.CircleMarker at 0x7fecb72203c8>,\n",
       " <folium.vector_layers.CircleMarker at 0x7fecb72202e8>,\n",
       " <folium.vector_layers.CircleMarker at 0x7fecb7220198>,\n",
       " <folium.vector_layers.CircleMarker at 0x7fecb72204e0>,\n",
       " <folium.vector_layers.CircleMarker at 0x7fecb7220710>,\n",
       " <folium.vector_layers.CircleMarker at 0x7fecb7220748>,\n",
       " <folium.vector_layers.CircleMarker at 0x7fecb72207f0>,\n",
       " <folium.vector_layers.CircleMarker at 0x7fecb7220898>,\n",
       " <folium.vector_layers.CircleMarker at 0x7fecb7220940>,\n",
       " <folium.vector_layers.CircleMarker at 0x7fecb72209e8>,\n",
       " <folium.vector_layers.CircleMarker at 0x7fecb7220a90>,\n",
       " <folium.vector_layers.CircleMarker at 0x7fecb0af84e0>,\n",
       " <folium.vector_layers.CircleMarker at 0x7fecb701df60>,\n",
       " <folium.vector_layers.CircleMarker at 0x7fecb701d080>,\n",
       " <folium.vector_layers.CircleMarker at 0x7fecb701deb8>,\n",
       " <folium.vector_layers.CircleMarker at 0x7fecb701db00>,\n",
       " <folium.vector_layers.CircleMarker at 0x7fecb701d2b0>,\n",
       " <folium.vector_layers.CircleMarker at 0x7fecb72208d0>,\n",
       " <folium.vector_layers.CircleMarker at 0x7fecb7220908>,\n",
       " <folium.vector_layers.CircleMarker at 0x7fecb72207b8>,\n",
       " <folium.vector_layers.CircleMarker at 0x7fecb72202b0>,\n",
       " <folium.vector_layers.CircleMarker at 0x7fecb7220630>,\n",
       " <folium.vector_layers.CircleMarker at 0x7fecb7220390>,\n",
       " <folium.vector_layers.CircleMarker at 0x7fecb7220470>,\n",
       " <folium.vector_layers.CircleMarker at 0x7fecb7220b38>,\n",
       " <folium.vector_layers.CircleMarker at 0x7fecb7220a20>,\n",
       " <folium.vector_layers.CircleMarker at 0x7fecb7220c50>,\n",
       " <folium.vector_layers.CircleMarker at 0x7fecb7220c88>,\n",
       " <folium.vector_layers.CircleMarker at 0x7fecb7220d30>,\n",
       " <folium.vector_layers.CircleMarker at 0x7fecb7220dd8>,\n",
       " <folium.vector_layers.CircleMarker at 0x7fecb7220e80>,\n",
       " <folium.vector_layers.CircleMarker at 0x7fecb7220f28>,\n",
       " <folium.vector_layers.CircleMarker at 0x7fecb7220fd0>,\n",
       " <folium.vector_layers.CircleMarker at 0x7fecb0af8d30>,\n",
       " <folium.vector_layers.CircleMarker at 0x7fecb701d7b8>,\n",
       " <folium.vector_layers.CircleMarker at 0x7fecb701dd68>,\n",
       " <folium.vector_layers.CircleMarker at 0x7fecb701d400>,\n",
       " <folium.vector_layers.CircleMarker at 0x7fecb7220ef0>,\n",
       " <folium.vector_layers.CircleMarker at 0x7fecb7220da0>,\n",
       " <folium.vector_layers.CircleMarker at 0x7fecb7220ba8>,\n",
       " <folium.vector_layers.CircleMarker at 0x7fecb7220c18>,\n",
       " <folium.vector_layers.CircleMarker at 0x7fecb7220048>,\n",
       " <folium.vector_layers.CircleMarker at 0x7fecb7220278>,\n",
       " <folium.vector_layers.CircleMarker at 0x7fecb7220588>,\n",
       " <folium.vector_layers.CircleMarker at 0x7fecb72201d0>,\n",
       " <folium.vector_layers.CircleMarker at 0x7fecb72209b0>,\n",
       " <folium.vector_layers.CircleMarker at 0x7fecb7220eb8>,\n",
       " <folium.vector_layers.CircleMarker at 0x7fecb72206a0>,\n",
       " <folium.vector_layers.CircleMarker at 0x7fecb705f128>,\n",
       " <folium.vector_layers.CircleMarker at 0x7fecb705f208>,\n",
       " <folium.vector_layers.CircleMarker at 0x7fecb705f2b0>,\n",
       " <folium.vector_layers.CircleMarker at 0x7fecb705f358>,\n",
       " <folium.vector_layers.CircleMarker at 0x7fecb705f400>,\n",
       " <folium.vector_layers.CircleMarker at 0x7fecb705f4a8>,\n",
       " <folium.vector_layers.CircleMarker at 0x7fecb705f550>,\n",
       " <folium.vector_layers.CircleMarker at 0x7fecb7220e10>,\n",
       " <folium.vector_layers.CircleMarker at 0x7fecb7220860>,\n",
       " <folium.vector_layers.CircleMarker at 0x7fecb72205f8>,\n",
       " <folium.vector_layers.CircleMarker at 0x7fecb7220b70>,\n",
       " <folium.vector_layers.CircleMarker at 0x7fecb7220d68>,\n",
       " <folium.vector_layers.CircleMarker at 0x7fecb0af8f60>,\n",
       " <folium.vector_layers.CircleMarker at 0x7fecb7220240>,\n",
       " <folium.vector_layers.CircleMarker at 0x7fecb701d438>,\n",
       " <folium.vector_layers.CircleMarker at 0x7fecb701dcf8>,\n",
       " <folium.vector_layers.CircleMarker at 0x7fecb705f390>,\n",
       " <folium.vector_layers.CircleMarker at 0x7fecb705f3c8>,\n",
       " <folium.vector_layers.CircleMarker at 0x7fecb705f278>,\n",
       " <folium.vector_layers.CircleMarker at 0x7fecb705f0b8>,\n",
       " <folium.vector_layers.CircleMarker at 0x7fecb705f5f8>,\n",
       " <folium.vector_layers.CircleMarker at 0x7fecb705f4e0>,\n",
       " <folium.vector_layers.CircleMarker at 0x7fecb705f710>,\n",
       " <folium.vector_layers.CircleMarker at 0x7fecb705f748>,\n",
       " <folium.vector_layers.CircleMarker at 0x7fecb705f7f0>,\n",
       " <folium.vector_layers.CircleMarker at 0x7fecb705f898>,\n",
       " <folium.vector_layers.CircleMarker at 0x7fecb705f940>,\n",
       " <folium.vector_layers.CircleMarker at 0x7fecb705f9e8>,\n",
       " <folium.vector_layers.CircleMarker at 0x7fecb705fa90>,\n",
       " <folium.vector_layers.CircleMarker at 0x7fecb701d198>,\n",
       " <folium.vector_layers.CircleMarker at 0x7fecb7220f98>,\n",
       " <folium.vector_layers.CircleMarker at 0x7fecb72206d8>,\n",
       " <folium.vector_layers.CircleMarker at 0x7fecb7220be0>,\n",
       " <folium.vector_layers.CircleMarker at 0x7fecb7220160>,\n",
       " <folium.vector_layers.CircleMarker at 0x7fecb7220320>,\n",
       " <folium.vector_layers.CircleMarker at 0x7fecb705f8d0>,\n",
       " <folium.vector_layers.CircleMarker at 0x7fecb705f908>,\n",
       " <folium.vector_layers.CircleMarker at 0x7fecb705f7b8>,\n",
       " <folium.vector_layers.CircleMarker at 0x7fecb705f048>,\n",
       " <folium.vector_layers.CircleMarker at 0x7fecb705f630>,\n",
       " <folium.vector_layers.CircleMarker at 0x7fecb705f240>,\n",
       " <folium.vector_layers.CircleMarker at 0x7fecb705f320>,\n",
       " <folium.vector_layers.CircleMarker at 0x7fecb705f5c0>,\n",
       " <folium.vector_layers.CircleMarker at 0x7fecb705fba8>,\n",
       " <folium.vector_layers.CircleMarker at 0x7fecb705fbe0>,\n",
       " <folium.vector_layers.CircleMarker at 0x7fecb705fac8>,\n",
       " <folium.vector_layers.CircleMarker at 0x7fecb705fcc0>,\n",
       " <folium.vector_layers.CircleMarker at 0x7fecb705fd68>,\n",
       " <folium.vector_layers.CircleMarker at 0x7fecb705fe10>,\n",
       " <folium.vector_layers.CircleMarker at 0x7fecb705feb8>,\n",
       " <folium.vector_layers.CircleMarker at 0x7fecb7220ac8>,\n",
       " <folium.vector_layers.CircleMarker at 0x7fecb7220a58>,\n",
       " <folium.vector_layers.CircleMarker at 0x7fecb7220cf8>,\n",
       " <folium.vector_layers.CircleMarker at 0x7fecb7220438>,\n",
       " <folium.vector_layers.CircleMarker at 0x7fecb7220208>,\n",
       " <folium.vector_layers.CircleMarker at 0x7fecb702bb38>,\n",
       " <folium.vector_layers.CircleMarker at 0x7fecb701d2e8>,\n",
       " <folium.vector_layers.CircleMarker at 0x7fecb701dc18>,\n",
       " <folium.vector_layers.CircleMarker at 0x7fecb0af86d8>,\n",
       " <folium.vector_layers.CircleMarker at 0x7fecb705ff60>,\n",
       " <folium.vector_layers.CircleMarker at 0x7fecb705fdd8>,\n",
       " <folium.vector_layers.CircleMarker at 0x7fecb705fc88>,\n",
       " <folium.vector_layers.CircleMarker at 0x7fecb705f470>,\n",
       " <folium.vector_layers.CircleMarker at 0x7fecb705fb38>,\n",
       " <folium.vector_layers.CircleMarker at 0x7fecb705f6d8>,\n",
       " <folium.vector_layers.CircleMarker at 0x7fecb705f438>,\n",
       " <folium.vector_layers.CircleMarker at 0x7fecb705f780>,\n",
       " <folium.vector_layers.CircleMarker at 0x7fecb705f860>,\n",
       " <folium.vector_layers.CircleMarker at 0x7fecb705fb00>,\n",
       " <folium.vector_layers.CircleMarker at 0x7fecb705fef0>,\n",
       " <folium.vector_layers.CircleMarker at 0x7fecb705ff98>,\n",
       " <folium.vector_layers.CircleMarker at 0x7fecb70460b8>,\n",
       " <folium.vector_layers.CircleMarker at 0x7fecb70461d0>,\n",
       " <folium.vector_layers.CircleMarker at 0x7fecb705fcf8>,\n",
       " <folium.vector_layers.CircleMarker at 0x7fecb705f588>,\n",
       " <folium.vector_layers.CircleMarker at 0x7fecb705f1d0>,\n",
       " <folium.vector_layers.CircleMarker at 0x7fecb705f978>,\n",
       " <folium.vector_layers.CircleMarker at 0x7fecb705f198>,\n",
       " <folium.vector_layers.CircleMarker at 0x7fecb702b4e0>,\n",
       " <folium.vector_layers.CircleMarker at 0x7fecb705f518>,\n",
       " <folium.vector_layers.CircleMarker at 0x7fecb705fd30>,\n",
       " <folium.vector_layers.CircleMarker at 0x7fecb701d128>,\n",
       " <folium.vector_layers.CircleMarker at 0x7fecb701da20>,\n",
       " <folium.vector_layers.CircleMarker at 0x7fecb0af8fd0>,\n",
       " <folium.vector_layers.CircleMarker at 0x7fecb7220f60>,\n",
       " <folium.vector_layers.CircleMarker at 0x7fecb7220978>,\n",
       " <folium.vector_layers.CircleMarker at 0x7fecb7220828>,\n",
       " <folium.vector_layers.CircleMarker at 0x7fecb7046278>,\n",
       " <folium.vector_layers.CircleMarker at 0x7fecb7046320>,\n",
       " <folium.vector_layers.CircleMarker at 0x7fecb7046208>,\n",
       " <folium.vector_layers.CircleMarker at 0x7fecb7046400>,\n",
       " <folium.vector_layers.CircleMarker at 0x7fecb70464a8>,\n",
       " <folium.vector_layers.CircleMarker at 0x7fecb7046550>,\n",
       " <folium.vector_layers.CircleMarker at 0x7fecb70465f8>,\n",
       " <folium.vector_layers.CircleMarker at 0x7fecb7220b00>,\n",
       " <folium.vector_layers.CircleMarker at 0x7fecb701d978>,\n",
       " <folium.vector_layers.CircleMarker at 0x7fecb0af8c18>,\n",
       " <folium.vector_layers.CircleMarker at 0x7fecb7220cc0>,\n",
       " <folium.vector_layers.CircleMarker at 0x7fecb705fe80>,\n",
       " <folium.vector_layers.CircleMarker at 0x7fecb705fa58>,\n",
       " <folium.vector_layers.CircleMarker at 0x7fecb705f668>,\n",
       " <folium.vector_layers.CircleMarker at 0x7fecb705fe48>,\n",
       " <folium.vector_layers.CircleMarker at 0x7fecb705f6a0>,\n",
       " <folium.vector_layers.CircleMarker at 0x7fecb70466a0>,\n",
       " <folium.vector_layers.CircleMarker at 0x7fecb7046518>,\n",
       " <folium.vector_layers.CircleMarker at 0x7fecb70463c8>,\n",
       " <folium.vector_layers.CircleMarker at 0x7fecb70460f0>,\n",
       " <folium.vector_layers.CircleMarker at 0x7fecb7046160>,\n",
       " <folium.vector_layers.CircleMarker at 0x7fecb7046588>,\n",
       " <folium.vector_layers.CircleMarker at 0x7fecb70467b8>,\n",
       " <folium.vector_layers.CircleMarker at 0x7fecb70467f0>,\n",
       " <folium.vector_layers.CircleMarker at 0x7fecb7046898>,\n",
       " <folium.vector_layers.CircleMarker at 0x7fecb7046940>,\n",
       " <folium.vector_layers.CircleMarker at 0x7fecb70469e8>,\n",
       " <folium.vector_layers.CircleMarker at 0x7fecb7046a90>,\n",
       " <folium.vector_layers.CircleMarker at 0x7fecb7046b38>,\n",
       " <folium.vector_layers.CircleMarker at 0x7fecb0af85c0>,\n",
       " <folium.vector_layers.CircleMarker at 0x7fecb701d908>,\n",
       " <folium.vector_layers.CircleMarker at 0x7fecb705f080>,\n",
       " <folium.vector_layers.CircleMarker at 0x7fecb7220780>,\n",
       " <folium.vector_layers.CircleMarker at 0x7fecb72205c0>,\n",
       " <folium.vector_layers.CircleMarker at 0x7fecb705f0f0>,\n",
       " <folium.vector_layers.CircleMarker at 0x7fecb7046a58>,\n",
       " <folium.vector_layers.CircleMarker at 0x7fecb7046908>,\n",
       " <folium.vector_layers.CircleMarker at 0x7fecb7046240>,\n",
       " <folium.vector_layers.CircleMarker at 0x7fecb7046780>,\n",
       " <folium.vector_layers.CircleMarker at 0x7fecb7046358>,\n",
       " <folium.vector_layers.CircleMarker at 0x7fecb7046390>,\n",
       " <folium.vector_layers.CircleMarker at 0x7fecb70465c0>,\n",
       " <folium.vector_layers.CircleMarker at 0x7fecb7046be0>,\n",
       " <folium.vector_layers.CircleMarker at 0x7fecb7046ac8>,\n",
       " <folium.vector_layers.CircleMarker at 0x7fecb7046cf8>,\n",
       " <folium.vector_layers.CircleMarker at 0x7fecb7046d30>,\n",
       " <folium.vector_layers.CircleMarker at 0x7fecb7046dd8>,\n",
       " <folium.vector_layers.CircleMarker at 0x7fecb7046e80>,\n",
       " <folium.vector_layers.CircleMarker at 0x7fecb7046f28>,\n",
       " <folium.vector_layers.CircleMarker at 0x7fecb7046fd0>,\n",
       " <folium.vector_layers.CircleMarker at 0x7fecb7046eb8>,\n",
       " <folium.vector_layers.CircleMarker at 0x7fecb7046978>,\n",
       " <folium.vector_layers.CircleMarker at 0x7fecb7046ef0>,\n",
       " <folium.vector_layers.CircleMarker at 0x7fecb7046c50>,\n",
       " <folium.vector_layers.CircleMarker at 0x7fecb7046cc0>,\n",
       " <folium.vector_layers.CircleMarker at 0x7fecb7046080>,\n",
       " <folium.vector_layers.CircleMarker at 0x7fecb7046470>,\n",
       " <folium.vector_layers.CircleMarker at 0x7fecb7046748>,\n",
       " <folium.vector_layers.CircleMarker at 0x7fecb7220668>,\n",
       " <folium.vector_layers.CircleMarker at 0x7fecb7046860>,\n",
       " <folium.vector_layers.CircleMarker at 0x7fecb70469b0>,\n",
       " <folium.vector_layers.CircleMarker at 0x7fecb7046630>,\n",
       " <folium.vector_layers.CircleMarker at 0x7fecb705f2e8>,\n",
       " <folium.vector_layers.CircleMarker at 0x7fecb705fc18>,\n",
       " <folium.vector_layers.CircleMarker at 0x7fecb705fb70>,\n",
       " <folium.vector_layers.CircleMarker at 0x7fecb7030160>,\n",
       " <folium.vector_layers.CircleMarker at 0x7fecb7030278>,\n",
       " <folium.vector_layers.CircleMarker at 0x7fecb70302b0>,\n",
       " <folium.vector_layers.CircleMarker at 0x7fecb7030358>,\n",
       " <folium.vector_layers.CircleMarker at 0x7fecb7030400>,\n",
       " <folium.vector_layers.CircleMarker at 0x7fecb70304a8>,\n",
       " <folium.vector_layers.CircleMarker at 0x7fecb7030550>,\n",
       " <folium.vector_layers.CircleMarker at 0x7fecb70305f8>,\n",
       " <folium.vector_layers.CircleMarker at 0x7fecb0af86a0>,\n",
       " <folium.vector_layers.CircleMarker at 0x7fecb705f828>,\n",
       " <folium.vector_layers.CircleMarker at 0x7fecb70466d8>,\n",
       " <folium.vector_layers.CircleMarker at 0x7fecb70462b0>,\n",
       " <folium.vector_layers.CircleMarker at 0x7fecb7046198>,\n",
       " <folium.vector_layers.CircleMarker at 0x7fecb7046b70>,\n",
       " <folium.vector_layers.CircleMarker at 0x7fecb7046710>,\n",
       " <folium.vector_layers.CircleMarker at 0x7fecb7046d68>,\n",
       " <folium.vector_layers.CircleMarker at 0x7fecb7046c88>,\n",
       " <folium.vector_layers.CircleMarker at 0x7fecb7030518>,\n",
       " <folium.vector_layers.CircleMarker at 0x7fecb70303c8>,\n",
       " <folium.vector_layers.CircleMarker at 0x7fecb7030198>,\n",
       " <folium.vector_layers.CircleMarker at 0x7fecb7030208>,\n",
       " <folium.vector_layers.CircleMarker at 0x7fecb70306a0>,\n",
       " <folium.vector_layers.CircleMarker at 0x7fecb7030588>,\n",
       " <folium.vector_layers.CircleMarker at 0x7fecb70307b8>,\n",
       " <folium.vector_layers.CircleMarker at 0x7fecb70307f0>,\n",
       " <folium.vector_layers.CircleMarker at 0x7fecb7030898>,\n",
       " <folium.vector_layers.CircleMarker at 0x7fecb7030940>,\n",
       " <folium.vector_layers.CircleMarker at 0x7fecb70309e8>,\n",
       " <folium.vector_layers.CircleMarker at 0x7fecb7030a90>,\n",
       " <folium.vector_layers.CircleMarker at 0x7fecb7030b38>,\n",
       " <folium.vector_layers.CircleMarker at 0x7fecb70468d0>,\n",
       " <folium.vector_layers.CircleMarker at 0x7fecb705ffd0>,\n",
       " <folium.vector_layers.CircleMarker at 0x7fecb7220e48>,\n",
       " <folium.vector_layers.CircleMarker at 0x7fecb7046828>,\n",
       " <folium.vector_layers.CircleMarker at 0x7fecb7046f98>,\n",
       " <folium.vector_layers.CircleMarker at 0x7fecb7046048>,\n",
       " <folium.vector_layers.CircleMarker at 0x7fecb7030828>,\n",
       " <folium.vector_layers.CircleMarker at 0x7fecb7030748>,\n",
       " <folium.vector_layers.CircleMarker at 0x7fecb70300b8>,\n",
       " <folium.vector_layers.CircleMarker at 0x7fecb7030080>,\n",
       " <folium.vector_layers.CircleMarker at 0x7fecb70304e0>,\n",
       " <folium.vector_layers.CircleMarker at 0x7fecb7030390>,\n",
       " <folium.vector_layers.CircleMarker at 0x7fecb7030470>,\n",
       " <folium.vector_layers.CircleMarker at 0x7fecb7030be0>,\n",
       " <folium.vector_layers.CircleMarker at 0x7fecb7030ac8>,\n",
       " <folium.vector_layers.CircleMarker at 0x7fecb7030cf8>,\n",
       " <folium.vector_layers.CircleMarker at 0x7fecb7030d30>,\n",
       " <folium.vector_layers.CircleMarker at 0x7fecb7030dd8>,\n",
       " <folium.vector_layers.CircleMarker at 0x7fecb7030e80>,\n",
       " <folium.vector_layers.CircleMarker at 0x7fecb7030f28>,\n",
       " <folium.vector_layers.CircleMarker at 0x7fecb7030fd0>,\n",
       " <folium.vector_layers.CircleMarker at 0x7fecb7030eb8>,\n",
       " <folium.vector_layers.CircleMarker at 0x7fecb705fc50>,\n",
       " <folium.vector_layers.CircleMarker at 0x7fecb7046da0>,\n",
       " <folium.vector_layers.CircleMarker at 0x7fecb7046e10>,\n",
       " <folium.vector_layers.CircleMarker at 0x7fecb70462e8>,\n",
       " <folium.vector_layers.CircleMarker at 0x7fecb7030d68>,\n",
       " <folium.vector_layers.CircleMarker at 0x7fecb7030c88>,\n",
       " <folium.vector_layers.CircleMarker at 0x7fecb7030438>,\n",
       " <folium.vector_layers.CircleMarker at 0x7fecb7030320>,\n",
       " <folium.vector_layers.CircleMarker at 0x7fecb7030a20>,\n",
       " <folium.vector_layers.CircleMarker at 0x7fecb7030128>,\n",
       " <folium.vector_layers.CircleMarker at 0x7fecb70301d0>,\n",
       " <folium.vector_layers.CircleMarker at 0x7fecb7030a58>,\n",
       " <folium.vector_layers.CircleMarker at 0x7fecb7030630>,\n",
       " <folium.vector_layers.CircleMarker at 0x7fecb7030ba8>,\n",
       " <folium.vector_layers.CircleMarker at 0x7fecb7030710>,\n",
       " <folium.vector_layers.CircleMarker at 0x7fecb71de1d0>,\n",
       " <folium.vector_layers.CircleMarker at 0x7fecb71de0f0>,\n",
       " <folium.vector_layers.CircleMarker at 0x7fecb71de2e8>,\n",
       " <folium.vector_layers.CircleMarker at 0x7fecb71de390>,\n",
       " <folium.vector_layers.CircleMarker at 0x7fecb71de438>,\n",
       " <folium.vector_layers.CircleMarker at 0x7fecb71de4e0>,\n",
       " <folium.vector_layers.CircleMarker at 0x7fecb7030b00>,\n",
       " <folium.vector_layers.CircleMarker at 0x7fecb7030978>,\n",
       " <folium.vector_layers.CircleMarker at 0x7fecb7030860>,\n",
       " <folium.vector_layers.CircleMarker at 0x7fecb7030da0>,\n",
       " <folium.vector_layers.CircleMarker at 0x7fecb7030cc0>,\n",
       " <folium.vector_layers.CircleMarker at 0x7fecb7030e48>,\n",
       " <folium.vector_layers.CircleMarker at 0x7fecb705fa20>,\n",
       " <folium.vector_layers.CircleMarker at 0x7fecb7030b70>,\n",
       " <folium.vector_layers.CircleMarker at 0x7fecb7046e48>,\n",
       " <folium.vector_layers.CircleMarker at 0x7fecb7046128>,\n",
       " <folium.vector_layers.CircleMarker at 0x7fecb71de4a8>,\n",
       " <folium.vector_layers.CircleMarker at 0x7fecb71de358>,\n",
       " <folium.vector_layers.CircleMarker at 0x7fecb71de278>,\n",
       " <folium.vector_layers.CircleMarker at 0x7fecb71de0b8>,\n",
       " <folium.vector_layers.CircleMarker at 0x7fecb71de470>,\n",
       " <folium.vector_layers.CircleMarker at 0x7fecb71de6a0>,\n",
       " <folium.vector_layers.CircleMarker at 0x7fecb71de6d8>,\n",
       " <folium.vector_layers.CircleMarker at 0x7fecb71de780>,\n",
       " <folium.vector_layers.CircleMarker at 0x7fecb71de828>,\n",
       " <folium.vector_layers.CircleMarker at 0x7fecb71de8d0>,\n",
       " <folium.vector_layers.CircleMarker at 0x7fecb71de978>,\n",
       " <folium.vector_layers.CircleMarker at 0x7fecb71dea20>,\n",
       " <folium.vector_layers.CircleMarker at 0x7fecb7046c18>,\n",
       " <folium.vector_layers.CircleMarker at 0x7fecb7030f98>,\n",
       " <folium.vector_layers.CircleMarker at 0x7fecb7030e10>,\n",
       " <folium.vector_layers.CircleMarker at 0x7fecb70305c0>,\n",
       " <folium.vector_layers.CircleMarker at 0x7fecb7030908>,\n",
       " <folium.vector_layers.CircleMarker at 0x7fecb70306d8>,\n",
       " <folium.vector_layers.CircleMarker at 0x7fecb71de860>,\n",
       " <folium.vector_layers.CircleMarker at 0x7fecb71de898>,\n",
       " <folium.vector_layers.CircleMarker at 0x7fecb71de748>,\n",
       " <folium.vector_layers.CircleMarker at 0x7fecb71de240>,\n",
       " <folium.vector_layers.CircleMarker at 0x7fecb71de5c0>,\n",
       " <folium.vector_layers.CircleMarker at 0x7fecb71de320>,\n",
       " <folium.vector_layers.CircleMarker at 0x7fecb71de400>,\n",
       " <folium.vector_layers.CircleMarker at 0x7fecb71deac8>,\n",
       " <folium.vector_layers.CircleMarker at 0x7fecb71de9b0>,\n",
       " <folium.vector_layers.CircleMarker at 0x7fecb71debe0>,\n",
       " <folium.vector_layers.CircleMarker at 0x7fecb71dec18>,\n",
       " <folium.vector_layers.CircleMarker at 0x7fecb71decc0>,\n",
       " <folium.vector_layers.CircleMarker at 0x7fecb71ded68>,\n",
       " <folium.vector_layers.CircleMarker at 0x7fecb71dee10>,\n",
       " <folium.vector_layers.CircleMarker at 0x7fecb71deeb8>,\n",
       " <folium.vector_layers.CircleMarker at 0x7fecb71def60>,\n",
       " <folium.vector_layers.CircleMarker at 0x7fecb7046a20>,\n",
       " <folium.vector_layers.CircleMarker at 0x7fecb7030c50>,\n",
       " <folium.vector_layers.CircleMarker at 0x7fecb7030ef0>,\n",
       " <folium.vector_layers.CircleMarker at 0x7fecb7030c18>,\n",
       " <folium.vector_layers.CircleMarker at 0x7fecb71dee80>,\n",
       " <folium.vector_layers.CircleMarker at 0x7fecb71ded30>,\n",
       " <folium.vector_layers.CircleMarker at 0x7fecb71deb38>,\n",
       " <folium.vector_layers.CircleMarker at 0x7fecb71deba8>,\n",
       " <folium.vector_layers.CircleMarker at 0x7fecb71de080>,\n",
       " <folium.vector_layers.CircleMarker at 0x7fecb71de208>,\n",
       " <folium.vector_layers.CircleMarker at 0x7fecb71de518>,\n",
       " <folium.vector_layers.CircleMarker at 0x7fecb71de128>,\n",
       " <folium.vector_layers.CircleMarker at 0x7fecb71de940>,\n",
       " <folium.vector_layers.CircleMarker at 0x7fecb71deef0>,\n",
       " <folium.vector_layers.CircleMarker at 0x7fecb71de9e8>,\n",
       " <folium.vector_layers.CircleMarker at 0x7fecb71be048>,\n",
       " <folium.vector_layers.CircleMarker at 0x7fecb71be160>,\n",
       " <folium.vector_layers.CircleMarker at 0x7fecb71be240>,\n",
       " <folium.vector_layers.CircleMarker at 0x7fecb71be2e8>,\n",
       " <folium.vector_layers.CircleMarker at 0x7fecb71be390>,\n",
       " <folium.vector_layers.CircleMarker at 0x7fecb71be438>,\n",
       " <folium.vector_layers.CircleMarker at 0x7fecb71be4e0>,\n",
       " <folium.vector_layers.CircleMarker at 0x7fecb71deda0>,\n",
       " <folium.vector_layers.CircleMarker at 0x7fecb71dee48>,\n",
       " <folium.vector_layers.CircleMarker at 0x7fecb71de2b0>,\n",
       " <folium.vector_layers.CircleMarker at 0x7fecb71de668>,\n",
       " <folium.vector_layers.CircleMarker at 0x7fecb71dec50>,\n",
       " <folium.vector_layers.CircleMarker at 0x7fecb71dec88>,\n",
       " <folium.vector_layers.CircleMarker at 0x7fecb7046438>,\n",
       " <folium.vector_layers.CircleMarker at 0x7fecb71dea58>,\n",
       " <folium.vector_layers.CircleMarker at 0x7fecb70309b0>,\n",
       " <folium.vector_layers.CircleMarker at 0x7fecb7030f60>,\n",
       " <folium.vector_layers.CircleMarker at 0x7fecb71be400>,\n",
       " <folium.vector_layers.CircleMarker at 0x7fecb71be2b0>,\n",
       " <folium.vector_layers.CircleMarker at 0x7fecb71be0f0>,\n",
       " <folium.vector_layers.CircleMarker at 0x7fecb71be588>,\n",
       " <folium.vector_layers.CircleMarker at 0x7fecb71be470>,\n",
       " <folium.vector_layers.CircleMarker at 0x7fecb71be6a0>,\n",
       " <folium.vector_layers.CircleMarker at 0x7fecb71be6d8>,\n",
       " <folium.vector_layers.CircleMarker at 0x7fecb71be780>,\n",
       " <folium.vector_layers.CircleMarker at 0x7fecb71be828>,\n",
       " <folium.vector_layers.CircleMarker at 0x7fecb71be8d0>,\n",
       " <folium.vector_layers.CircleMarker at 0x7fecb71be978>,\n",
       " <folium.vector_layers.CircleMarker at 0x7fecb71bea20>,\n",
       " <folium.vector_layers.CircleMarker at 0x7fecb71de710>,\n",
       " <folium.vector_layers.CircleMarker at 0x7fecb71de198>,\n",
       " <folium.vector_layers.CircleMarker at 0x7fecb71de588>,\n",
       " <folium.vector_layers.CircleMarker at 0x7fecb71de160>,\n",
       " <folium.vector_layers.CircleMarker at 0x7fecb71defd0>,\n",
       " <folium.vector_layers.CircleMarker at 0x7fecb71de550>,\n",
       " <folium.vector_layers.CircleMarker at 0x7fecb71de630>,\n",
       " <folium.vector_layers.CircleMarker at 0x7fecb705f160>,\n",
       " <folium.vector_layers.CircleMarker at 0x7fecb7030048>,\n",
       " <folium.vector_layers.CircleMarker at 0x7fecb7030780>,\n",
       " <folium.vector_layers.CircleMarker at 0x7fecb7046668>,\n",
       " <folium.vector_layers.CircleMarker at 0x7fecb71be860>,\n",
       " <folium.vector_layers.CircleMarker at 0x7fecb71be898>,\n",
       " <folium.vector_layers.CircleMarker at 0x7fecb71be748>,\n",
       " <folium.vector_layers.CircleMarker at 0x7fecb71be080>,\n",
       " <folium.vector_layers.CircleMarker at 0x7fecb71be5c0>,\n",
       " <folium.vector_layers.CircleMarker at 0x7fecb71be278>,\n",
       " <folium.vector_layers.CircleMarker at 0x7fecb71be358>,\n",
       " <folium.vector_layers.CircleMarker at 0x7fecb71be908>,\n",
       " <folium.vector_layers.CircleMarker at 0x7fecb71beb00>,\n",
       " <folium.vector_layers.CircleMarker at 0x7fecb71beba8>,\n",
       " <folium.vector_layers.CircleMarker at 0x7fecb71be320>,\n",
       " <folium.vector_layers.CircleMarker at 0x7fecb705f9b0>,\n",
       " <folium.vector_layers.CircleMarker at 0x7fecb7046b00>,\n",
       " <folium.vector_layers.CircleMarker at 0x7fecb70308d0>,\n",
       " <folium.vector_layers.CircleMarker at 0x7fecb71dea90>,\n",
       " <folium.vector_layers.CircleMarker at 0x7fecb71de7b8>,\n",
       " <folium.vector_layers.CircleMarker at 0x7fecb71de048>,\n",
       " <folium.vector_layers.CircleMarker at 0x7fecb71de5f8>,\n",
       " <folium.vector_layers.CircleMarker at 0x7fecb71deb70>,\n",
       " <folium.vector_layers.CircleMarker at 0x7fecb71be1d0>,\n",
       " <folium.vector_layers.CircleMarker at 0x7fecb71be668>,\n",
       " <folium.vector_layers.CircleMarker at 0x7fecb71be3c8>,\n",
       " <folium.vector_layers.CircleMarker at 0x7fecb71be710>,\n",
       " <folium.vector_layers.CircleMarker at 0x7fecb71be7f0>,\n",
       " <folium.vector_layers.CircleMarker at 0x7fecb71bea90>,\n",
       " <folium.vector_layers.CircleMarker at 0x7fecb71becf8>,\n",
       " <folium.vector_layers.CircleMarker at 0x7fecb71bed30>,\n",
       " <folium.vector_layers.CircleMarker at 0x7fecb71bec18>,\n",
       " <folium.vector_layers.CircleMarker at 0x7fecb71bee10>,\n",
       " <folium.vector_layers.CircleMarker at 0x7fecb71beeb8>,\n",
       " <folium.vector_layers.CircleMarker at 0x7fecb71bef60>,\n",
       " <folium.vector_layers.CircleMarker at 0x7fecb71beef0>,\n",
       " <folium.vector_layers.CircleMarker at 0x7fecb71a5048>,\n",
       " <folium.vector_layers.CircleMarker at 0x7fecb71bea58>,\n",
       " <folium.vector_layers.CircleMarker at 0x7fecb71bef28>,\n",
       " <folium.vector_layers.CircleMarker at 0x7fecb71be9b0>,\n",
       " <folium.vector_layers.CircleMarker at 0x7fecb71bebe0>,\n",
       " <folium.vector_layers.CircleMarker at 0x7fecb71be518>,\n",
       " <folium.vector_layers.CircleMarker at 0x7fecb71be630>,\n",
       " <folium.vector_layers.CircleMarker at 0x7fecb71beb70>,\n",
       " <folium.vector_layers.CircleMarker at 0x7fecb71be198>,\n",
       " <folium.vector_layers.CircleMarker at 0x7fecb71be5f8>,\n",
       " <folium.vector_layers.CircleMarker at 0x7fecb71dedd8>,\n",
       " <folium.vector_layers.CircleMarker at 0x7fecb7046ba8>,\n",
       " <folium.vector_layers.CircleMarker at 0x7fecb70300f0>,\n",
       " <folium.vector_layers.CircleMarker at 0x7fecb7030240>,\n",
       " <folium.vector_layers.CircleMarker at 0x7fecb71deb00>,\n",
       " <folium.vector_layers.CircleMarker at 0x7fecb71a5160>,\n",
       " <folium.vector_layers.CircleMarker at 0x7fecb71a52b0>,\n",
       " <folium.vector_layers.CircleMarker at 0x7fecb71a52e8>,\n",
       " <folium.vector_layers.CircleMarker at 0x7fecb71a5390>,\n",
       " <folium.vector_layers.CircleMarker at 0x7fecb71a5438>,\n",
       " <folium.vector_layers.CircleMarker at 0x7fecb71a54e0>,\n",
       " <folium.vector_layers.CircleMarker at 0x7fecb71a5588>,\n",
       " <folium.vector_layers.CircleMarker at 0x7fecb71a5630>,\n",
       " <folium.vector_layers.CircleMarker at 0x7fecb7030668>,\n",
       " <folium.vector_layers.CircleMarker at 0x7fecb71def98>,\n",
       " <folium.vector_layers.CircleMarker at 0x7fecb71decf8>,\n",
       " <folium.vector_layers.CircleMarker at 0x7fecb71beac8>,\n",
       " <folium.vector_layers.CircleMarker at 0x7fecb71be208>,\n",
       " <folium.vector_layers.CircleMarker at 0x7fecb71bed68>,\n",
       " <folium.vector_layers.CircleMarker at 0x7fecb71be940>,\n",
       " <folium.vector_layers.CircleMarker at 0x7fecb71be7b8>,\n",
       " <folium.vector_layers.CircleMarker at 0x7fecb71becc0>,\n",
       " <folium.vector_layers.CircleMarker at 0x7fecb71a5550>,\n",
       " <folium.vector_layers.CircleMarker at 0x7fecb71a5400>,\n",
       " <folium.vector_layers.CircleMarker at 0x7fecb71a5198>,\n",
       " <folium.vector_layers.CircleMarker at 0x7fecb71a5240>,\n",
       " <folium.vector_layers.CircleMarker at 0x7fecb71a56d8>,\n",
       " <folium.vector_layers.CircleMarker at 0x7fecb71a55c0>,\n",
       " <folium.vector_layers.CircleMarker at 0x7fecb71a57f0>,\n",
       " <folium.vector_layers.CircleMarker at 0x7fecb71a5828>,\n",
       " <folium.vector_layers.CircleMarker at 0x7fecb71a58d0>,\n",
       " <folium.vector_layers.CircleMarker at 0x7fecb71a5978>,\n",
       " <folium.vector_layers.CircleMarker at 0x7fecb71a5a20>,\n",
       " <folium.vector_layers.CircleMarker at 0x7fecb71a5ac8>,\n",
       " <folium.vector_layers.CircleMarker at 0x7fecb71a5b70>,\n",
       " <folium.vector_layers.CircleMarker at 0x7fecb71be4a8>,\n",
       " <folium.vector_layers.CircleMarker at 0x7fecb71be9e8>,\n",
       " <folium.vector_layers.CircleMarker at 0x7fecb7046f60>,\n",
       " <folium.vector_layers.CircleMarker at 0x7fecb71def28>,\n",
       " <folium.vector_layers.CircleMarker at 0x7fecb71de7f0>,\n",
       " <folium.vector_layers.CircleMarker at 0x7fecb71befd0>,\n",
       " <folium.vector_layers.CircleMarker at 0x7fecb71a5a90>,\n",
       " <folium.vector_layers.CircleMarker at 0x7fecb71a5940>,\n",
       " <folium.vector_layers.CircleMarker at 0x7fecb71a5748>,\n",
       " <folium.vector_layers.CircleMarker at 0x7fecb71a57b8>,\n",
       " <folium.vector_layers.CircleMarker at 0x7fecb71a51d0>,\n",
       " <folium.vector_layers.CircleMarker at 0x7fecb71a5278>,\n",
       " <folium.vector_layers.CircleMarker at 0x7fecb71a50b8>,\n",
       " <folium.vector_layers.CircleMarker at 0x7fecb71a56a0>,\n",
       " <folium.vector_layers.CircleMarker at 0x7fecb71a5c88>,\n",
       " <folium.vector_layers.CircleMarker at 0x7fecb71a5cc0>,\n",
       " <folium.vector_layers.CircleMarker at 0x7fecb71a5ba8>,\n",
       " <folium.vector_layers.CircleMarker at 0x7fecb71a5da0>,\n",
       " <folium.vector_layers.CircleMarker at 0x7fecb71a5e48>,\n",
       " <folium.vector_layers.CircleMarker at 0x7fecb71a5ef0>,\n",
       " <folium.vector_layers.CircleMarker at 0x7fecb71a5f98>,\n",
       " <folium.vector_layers.CircleMarker at 0x7fecb70302e8>,\n",
       " <folium.vector_layers.CircleMarker at 0x7fecb71bedd8>,\n",
       " <folium.vector_layers.CircleMarker at 0x7fecb71beb38>,\n",
       " <folium.vector_layers.CircleMarker at 0x7fecb71beda0>,\n",
       " <folium.vector_layers.CircleMarker at 0x7fecb71a5f28>,\n",
       " <folium.vector_layers.CircleMarker at 0x7fecb71a5eb8>,\n",
       " <folium.vector_layers.CircleMarker at 0x7fecb71a5d68>,\n",
       " <folium.vector_layers.CircleMarker at 0x7fecb71a54a8>,\n",
       " <folium.vector_layers.CircleMarker at 0x7fecb71a5c18>,\n",
       " <folium.vector_layers.CircleMarker at 0x7fecb71a5208>,\n",
       " <folium.vector_layers.CircleMarker at 0x7fecb71a5320>,\n",
       " <folium.vector_layers.CircleMarker at 0x7fecb71a5860>,\n",
       " <folium.vector_layers.CircleMarker at 0x7fecb71a5898>,\n",
       " <folium.vector_layers.CircleMarker at 0x7fecb71a5b38>,\n",
       " <folium.vector_layers.CircleMarker at 0x7fecb71a5668>,\n",
       " <folium.vector_layers.CircleMarker at 0x7fecb718c0f0>,\n",
       " <folium.vector_layers.CircleMarker at 0x7fecb718c1d0>,\n",
       " <folium.vector_layers.CircleMarker at 0x7fecb718c278>,\n",
       " <folium.vector_layers.CircleMarker at 0x7fecb718c320>,\n",
       " <folium.vector_layers.CircleMarker at 0x7fecb718c3c8>,\n",
       " <folium.vector_layers.CircleMarker at 0x7fecb718c470>,\n",
       " <folium.vector_layers.CircleMarker at 0x7fecb718c518>,\n",
       " <folium.vector_layers.CircleMarker at 0x7fecb71a5dd8>,\n",
       " <folium.vector_layers.CircleMarker at 0x7fecb71a5358>,\n",
       " <folium.vector_layers.CircleMarker at 0x7fecb71a50f0>,\n",
       " <folium.vector_layers.CircleMarker at 0x7fecb71a5cf8>,\n",
       " <folium.vector_layers.CircleMarker at 0x7fecb71a5d30>,\n",
       " <folium.vector_layers.CircleMarker at 0x7fecb71a5f60>,\n",
       " <folium.vector_layers.CircleMarker at 0x7fecb71a5c50>,\n",
       " <folium.vector_layers.CircleMarker at 0x7fecb71de908>,\n",
       " <folium.vector_layers.CircleMarker at 0x7fecb71be0b8>,\n",
       " <folium.vector_layers.CircleMarker at 0x7fecb71bec88>,\n",
       " <folium.vector_layers.CircleMarker at 0x7fecb718c208>,\n",
       " <folium.vector_layers.CircleMarker at 0x7fecb718c0b8>,\n",
       " <folium.vector_layers.CircleMarker at 0x7fecb718c160>,\n",
       " <folium.vector_layers.CircleMarker at 0x7fecb718c5c0>,\n",
       " <folium.vector_layers.CircleMarker at 0x7fecb718c4a8>,\n",
       " <folium.vector_layers.CircleMarker at 0x7fecb718c6d8>,\n",
       " <folium.vector_layers.CircleMarker at 0x7fecb718c710>,\n",
       " <folium.vector_layers.CircleMarker at 0x7fecb718c7b8>,\n",
       " <folium.vector_layers.CircleMarker at 0x7fecb718c860>,\n",
       " <folium.vector_layers.CircleMarker at 0x7fecb718c908>,\n",
       " <folium.vector_layers.CircleMarker at 0x7fecb718c9b0>,\n",
       " <folium.vector_layers.CircleMarker at 0x7fecb718ca58>,\n",
       " <folium.vector_layers.CircleMarker at 0x7fecb71be128>,\n",
       " <folium.vector_layers.CircleMarker at 0x7fecb71be550>,\n",
       " <folium.vector_layers.CircleMarker at 0x7fecb71a5a58>,\n",
       " <folium.vector_layers.CircleMarker at 0x7fecb71a55f8>,\n",
       " <folium.vector_layers.CircleMarker at 0x7fecb71a59e8>,\n",
       " <folium.vector_layers.CircleMarker at 0x7fecb71a5710>,\n",
       " <folium.vector_layers.CircleMarker at 0x7fecb718c978>,\n",
       " <folium.vector_layers.CircleMarker at 0x7fecb718c828>,\n",
       " <folium.vector_layers.CircleMarker at 0x7fecb718c630>,\n",
       " <folium.vector_layers.CircleMarker at 0x7fecb718c6a0>,\n",
       " <folium.vector_layers.CircleMarker at 0x7fecb718c390>,\n",
       " <folium.vector_layers.CircleMarker at 0x7fecb718c198>,\n",
       " <folium.vector_layers.CircleMarker at 0x7fecb718c2b0>,\n",
       " <folium.vector_layers.CircleMarker at 0x7fecb718cb00>,\n",
       " <folium.vector_layers.CircleMarker at 0x7fecb718c9e8>,\n",
       " <folium.vector_layers.CircleMarker at 0x7fecb718cc18>,\n",
       " <folium.vector_layers.CircleMarker at 0x7fecb718cc50>,\n",
       " <folium.vector_layers.CircleMarker at 0x7fecb718ccf8>,\n",
       " <folium.vector_layers.CircleMarker at 0x7fecb718cda0>,\n",
       " <folium.vector_layers.CircleMarker at 0x7fecb718ce48>,\n",
       " <folium.vector_layers.CircleMarker at 0x7fecb718cef0>,\n",
       " <folium.vector_layers.CircleMarker at 0x7fecb718cf98>,\n",
       " <folium.vector_layers.CircleMarker at 0x7fecb71a5e10>,\n",
       " <folium.vector_layers.CircleMarker at 0x7fecb71bee48>,\n",
       " <folium.vector_layers.CircleMarker at 0x7fecb71a5b00>,\n",
       " <folium.vector_layers.CircleMarker at 0x7fecb71a53c8>,\n",
       " <folium.vector_layers.CircleMarker at 0x7fecb718cc88>,\n",
       " <folium.vector_layers.CircleMarker at 0x7fecb718cba8>,\n",
       " <folium.vector_layers.CircleMarker at 0x7fecb718c4e0>,\n",
       " <folium.vector_layers.CircleMarker at 0x7fecb718c2e8>,\n",
       " <folium.vector_layers.CircleMarker at 0x7fecb718c940>,\n",
       " <folium.vector_layers.CircleMarker at 0x7fecb718c048>,\n",
       " <folium.vector_layers.CircleMarker at 0x7fecb718c5f8>,\n",
       " <folium.vector_layers.CircleMarker at 0x7fecb718c7f0>,\n",
       " <folium.vector_layers.CircleMarker at 0x7fecb718c8d0>,\n",
       " <folium.vector_layers.CircleMarker at 0x7fecb718cf28>,\n",
       " <folium.vector_layers.CircleMarker at 0x7fecb718ca20>,\n",
       " <folium.vector_layers.CircleMarker at 0x7fecb71710f0>,\n",
       " <folium.vector_layers.CircleMarker at 0x7fecb71711d0>,\n",
       " <folium.vector_layers.CircleMarker at 0x7fecb7171278>,\n",
       " <folium.vector_layers.CircleMarker at 0x7fecb7171320>,\n",
       " <folium.vector_layers.CircleMarker at 0x7fecb71713c8>,\n",
       " <folium.vector_layers.CircleMarker at 0x7fecb7171470>,\n",
       " <folium.vector_layers.CircleMarker at 0x7fecb7171518>,\n",
       " <folium.vector_layers.CircleMarker at 0x7fecb718cf60>,\n",
       " <folium.vector_layers.CircleMarker at 0x7fecb718c438>,\n",
       " <folium.vector_layers.CircleMarker at 0x7fecb718c668>,\n",
       " <folium.vector_layers.CircleMarker at 0x7fecb718ccc0>,\n",
       " <folium.vector_layers.CircleMarker at 0x7fecb71bee80>,\n",
       " <folium.vector_layers.CircleMarker at 0x7fecb718c358>,\n",
       " <folium.vector_layers.CircleMarker at 0x7fecb718c400>,\n",
       " <folium.vector_layers.CircleMarker at 0x7fecb718cd30>,\n",
       " <folium.vector_layers.CircleMarker at 0x7fecb71a5518>,\n",
       " <folium.vector_layers.CircleMarker at 0x7fecb71a5908>,\n",
       " <folium.vector_layers.CircleMarker at 0x7fecb7171208>,\n",
       " <folium.vector_layers.CircleMarker at 0x7fecb71710b8>,\n",
       " <folium.vector_layers.CircleMarker at 0x7fecb7171160>,\n",
       " <folium.vector_layers.CircleMarker at 0x7fecb71715c0>,\n",
       " <folium.vector_layers.CircleMarker at 0x7fecb71714a8>,\n",
       " <folium.vector_layers.CircleMarker at 0x7fecb71716d8>,\n",
       " <folium.vector_layers.CircleMarker at 0x7fecb7171710>,\n",
       " <folium.vector_layers.CircleMarker at 0x7fecb71717b8>,\n",
       " <folium.vector_layers.CircleMarker at 0x7fecb7171860>,\n",
       " <folium.vector_layers.CircleMarker at 0x7fecb7171908>,\n",
       " <folium.vector_layers.CircleMarker at 0x7fecb71719b0>,\n",
       " <folium.vector_layers.CircleMarker at 0x7fecb7171a58>,\n",
       " <folium.vector_layers.CircleMarker at 0x7fecb71a5470>,\n",
       " <folium.vector_layers.CircleMarker at 0x7fecb718ceb8>,\n",
       " <folium.vector_layers.CircleMarker at 0x7fecb718c550>,\n",
       " <folium.vector_layers.CircleMarker at 0x7fecb718c128>,\n",
       " <folium.vector_layers.CircleMarker at 0x7fecb718c898>,\n",
       " <folium.vector_layers.CircleMarker at 0x7fecb718c080>,\n",
       " <folium.vector_layers.CircleMarker at 0x7fecb7171898>,\n",
       " <folium.vector_layers.CircleMarker at 0x7fecb71718d0>,\n",
       " <folium.vector_layers.CircleMarker at 0x7fecb7171780>,\n",
       " <folium.vector_layers.CircleMarker at 0x7fecb7171080>,\n",
       " <folium.vector_layers.CircleMarker at 0x7fecb71715f8>,\n",
       " <folium.vector_layers.CircleMarker at 0x7fecb7171438>,\n",
       " <folium.vector_layers.CircleMarker at 0x7fecb7171128>,\n",
       " <folium.vector_layers.CircleMarker at 0x7fecb7171588>,\n",
       " <folium.vector_layers.CircleMarker at 0x7fecb7171b70>,\n",
       " <folium.vector_layers.CircleMarker at 0x7fecb7171ba8>,\n",
       " <folium.vector_layers.CircleMarker at 0x7fecb7171a90>,\n",
       " <folium.vector_layers.CircleMarker at 0x7fecb7171c88>,\n",
       " <folium.vector_layers.CircleMarker at 0x7fecb7171d30>,\n",
       " <folium.vector_layers.CircleMarker at 0x7fecb7171dd8>,\n",
       " <folium.vector_layers.CircleMarker at 0x7fecb7171e80>,\n",
       " <folium.vector_layers.CircleMarker at 0x7fecb718cbe0>,\n",
       " <folium.vector_layers.CircleMarker at 0x7fecb718cfd0>,\n",
       " <folium.vector_layers.CircleMarker at 0x7fecb71a5fd0>,\n",
       " <folium.vector_layers.CircleMarker at 0x7fecb718cdd8>,\n",
       " <folium.vector_layers.CircleMarker at 0x7fecb718c748>,\n",
       " <folium.vector_layers.CircleMarker at 0x7fecb71714e0>,\n",
       " <folium.vector_layers.CircleMarker at 0x7fecb7171b38>,\n",
       " <folium.vector_layers.CircleMarker at 0x7fecb7171c18>,\n",
       " <folium.vector_layers.CircleMarker at 0x7fecb7171198>,\n",
       " <folium.vector_layers.CircleMarker at 0x7fecb7171358>,\n",
       " <folium.vector_layers.CircleMarker at 0x7fecb7171630>,\n",
       " <folium.vector_layers.CircleMarker at 0x7fecb7171240>,\n",
       " <folium.vector_layers.CircleMarker at 0x7fecb7171668>,\n",
       " <folium.vector_layers.CircleMarker at 0x7fecb7171a20>,\n",
       " <folium.vector_layers.CircleMarker at 0x7fecb7171e10>,\n",
       " <folium.vector_layers.CircleMarker at 0x7fecb71717f0>,\n",
       " <folium.vector_layers.CircleMarker at 0x7fecb7171ac8>,\n",
       " <folium.vector_layers.CircleMarker at 0x7fecb711a128>,\n",
       " <folium.vector_layers.CircleMarker at 0x7fecb711a208>,\n",
       " <folium.vector_layers.CircleMarker at 0x7fecb711a2b0>,\n",
       " <folium.vector_layers.CircleMarker at 0x7fecb711a358>,\n",
       " <folium.vector_layers.CircleMarker at 0x7fecb711a400>,\n",
       " <folium.vector_layers.CircleMarker at 0x7fecb7171f98>,\n",
       " <folium.vector_layers.CircleMarker at 0x7fecb7171f60>,\n",
       " <folium.vector_layers.CircleMarker at 0x7fecb7171b00>,\n",
       " <folium.vector_layers.CircleMarker at 0x7fecb71712e8>,\n",
       " <folium.vector_layers.CircleMarker at 0x7fecb7171da0>,\n",
       " <folium.vector_layers.CircleMarker at 0x7fecb71de3c8>,\n",
       " <folium.vector_layers.CircleMarker at 0x7fecb7171c50>,\n",
       " <folium.vector_layers.CircleMarker at 0x7fecb71719e8>,\n",
       " <folium.vector_layers.CircleMarker at 0x7fecb7171d68>,\n",
       " <folium.vector_layers.CircleMarker at 0x7fecb718cb70>,\n",
       " <folium.vector_layers.CircleMarker at 0x7fecb718ce80>,\n",
       " <folium.vector_layers.CircleMarker at 0x7fecb70464e0>,\n",
       " <folium.vector_layers.CircleMarker at 0x7fecb718c240>,\n",
       " <folium.vector_layers.CircleMarker at 0x7fecb71a5780>,\n",
       " <folium.vector_layers.CircleMarker at 0x7fecb71a5080>,\n",
       " <folium.vector_layers.CircleMarker at 0x7fecb711a240>,\n",
       " <folium.vector_layers.CircleMarker at 0x7fecb711a278>,\n",
       " <folium.vector_layers.CircleMarker at 0x7fecb711a048>,\n",
       " <folium.vector_layers.CircleMarker at 0x7fecb711a518>,\n",
       " <folium.vector_layers.CircleMarker at 0x7fecb711a550>,\n",
       " <folium.vector_layers.CircleMarker at 0x7fecb711a438>,\n",
       " <folium.vector_layers.CircleMarker at 0x7fecb711a630>,\n",
       " <folium.vector_layers.CircleMarker at 0x7fecb71bec50>,\n",
       " <folium.vector_layers.CircleMarker at 0x7fecb71a5e80>,\n",
       " <folium.vector_layers.CircleMarker at 0x7fecb718c780>,\n",
       " <folium.vector_layers.CircleMarker at 0x7fecb718ce10>,\n",
       " <folium.vector_layers.CircleMarker at 0x7fecb718cb38>,\n",
       " <folium.vector_layers.CircleMarker at 0x7fecb7171cc0>,\n",
       " <folium.vector_layers.CircleMarker at 0x7fecb7171e48>,\n",
       " <folium.vector_layers.CircleMarker at 0x7fecb7171eb8>,\n",
       " <folium.vector_layers.CircleMarker at 0x7fecb7171978>,\n",
       " <folium.vector_layers.CircleMarker at 0x7fecb71712b0>]"
      ]
     },
     "execution_count": 100,
     "metadata": {},
     "output_type": "execute_result"
    }
   ],
   "source": [
    "map_with_markers"
   ]
  },
  {
   "cell_type": "markdown",
   "metadata": {},
   "source": [
    "### Using Nearest Neighbors"
   ]
  },
  {
   "cell_type": "markdown",
   "metadata": {},
   "source": [
    "Ok, let's write a function that given a latitude and longitude will predict the distance for us.  We'll do this by first finding the nearest trips given a latitude and longitude. "
   ]
  },
  {
   "cell_type": "markdown",
   "metadata": {},
   "source": [
    "Here we once again apply the nearest neighbors formula. As a first step, write a function named `distance_location` that calculates the distance in pickup location between two trips."
   ]
  },
  {
   "cell_type": "code",
   "execution_count": null,
   "metadata": {},
   "outputs": [],
   "source": [
    "import math\n",
    "\n",
    "def distance_location(selected_trip, neighbor_trip):\n",
    "    pass"
   ]
  },
  {
   "cell_type": "code",
   "execution_count": null,
   "metadata": {},
   "outputs": [],
   "source": [
    "first_trip = {'pickup_latitude': 40.64499, 'pickup_longitude': -73.78115, 'trip_distance': 18.38}\n",
    "second_trip = {'pickup_latitude': 40.766931, 'pickup_longitude': -73.982098, 'trip_distance': 1.3}\n",
    "distance_first_and_second = distance_location(first_trip, second_trip)\n",
    "\n",
    "distance_first_and_second and round(distance_first_and_second, 3) # 0.235"
   ]
  },
  {
   "cell_type": "markdown",
   "metadata": {},
   "source": [
    "Ok, next write a function called `distance_between_neighbors` that adds a new key-value pair, called `distance_from_selected`, that calculates the distance of the `neighbor_trip` from the `selected_trip`."
   ]
  },
  {
   "cell_type": "code",
   "execution_count": null,
   "metadata": {},
   "outputs": [],
   "source": [
    "def distance_between_neighbors(selected_trip, neighbor_trip):\n",
    "    pass"
   ]
  },
  {
   "cell_type": "code",
   "execution_count": null,
   "metadata": {},
   "outputs": [],
   "source": [
    "distance_between_neighbors(first_trip, second_trip)\n",
    "\n",
    "# {'distance_from_selected': 0.23505256047318146,\n",
    "#  'pickup_latitude': 40.766931,\n",
    "#  'pickup_longitude': -73.982098,\n",
    "#  'trip_distance': 1.3}"
   ]
  },
  {
   "cell_type": "markdown",
   "metadata": {},
   "source": [
    "Ok, now our `neighbor_trip` has another attribute called `distance_from_selected`, that indicates the distance from the `neighbor_trip`'s pickup location from the `selected_trip`."
   ]
  },
  {
   "cell_type": "markdown",
   "metadata": {},
   "source": [
    "> ** Understand the data:** Our dictionary now has a few attributes, two of which say distance.  Let's make sure we understand the difference. \n",
    "> * **`distance_from_selected`:** This is our calculation of the distance of the neighbor's pickup location from the selected trip.\n",
    "> * **`trip_distance`:** This is the attribute we were provided initially.  It tells us the length of the neighbor's taxi trip from pickup to drop-off.  "
   ]
  },
  {
   "cell_type": "markdown",
   "metadata": {},
   "source": [
    "Next, write a function called `distance_all` that provided a list of neighbors, returns each of those neighbors with their respective `distance_from_selected` numbers."
   ]
  },
  {
   "cell_type": "code",
   "execution_count": null,
   "metadata": {},
   "outputs": [],
   "source": [
    "def distance_all(selected_individual, neighbors):\n",
    "    pass"
   ]
  },
  {
   "cell_type": "code",
   "execution_count": null,
   "metadata": {},
   "outputs": [],
   "source": [
    "cleaned_trips and distance_all(first_trip, cleaned_trips[0:4])"
   ]
  },
  {
   "cell_type": "markdown",
   "metadata": {},
   "source": [
    "Now write the nearest neighbors formula to calculate the distance of the `selected_trip` from all of the `cleaned_trips` in our dataset.  If no number is provided, it should return the top 3 neighbors."
   ]
  },
  {
   "cell_type": "code",
   "execution_count": null,
   "metadata": {},
   "outputs": [],
   "source": [
    "def nearest_neighbors(selected_trip, trips, number = 3):\n",
    "    pass"
   ]
  },
  {
   "cell_type": "code",
   "execution_count": null,
   "metadata": {},
   "outputs": [],
   "source": [
    "new_trip = {'pickup_latitude': 40.64499,\n",
    "'pickup_longitude': -73.78115,\n",
    "'trip_distance': 18.38}\n",
    "\n",
    "nearest_three_neighbors = nearest_neighbors(new_trip, cleaned_trips or [], number = 3)\n",
    "nearest_three_neighbors\n",
    "# [{'distance_from_selected': 0.0004569288784918792,\n",
    "#   'pickup_latitude': 40.64483,\n",
    "#   'pickup_longitude': -73.781578,\n",
    "#   'trip_distance': 7.78},\n",
    "#  {'distance_from_selected': 0.0011292165425673159,\n",
    "#   'pickup_latitude': 40.644657,\n",
    "#   'pickup_longitude': -73.782229,\n",
    "#   'trip_distance': 12.7},\n",
    "#  {'distance_from_selected': 0.0042359798158141185,\n",
    "#   'pickup_latitude': 40.648509,\n",
    "#   'pickup_longitude': -73.783508,\n",
    "#   'trip_distance': 17.3}]"
   ]
  },
  {
   "cell_type": "markdown",
   "metadata": {},
   "source": [
    "Ok great! Now that we can provide a new trip location, and find the distances of the three nearest trips, we can take  calculate an estimate of the trip distance for that new trip location.  \n",
    "\n",
    "We do so simply by calculating the average of it's nearest neighbors."
   ]
  },
  {
   "cell_type": "code",
   "execution_count": null,
   "metadata": {},
   "outputs": [],
   "source": [
    "import statistics\n",
    "def mean_distance(neighbors):\n",
    "    nearest_distances = list(map(lambda neighbor: neighbor['trip_distance'], neighbors))\n",
    "    return round(statistics.mean(nearest_distances), 3)\n",
    "\n",
    "nearest_three_neighbors = nearest_neighbors(new_trip, cleaned_trips or [], number = 3)\n",
    "distance_estimate_of_selected_trip = mean_distance(nearest_three_neighbors) # 12.593\n",
    "distance_estimate_of_selected_trip"
   ]
  },
  {
   "cell_type": "markdown",
   "metadata": {},
   "source": [
    "### Choosing the correct number of neighbors"
   ]
  },
  {
   "cell_type": "markdown",
   "metadata": {},
   "source": [
    "Now, as we know from the last lesson, one tricky element is to determine how many neighbors to choose, our $k$ value,  before calculating the average.  We want to choose our value of $k$ such that it properly matches actual data, and so that it applies to new data.  There are fancy formulas to ensure that we **train** our algorithm so that our formula is optimized for all data, but here let's see different $k$ values manually.  This is the gist of choosing our $k$ value:\n",
    "\n",
    "* If we choose a $k$ value too low, our formula will be too heavily influenced by a single neighbor, whereas if our $k$ value is too high, we will be choosing so many neighbors that our nearest neighbors formula will not be adjust enough according to locations.\n",
    "\n",
    "Ok, let's experiment with this."
   ]
  },
  {
   "cell_type": "markdown",
   "metadata": {},
   "source": [
    "First, let's choose a midtown location, to see what the trip distance would be.  A Google search reveals the coordinates of 51st and 7th avenue to be the following."
   ]
  },
  {
   "cell_type": "code",
   "execution_count": null,
   "metadata": {},
   "outputs": [],
   "source": [
    "midtown_trip = dict(pickup_latitude=40.761710, pickup_longitude=-73.982760)"
   ]
  },
  {
   "cell_type": "code",
   "execution_count": null,
   "metadata": {},
   "outputs": [],
   "source": [
    "seven_closest = nearest_neighbors(midtown_trip, cleaned_trips, number = 7)\n",
    "seven_closest\n",
    "# [{'trip_distance': 0.58,\n",
    "#   'pickup_latitude': 40.761372,\n",
    "#   'pickup_longitude': -73.982602,\n",
    "#   'distance_from_selected': 0.00037310588309379025},\n",
    "#  {'trip_distance': 0.8,\n",
    "#   'pickup_latitude': 40.762444,\n",
    "#   'pickup_longitude': -73.98244,\n",
    "#   'distance_from_selected': 0.00080072217404248},\n",
    "#  {'trip_distance': 1.4,\n",
    "#   'pickup_latitude': 40.762767,\n",
    "#   'pickup_longitude': -73.982293,\n",
    "#   'distance_from_selected': 0.0011555682584735844},\n",
    "#  {'trip_distance': 8.3,\n",
    "#   'pickup_latitude': 40.762868,\n",
    "#   'pickup_longitude': -73.983233,\n",
    "#   'distance_from_selected': 0.0012508768924205918},\n",
    "#  {'trip_distance': 1.26,\n",
    "#   'pickup_latitude': 40.760057,\n",
    "#   'pickup_longitude': -73.983502,\n",
    "#   'distance_from_selected': 0.0018118976240381972},\n",
    "#  {'trip_distance': 0.0,\n",
    "#   'pickup_latitude': 40.760644,\n",
    "#   'pickup_longitude': -73.984531,\n",
    "#   'distance_from_selected': 0.002067074502774709},\n",
    "#  {'trip_distance': 1.72,\n",
    "#   'pickup_latitude': 40.762107,\n",
    "#   'pickup_longitude': -73.98479,\n",
    "#   'distance_from_selected': 0.0020684557041472677}]"
   ]
  },
  {
   "cell_type": "markdown",
   "metadata": {},
   "source": [
    "Looking at the `distance_from_selected` it appears that our our trips are still fairly close to our selected trip.  Notice that most of the data is within a distance of .002 away, so going to the top 7 nearest neighbors didn't seem to give us neighbors too far from each other, which is a good sign.\n",
    "\n",
    "Still, it's hard to know what distance in latitude and longitude really look like, so let's map the data. "
   ]
  },
  {
   "cell_type": "code",
   "execution_count": null,
   "metadata": {},
   "outputs": [],
   "source": [
    "midtown_location = location(midtown_trip) # [40.76171, -73.98276]\n",
    "midtown_map = map_from(midtown_location, 16)\n",
    "closest_markers = markers_from_trips(seven_closest)\n",
    "\n",
    "add_markers(closest_markers, midtown_map)"
   ]
  },
  {
   "cell_type": "markdown",
   "metadata": {},
   "source": [
    "Ok.  These locations stay fairly close to our estimated location of 51st street and 7th Avenue.  So they could be a good estimate of a trip distance."
   ]
  },
  {
   "cell_type": "code",
   "execution_count": null,
   "metadata": {},
   "outputs": [],
   "source": [
    "mean_distance(seven_closest) # 2.009"
   ]
  },
  {
   "cell_type": "markdown",
   "metadata": {},
   "source": [
    "Ok, now let's try a different location"
   ]
  },
  {
   "cell_type": "code",
   "execution_count": null,
   "metadata": {},
   "outputs": [],
   "source": [
    "charging_bull_closest = nearest_neighbors({'pickup_latitude': 40.7049, 'pickup_longitude': -74.0137}, cleaned_trips, number = 12)"
   ]
  },
  {
   "cell_type": "code",
   "execution_count": null,
   "metadata": {
    "scrolled": true
   },
   "outputs": [],
   "source": [
    "mean_distance(charging_bull_closest) # 3.145"
   ]
  },
  {
   "cell_type": "markdown",
   "metadata": {},
   "source": [
    "Ok, so there appears to be a significant difference between choosing a location near Times Square versus choosing a location at Wall Street."
   ]
  },
  {
   "cell_type": "markdown",
   "metadata": {},
   "source": [
    "### Summary"
   ]
  },
  {
   "cell_type": "markdown",
   "metadata": {},
   "source": [
    "In this lab, we used the nearest neighbors function to predict the length of a taxi ride.  To do so, we selected a location, then found a number of taxi rides closest to that location, and finally took the average trip lengths of the nearest taxi rides to find an estimate of the new ride's trip length.  You can see that even with just a little bit of math and programming we can begin to make meaningful predictions with data."
   ]
  }
 ],
 "metadata": {
  "kernelspec": {
   "display_name": "Python 3",
   "language": "python",
   "name": "python3"
  },
  "language_info": {
   "codemirror_mode": {
    "name": "ipython",
    "version": 3
   },
   "file_extension": ".py",
   "mimetype": "text/x-python",
   "name": "python",
   "nbconvert_exporter": "python",
   "pygments_lexer": "ipython3",
   "version": "3.6.6"
  }
 },
 "nbformat": 4,
 "nbformat_minor": 2
}
