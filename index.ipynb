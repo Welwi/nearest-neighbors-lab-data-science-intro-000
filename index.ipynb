{
 "cells": [
  {
   "cell_type": "markdown",
   "metadata": {},
   "source": [
    "# Nearest Neighbors Lab"
   ]
  },
  {
   "cell_type": "markdown",
   "metadata": {},
   "source": [
    "### Introduction\n",
    "\n",
    "In this lab, you apply nearest neighbors technique to help a taxi company predict the length of their rides.  Imagine that we are hired to consult for LiftOff, a limo and taxi service that is just opening up in NYC.  Liftoff wants it's taxi drivers to target longer rides, as the longer the ride the more money it makes.  LiftOff has the following theory:\n",
    "\n",
    "* the pickup location of a taxi ride can help predict the length of the ride.  \n",
    "\n",
    "\n",
    "\n",
    "LiftOff asks us to do some analysis to write a function that will allow it to **predict the length of a taxi ride for any given location **.\n",
    "\n",
    "Our technique will be the following:\n",
    "  * **Collect** Obtain the data containing all of the taxi information, and only select the attributes of taxi trips that we need \n",
    "  * ** Explore ** Examine the attributes of our data, and plot some of our data on a map\n",
    "  * ** Train ** Write our nearest neighbors formula, and change the number of nearby trips to predict the length of a new trip\n",
    "  * ** Predict ** Use our function to predict trip lengths of new locations"
   ]
  },
  {
   "cell_type": "markdown",
   "metadata": {},
   "source": [
    "### Collect and Explore the data"
   ]
  },
  {
   "cell_type": "markdown",
   "metadata": {},
   "source": [
    "#### Collect the Data"
   ]
  },
  {
   "cell_type": "markdown",
   "metadata": {},
   "source": [
    "Luckily for us, [NYC Open Data](https://opendata.cityofnewyork.us/) collects information about NYC taxi trips and provides this data on [its website](https://data.cityofnewyork.us/Transportation/2014-Yellow-Taxi-Trip-Data/gn7m-em8n)."
   ]
  },
  {
   "cell_type": "markdown",
   "metadata": {},
   "source": [
    "![](./nyc-taxi.png)"
   ]
  },
  {
   "cell_type": "markdown",
   "metadata": {},
   "source": [
    "For your reading pleasure, the data has already been downloaded into the [trips.json](https://github.com/learn-co-curriculum/nearest-neighbors-lab/blob/master/trips.json) file in this lab which you can find here.  We'll use Python's `json` library to take the data from the `trips.json` file and store it as a variable in our notebook."
   ]
  },
  {
   "cell_type": "code",
   "execution_count": 1,
   "metadata": {},
   "outputs": [],
   "source": [
    "import json\n",
    "# First, read the file\n",
    "trips_file = open('trips.json')\n",
    "# Then, convert contents to list of dictionaries \n",
    "trips = json.load(trips_file)"
   ]
  },
  {
   "cell_type": "markdown",
   "metadata": {},
   "source": [
    "> Press shift + enter"
   ]
  },
  {
   "cell_type": "markdown",
   "metadata": {},
   "source": [
    "#### Explore the data"
   ]
  },
  {
   "cell_type": "markdown",
   "metadata": {},
   "source": [
    "The next step is to explore the data.  First, let's see how many trips we have."
   ]
  },
  {
   "cell_type": "code",
   "execution_count": 2,
   "metadata": {},
   "outputs": [
    {
     "data": {
      "text/plain": [
       "1000"
      ]
     },
     "execution_count": 2,
     "metadata": {},
     "output_type": "execute_result"
    }
   ],
   "source": [
    "len(trips)"
   ]
  },
  {
   "cell_type": "markdown",
   "metadata": {},
   "source": [
    "Not bad at all.  Now let's see what each individual trip looks like.  Each trip is a dictionary, so we can see the attributes of each trip with the `keys` function."
   ]
  },
  {
   "cell_type": "code",
   "execution_count": 4,
   "metadata": {
    "scrolled": true
   },
   "outputs": [
    {
     "data": {
      "text/plain": [
       "dict_keys(['dropoff_datetime', 'dropoff_latitude', 'dropoff_longitude', 'fare_amount', 'imp_surcharge', 'mta_tax', 'passenger_count', 'payment_type', 'pickup_datetime', 'pickup_latitude', 'pickup_longitude', 'rate_code', 'tip_amount', 'tolls_amount', 'total_amount', 'trip_distance', 'vendor_id'])"
      ]
     },
     "execution_count": 4,
     "metadata": {},
     "output_type": "execute_result"
    }
   ],
   "source": [
    "trips[0].keys()"
   ]
  },
  {
   "cell_type": "code",
   "execution_count": 5,
   "metadata": {},
   "outputs": [
    {
     "data": {
      "text/plain": [
       "dict_items([('dropoff_datetime', '2014-11-26T22:31:00.000'), ('dropoff_latitude', '40.746769999999998'), ('dropoff_longitude', '-73.997450000000001'), ('fare_amount', '52'), ('imp_surcharge', '0'), ('mta_tax', '0.5'), ('passenger_count', '1'), ('payment_type', 'CSH'), ('pickup_datetime', '2014-11-26T21:59:00.000'), ('pickup_latitude', '40.64499'), ('pickup_longitude', '-73.781149999999997'), ('rate_code', '2'), ('tip_amount', '0'), ('tolls_amount', '5.3300000000000001'), ('total_amount', '57.829999999999998'), ('trip_distance', '18.379999999999999'), ('vendor_id', 'VTS')])"
      ]
     },
     "execution_count": 5,
     "metadata": {},
     "output_type": "execute_result"
    }
   ],
   "source": [
    "trips[0].items()"
   ]
  },
  {
   "cell_type": "code",
   "execution_count": 6,
   "metadata": {},
   "outputs": [
    {
     "data": {
      "text/plain": [
       "'-73.982097999999993'"
      ]
     },
     "execution_count": 6,
     "metadata": {},
     "output_type": "execute_result"
    }
   ],
   "source": [
    "trips[1]['pickup_longitude']"
   ]
  },
  {
   "cell_type": "markdown",
   "metadata": {},
   "source": [
    "#### Limit our data"
   ]
  },
  {
   "cell_type": "markdown",
   "metadata": {},
   "source": [
    "Ok, now that we have explored some of our data, let's begin to think through what data is relevant for our task."
   ]
  },
  {
   "cell_type": "markdown",
   "metadata": {
    "collapsed": true
   },
   "source": [
    "Remember that our task is to **use the trip location to predict the length of a trip**.  So let's select the `pickup_latitude`, `pickup_longitude`, and `trip_distance` from each trip.  That will give us the trip location and related `trip_distance` for each trip.  Then based on these **actual** trip distances we can use nearest neighbors to predict an **expected** trip distance for a trip, provided an **actual** location."
   ]
  },
  {
   "cell_type": "markdown",
   "metadata": {},
   "source": [
    "** Add in about trip distance ** "
   ]
  },
  {
   "cell_type": "markdown",
   "metadata": {},
   "source": [
    "Write a function called `parse_trips(trips)` that returns a list of the trips with only the following attributes: \n",
    "* `trip_distance`\n",
    "* `pickup_latitude`\n",
    "* `pickup_longitude`"
   ]
  },
  {
   "cell_type": "code",
   "execution_count": 7,
   "metadata": {},
   "outputs": [],
   "source": [
    "def parse_trips(trips):\n",
    "    \n",
    "    return list(map(lambda trip: {'pickup_latitude': trip['pickup_latitude'], 'pickup_longitude': trip['pickup_longitude'], 'trip_distance': trip['trip_distance']}, trips))\n",
    "\n",
    "\n"
   ]
  },
  {
   "cell_type": "code",
   "execution_count": 8,
   "metadata": {
    "scrolled": true
   },
   "outputs": [
    {
     "data": {
      "text/plain": [
       "{'pickup_latitude': '40.64499',\n",
       " 'pickup_longitude': '-73.781149999999997',\n",
       " 'trip_distance': '18.379999999999999'}"
      ]
     },
     "execution_count": 8,
     "metadata": {},
     "output_type": "execute_result"
    }
   ],
   "source": [
    "parsed_trips = parse_trips(trips)\n",
    "parsed_trips and parsed_trips[0]\n",
    "\n",
    "# {'pickup_latitude': '40.64499',\n",
    "#  'pickup_longitude': '-73.78115',\n",
    "#  'trip_distance': '18.38'}"
   ]
  },
  {
   "cell_type": "markdown",
   "metadata": {},
   "source": [
    "Now, there's just one change to make.  If you look at one of the trips, all of the values are strings.  Let's change them to be floats."
   ]
  },
  {
   "cell_type": "code",
   "execution_count": 9,
   "metadata": {},
   "outputs": [],
   "source": [
    "def float_values(trips):    \n",
    "    return list(map(lambda parsed_trip: {'pickup_longitude': float(parsed_trip['pickup_longitude']), 'pickup_latitude': float(parsed_trip['pickup_latitude']), 'trip_distance': float(parsed_trip['trip_distance'])}, parsed_trips))\n",
    "\n",
    "\n"
   ]
  },
  {
   "cell_type": "code",
   "execution_count": 10,
   "metadata": {},
   "outputs": [],
   "source": [
    "cleaned_trips = float_values(parsed_trips)"
   ]
  },
  {
   "cell_type": "code",
   "execution_count": 11,
   "metadata": {},
   "outputs": [
    {
     "data": {
      "text/plain": [
       "{'pickup_longitude': -73.78115,\n",
       " 'pickup_latitude': 40.64499,\n",
       " 'trip_distance': 18.38}"
      ]
     },
     "execution_count": 11,
     "metadata": {},
     "output_type": "execute_result"
    }
   ],
   "source": [
    "cleaned_trips[0]\n",
    "\n",
    "# {'pickup_latitude': 40.64499,\n",
    "#  'pickup_longitude': -73.78115,\n",
    "#  'trip_distance': 18.38}"
   ]
  },
  {
   "cell_type": "markdown",
   "metadata": {},
   "source": [
    "### Exploring the Data"
   ]
  },
  {
   "cell_type": "markdown",
   "metadata": {},
   "source": [
    "Now that we have paired down our data, let's get a sense of our trip data.  We can use the `folium` Python library to plot a map of Manhattan, and our data.  First we must import `folium`, and then use the `Map` function to pass through a `location`, and `zoom_start`.  If a map isn't showing up below, copy and paste the command `pip install -r requirements.txt` into your terminal to install `folium` then try again."
   ]
  },
  {
   "cell_type": "code",
   "execution_count": 12,
   "metadata": {},
   "outputs": [],
   "source": [
    "import folium\n",
    "manhattan_map = folium.Map(location=[40.7589, -73.9851], zoom_start=11)"
   ]
  },
  {
   "cell_type": "code",
   "execution_count": 13,
   "metadata": {
    "scrolled": true
   },
   "outputs": [
    {
     "data": {
      "text/html": [
       "<div style=\"width:100%;\"><div style=\"position:relative;width:100%;height:0;padding-bottom:60%;\"><iframe src=\"data:text/html;charset=utf-8;base64,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\" style=\"position:absolute;width:100%;height:100%;left:0;top:0;border:none !important;\" allowfullscreen webkitallowfullscreen mozallowfullscreen></iframe></div></div>"
      ],
      "text/plain": [
       "<folium.folium.Map at 0x7fecec5d7b70>"
      ]
     },
     "execution_count": 13,
     "metadata": {},
     "output_type": "execute_result"
    }
   ],
   "source": [
    "manhattan_map"
   ]
  },
  {
   "cell_type": "markdown",
   "metadata": {},
   "source": [
    "Ok, now let's see how we could add a dot to mark a specific location.  We'll start with Times Square."
   ]
  },
  {
   "cell_type": "code",
   "execution_count": 14,
   "metadata": {},
   "outputs": [
    {
     "data": {
      "text/plain": [
       "<folium.vector_layers.CircleMarker at 0x7fecb72ebac8>"
      ]
     },
     "execution_count": 14,
     "metadata": {},
     "output_type": "execute_result"
    }
   ],
   "source": [
    "marker = folium.CircleMarker(location = [40.7589, -73.9851], radius=10)\n",
    "marker.add_to(manhattan_map)"
   ]
  },
  {
   "cell_type": "markdown",
   "metadata": {},
   "source": [
    "Above, we first create a marker.  Then we add that circle marker to the `manhattan_map` we created earlier. "
   ]
  },
  {
   "cell_type": "code",
   "execution_count": 15,
   "metadata": {
    "scrolled": false
   },
   "outputs": [
    {
     "data": {
      "text/html": [
       "<div style=\"width:100%;\"><div style=\"position:relative;width:100%;height:0;padding-bottom:60%;\"><iframe src=\"data:text/html;charset=utf-8;base64,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\" style=\"position:absolute;width:100%;height:100%;left:0;top:0;border:none !important;\" allowfullscreen webkitallowfullscreen mozallowfullscreen></iframe></div></div>"
      ],
      "text/plain": [
       "<folium.folium.Map at 0x7fecec5d7b70>"
      ]
     },
     "execution_count": 15,
     "metadata": {},
     "output_type": "execute_result"
    }
   ],
   "source": [
    "manhattan_map"
   ]
  },
  {
   "cell_type": "markdown",
   "metadata": {},
   "source": [
    "Do you see that blue dot near Time's Square?  That is our marker.  \n",
    "\n",
    "So now that we can plot one marker on a map, we should have a sense of how we can plot many markers on a map to display our taxi ride data.  We simply plot a map, and then we add a marker for each location of a taxi trip.\n",
    "\n",
    "Now let's write some functions to allow us to plot maps and add markers a little more easily.  "
   ]
  },
  {
   "cell_type": "markdown",
   "metadata": {},
   "source": [
    "#### Writing some map plotting functions"
   ]
  },
  {
   "cell_type": "markdown",
   "metadata": {},
   "source": [
    "As a first step towards this, note that the functions to create both a marker and map each take in a location as two element list, representing the latitude and longitude values.  Take another look:\n",
    "\n",
    "```python\n",
    "marker = folium.CircleMarker(location = [40.7589, -73.9851])\n",
    "manhattan_map = folium.Map(location=[40.7589, -73.9851])\n",
    "```\n",
    "\n",
    "So let's write a function called to create this two element list from a trip.  Write a function called `location` that  takes in a trip as an argument and returns a list where the first element is the latitude and the second is the longitude.  Remember that a location looks like the following:"
   ]
  },
  {
   "cell_type": "code",
   "execution_count": 16,
   "metadata": {},
   "outputs": [
    {
     "data": {
      "text/plain": [
       "{'pickup_latitude': 40.64499,\n",
       " 'pickup_longitude': -73.78115,\n",
       " 'trip_distance': 18.38}"
      ]
     },
     "execution_count": 16,
     "metadata": {},
     "output_type": "execute_result"
    }
   ],
   "source": [
    "first_trip = {'pickup_latitude': 40.64499, 'pickup_longitude': -73.78115,  'trip_distance': 18.38}\n",
    "first_trip"
   ]
  },
  {
   "cell_type": "code",
   "execution_count": 22,
   "metadata": {},
   "outputs": [],
   "source": [
    "def location(trip):\n",
    "    return list(map(lambda trip: trip['pickup_latitude'], parsed_trips))"
   ]
  },
  {
   "cell_type": "code",
   "execution_count": 23,
   "metadata": {},
   "outputs": [
    {
     "data": {
      "text/plain": [
       "['40.64499',\n",
       " '40.766931',\n",
       " '40.777729999999998',\n",
       " '40.795678000000002',\n",
       " '40.762912',\n",
       " '40.731175999999998',\n",
       " '40.800218999999998',\n",
       " '40.648508999999997',\n",
       " '40.721896999999998',\n",
       " '40.791566000000003',\n",
       " '40.744895999999997',\n",
       " '40.721950999999997',\n",
       " '40.732382000000001',\n",
       " '40.768338999999997',\n",
       " '40.775933000000002',\n",
       " '40.794829',\n",
       " '40.758647000000003',\n",
       " '40.713638000000003',\n",
       " '40.774030000000003',\n",
       " '40.728127000000001',\n",
       " '40.759670999999997',\n",
       " '40.772651000000003',\n",
       " '40.770319000000001',\n",
       " '40.720457000000003',\n",
       " '40.754789000000002',\n",
       " '40.755654',\n",
       " '40.741568000000001',\n",
       " '40.736907000000002',\n",
       " '40.76003',\n",
       " '40.721366000000003',\n",
       " '40.760147000000003',\n",
       " '40.745846999999998',\n",
       " '40.753014999999998',\n",
       " '40.644657000000002',\n",
       " '40.738767000000003',\n",
       " '40.773797000000002',\n",
       " '40.743411000000002',\n",
       " '40.758904999999999',\n",
       " '40.733877',\n",
       " '40.726162000000002',\n",
       " '40.775122000000003',\n",
       " '40.759869999999999',\n",
       " '40.707087000000001',\n",
       " '40.741911999999999',\n",
       " '40.769112',\n",
       " '40.785806999999998',\n",
       " '40.751300000000001',\n",
       " '40.733384999999998',\n",
       " '40.760257000000003',\n",
       " '40.741249000000003',\n",
       " '40.759794999999997',\n",
       " '40.756636',\n",
       " '40.739249999999998',\n",
       " '40.751055000000001',\n",
       " '40.723584000000002',\n",
       " '40.757036999999997',\n",
       " '40.743385000000004',\n",
       " '40.737485999999997',\n",
       " '40.77225',\n",
       " '40.732881999999996',\n",
       " '40.774566999999998',\n",
       " '40.757437000000003',\n",
       " '40.789636999999999',\n",
       " '40.754317',\n",
       " '40.745007000000001',\n",
       " '40.734982000000002',\n",
       " '0',\n",
       " '40.738616999999998',\n",
       " '40.790711999999999',\n",
       " '40.750166999999998',\n",
       " '40.732140999999999',\n",
       " '40.765757999999998',\n",
       " '40.792594000000001',\n",
       " '40.762908000000003',\n",
       " '40.750722000000003',\n",
       " '40.769886999999997',\n",
       " '40.772469999999998',\n",
       " '40.764544999999998',\n",
       " '40.641804999999998',\n",
       " '40.75224',\n",
       " '40.758834999999998',\n",
       " '40.722785000000002',\n",
       " '40.720337999999998',\n",
       " '40.729730000000004',\n",
       " '40.760441999999998',\n",
       " '40.756227000000003',\n",
       " '40.751555000000003',\n",
       " '40.713329999999999',\n",
       " '40.764761999999997',\n",
       " '40.763353000000002',\n",
       " '40.775292',\n",
       " '40.779515000000004',\n",
       " '40.768321999999998',\n",
       " '40.766601999999999',\n",
       " '40.763683999999998',\n",
       " '40.793086000000002',\n",
       " '40.773601999999997',\n",
       " '40.771909000000001',\n",
       " '40.774028999999999',\n",
       " '40.749639999999999',\n",
       " '40.771541999999997',\n",
       " '40.694094999999997',\n",
       " '40.756312000000001',\n",
       " '40.730282000000003',\n",
       " '40.777706999999999',\n",
       " '40.726087',\n",
       " '40.738385000000001',\n",
       " '40.767800000000001',\n",
       " '40.742682000000002',\n",
       " '40.770601999999997',\n",
       " '40.747967000000003',\n",
       " '40.742803000000002',\n",
       " '40.755521000000002',\n",
       " '40.760528000000001',\n",
       " '40.740732000000001',\n",
       " '40.735497000000002',\n",
       " '40.715387',\n",
       " '40.721587',\n",
       " '40.760057000000003',\n",
       " '40.740332000000002',\n",
       " '40.7455',\n",
       " '40.733125000000001',\n",
       " '40.752091999999998',\n",
       " '40.72381',\n",
       " '40.767446',\n",
       " '40.800479000000003',\n",
       " '40.717055000000002',\n",
       " '40.748863',\n",
       " '40.804740000000002',\n",
       " '40.762202000000002',\n",
       " '0',\n",
       " '40.740406999999998',\n",
       " '40.722399000000003',\n",
       " '40.747571999999998',\n",
       " '40.794651000000002',\n",
       " '40.751086999999998',\n",
       " '40.719886000000002',\n",
       " '40.760886999999997',\n",
       " '40.727513999999999',\n",
       " '40.774453000000001',\n",
       " '40.741906999999998',\n",
       " '40.735118',\n",
       " '40.773907000000001',\n",
       " '40.758937000000003',\n",
       " '40.752144000000001',\n",
       " '40.745641999999997',\n",
       " '40.718789999999998',\n",
       " '40.739944999999999',\n",
       " '40.777574999999999',\n",
       " '40.753632000000003',\n",
       " '40.747329999999998',\n",
       " '40.769821999999998',\n",
       " '40.724657999999998',\n",
       " '40.758344999999998',\n",
       " '40.764806999999998',\n",
       " '40.772846999999999',\n",
       " '40.793681999999997',\n",
       " '40.760007000000002',\n",
       " '40.747252000000003',\n",
       " '40.756391999999998',\n",
       " '40.763685000000002',\n",
       " '40.767068000000002',\n",
       " '40.775959999999998',\n",
       " '40.739617000000003',\n",
       " '40.751953',\n",
       " '40.718634999999999',\n",
       " '40.7331',\n",
       " '40.774630000000002',\n",
       " '40.753675000000001',\n",
       " '40.763261999999997',\n",
       " '40.768895000000001',\n",
       " '40.641374999999996',\n",
       " '40.745471999999999',\n",
       " '40.707562000000003',\n",
       " '40.753309999999999',\n",
       " '40.769545000000001',\n",
       " '40.77411',\n",
       " '40.720615000000002',\n",
       " '40.76305',\n",
       " '40.648605000000003',\n",
       " '40.730874999999997',\n",
       " '40.763843000000001',\n",
       " '40.759867',\n",
       " '40.773020000000002',\n",
       " '40.767437000000001',\n",
       " '40.795099999999998',\n",
       " '40.780450000000002',\n",
       " '40.777608000000001',\n",
       " '40.783897000000003',\n",
       " '40.738436999999998',\n",
       " '40.766227000000001',\n",
       " '40.747199999999999',\n",
       " '40.729602',\n",
       " '40.747295000000001',\n",
       " '40.764276000000002',\n",
       " '40.717463000000002',\n",
       " '40.756667',\n",
       " '40.723036',\n",
       " '40.742832',\n",
       " '40.759824999999999',\n",
       " '40.770567',\n",
       " '40.743564999999997',\n",
       " '40.761372000000001',\n",
       " '40.725012',\n",
       " '40.751251000000003',\n",
       " '40.742522000000001',\n",
       " '40.762107',\n",
       " '40.787171000000001',\n",
       " '40.739887000000003',\n",
       " '40.775297000000002',\n",
       " '40.743231999999999',\n",
       " '40.757385999999997',\n",
       " '40.749026999999998',\n",
       " '40.752384999999997',\n",
       " '40.721988000000003',\n",
       " '40.742421999999998',\n",
       " '40.735396000000001',\n",
       " '40.749873000000001',\n",
       " '40.779446999999998',\n",
       " '40.730843',\n",
       " '40.750115999999998',\n",
       " '40.701734000000002',\n",
       " '40.726349999999996',\n",
       " '40.688701999999999',\n",
       " '40.771385000000002',\n",
       " '40.715884000000003',\n",
       " '40.790045999999997',\n",
       " '40.764180000000003',\n",
       " '40.76041',\n",
       " '40.745646999999998',\n",
       " '40.793261000000001',\n",
       " '40.762110999999997',\n",
       " '40.747329999999998',\n",
       " '40.748860000000001',\n",
       " '40.730145',\n",
       " '40.75318',\n",
       " '40.829557000000001',\n",
       " '40.743102',\n",
       " '40.750444999999999',\n",
       " '40.743474999999997',\n",
       " '40.762751999999999',\n",
       " '40.765577',\n",
       " '40.750027000000003',\n",
       " '40.751947000000001',\n",
       " '40.719720000000002',\n",
       " '40.780790000000003',\n",
       " '40.751607',\n",
       " '40.745595000000002',\n",
       " '40.722450000000002',\n",
       " '40.702556999999999',\n",
       " '40.734659000000001',\n",
       " '40.764774000000003',\n",
       " '40.723515999999996',\n",
       " '40.781072000000002',\n",
       " '40.793005000000001',\n",
       " '40.721024999999997',\n",
       " '40.768497000000004',\n",
       " '40.807259999999999',\n",
       " '40.773715000000003',\n",
       " '40.780082',\n",
       " '40.741824000000001',\n",
       " '40.742111999999999',\n",
       " '40.725924999999997',\n",
       " '40.645718000000002',\n",
       " '40.718398000000001',\n",
       " '0',\n",
       " '40.736342999999998',\n",
       " '40.753827000000001',\n",
       " '40.750692999999998',\n",
       " '40.745964000000001',\n",
       " '40.740482',\n",
       " '0',\n",
       " '40.803842000000003',\n",
       " '40.797632',\n",
       " '40.645322',\n",
       " '40.749206999999998',\n",
       " '40.765548000000003',\n",
       " '40.760289',\n",
       " '40.778967000000002',\n",
       " '40.758200000000002',\n",
       " '40.730708999999997',\n",
       " '40.745600000000003',\n",
       " '40.719470999999999',\n",
       " '40.756189999999997',\n",
       " '40.639541999999999',\n",
       " '40.783659999999998',\n",
       " '40.746400000000001',\n",
       " '40.727474999999998',\n",
       " '40.735014999999997',\n",
       " '0',\n",
       " '0',\n",
       " '40.754176000000001',\n",
       " '40.740112000000003',\n",
       " '40.719971999999999',\n",
       " '40.705170000000003',\n",
       " '40.789141999999998',\n",
       " '40.749115000000003',\n",
       " '40.764429999999997',\n",
       " '40.756476999999997',\n",
       " '40.746141999999999',\n",
       " '40.747855999999999',\n",
       " '40.772615000000002',\n",
       " '40.761912000000002',\n",
       " '40.740991000000001',\n",
       " '40.764114999999997',\n",
       " '40.728808000000001',\n",
       " '40.725510999999997',\n",
       " '40.768967000000004',\n",
       " '40.756520000000002',\n",
       " '40.751216999999997',\n",
       " '40.779556999999997',\n",
       " '40.771472000000003',\n",
       " '40.738320000000002',\n",
       " '40.643172',\n",
       " '40.769387000000002',\n",
       " '40.731752',\n",
       " '40.745874000000001',\n",
       " '40.767867000000003',\n",
       " '40.766244999999998',\n",
       " '40.753484999999998',\n",
       " '40.726596999999998',\n",
       " '40.744599999999998',\n",
       " '40.756805999999997',\n",
       " '40.783447000000002',\n",
       " '40.758985000000003',\n",
       " '40.645316000000001',\n",
       " '40.762867999999997',\n",
       " '40.761322',\n",
       " '40.771096999999997',\n",
       " '40.760195000000003',\n",
       " '40.732860000000002',\n",
       " '40.759520000000002',\n",
       " '40.821517',\n",
       " '40.734921999999997',\n",
       " '40.757593999999997',\n",
       " '40.748041999999998',\n",
       " '40.749569999999999',\n",
       " '40.759663000000003',\n",
       " '40.756397',\n",
       " '40.680779999999999',\n",
       " '40.749994000000001',\n",
       " '40.801350999999997',\n",
       " '40.766222999999997',\n",
       " '40.740045000000002',\n",
       " '40.801656999999999',\n",
       " '40.738722000000003',\n",
       " '40.742171999999997',\n",
       " '40.775632999999999',\n",
       " '40.792377000000002',\n",
       " '40.659956000000001',\n",
       " '40.765500000000003',\n",
       " '40.737997',\n",
       " '40.711466999999999',\n",
       " '0',\n",
       " '40.710822',\n",
       " '40.763596999999997',\n",
       " '40.744276999999997',\n",
       " '40.774152000000001',\n",
       " '40.773736',\n",
       " '40.740017999999999',\n",
       " '40.750093999999997',\n",
       " '40.741317000000002',\n",
       " '40.758850000000002',\n",
       " '40.687077000000002',\n",
       " '40.767049999999998',\n",
       " '40.722569999999997',\n",
       " '40.779580000000003',\n",
       " '40.738500000000002',\n",
       " '40.770377000000003',\n",
       " '40.759059999999998',\n",
       " '40.689827000000001',\n",
       " '40.766367000000002',\n",
       " '40.717301999999997',\n",
       " '40.642817000000001',\n",
       " '40.766804',\n",
       " '40.762317000000003',\n",
       " '40.734099000000001',\n",
       " '40.770736999999997',\n",
       " '40.724919',\n",
       " '40.729686999999998',\n",
       " '40.744083000000003',\n",
       " '40.726413000000001',\n",
       " '40.794009000000003',\n",
       " '40.745890000000003',\n",
       " '40.752839999999999',\n",
       " '40.777652000000003',\n",
       " '40.726934999999997',\n",
       " '40.749690000000001',\n",
       " '40.709355000000002',\n",
       " '40.750098999999999',\n",
       " '40.777512999999999',\n",
       " '40.645339999999997',\n",
       " '40.794572000000002',\n",
       " '40.760840000000002',\n",
       " '40.758901999999999',\n",
       " '40.756081999999999',\n",
       " '40.746631000000001',\n",
       " '40.787612000000003',\n",
       " '40.748874999999998',\n",
       " '0',\n",
       " '40.734923999999999',\n",
       " '40.755682',\n",
       " '40.757465000000003',\n",
       " '40.751162999999998',\n",
       " '40.754707000000003',\n",
       " '40.768512000000001',\n",
       " '40.770792',\n",
       " '40.780672000000003',\n",
       " '40.733567999999998',\n",
       " '40.749980000000001',\n",
       " '40.722349999999999',\n",
       " '40.770809999999997',\n",
       " '40.771152000000001',\n",
       " '40.790776999999999',\n",
       " '40.716231999999998',\n",
       " '40.74277',\n",
       " '40.726790999999999',\n",
       " '40.774934999999999',\n",
       " '40.752831999999998',\n",
       " '40.732782999999998',\n",
       " '40.751759999999997',\n",
       " '40.772826999999999',\n",
       " '40.786304999999999',\n",
       " '40.719859999999997',\n",
       " '40.748193000000001',\n",
       " '40.734642000000001',\n",
       " '40.758495000000003',\n",
       " '40.750711000000003',\n",
       " '40.751085000000003',\n",
       " '40.696646999999999',\n",
       " '40.766092',\n",
       " '40.772930000000002',\n",
       " '40.644032000000003',\n",
       " '40.758260999999997',\n",
       " '40.778391999999997',\n",
       " '40.758372000000001',\n",
       " '40.752788000000002',\n",
       " '40.741971999999997',\n",
       " '40.764972',\n",
       " '40.742227',\n",
       " '40.743594000000002',\n",
       " '40.774852000000003',\n",
       " '40.786656999999998',\n",
       " '40.731236000000003',\n",
       " '40.724196999999997',\n",
       " '40.735686999999999',\n",
       " '40.724007',\n",
       " '40.751961999999999',\n",
       " '40.744422',\n",
       " '40.769440000000003',\n",
       " '40.755972',\n",
       " '40.782482000000002',\n",
       " '40.739142000000001',\n",
       " '40.752412',\n",
       " '0',\n",
       " '40.771168000000003',\n",
       " '40.756005000000002',\n",
       " '40.778415000000003',\n",
       " '40.766652999999998',\n",
       " '40.746032',\n",
       " '40.763351999999998',\n",
       " '40.755782000000004',\n",
       " '40.769837000000003',\n",
       " '40.773009000000002',\n",
       " '40.799458000000001',\n",
       " '40.777555',\n",
       " '40.804090000000002',\n",
       " '40.713948000000002',\n",
       " '40.741453',\n",
       " '40.798580000000001',\n",
       " '40.721519000000001',\n",
       " '40.744340999999999',\n",
       " '40.750106000000002',\n",
       " '40.815817000000003',\n",
       " '40.772255000000001',\n",
       " '40.756411999999997',\n",
       " '40.729556000000002',\n",
       " '40.774627000000002',\n",
       " '40.744418000000003',\n",
       " '40.795952999999997',\n",
       " '40.735785',\n",
       " '40.741275000000002',\n",
       " '40.759036999999999',\n",
       " '40.764200000000002',\n",
       " '40.779383000000003',\n",
       " '40.726379999999999',\n",
       " '40.716735999999997',\n",
       " '40.751871999999999',\n",
       " '40.774462',\n",
       " '40.748207999999998',\n",
       " '40.756053999999999',\n",
       " '40.759193000000003',\n",
       " '40.743899999999996',\n",
       " '40.712612',\n",
       " '40.751285000000003',\n",
       " '40.75262',\n",
       " '40.728884999999998',\n",
       " '40.753301999999998',\n",
       " '40.759794999999997',\n",
       " '40.727367999999998',\n",
       " '40.759500000000003',\n",
       " '40.751837000000002',\n",
       " '40.742032000000002',\n",
       " '40.755122999999998',\n",
       " '40.726782999999998',\n",
       " '40.768923999999998',\n",
       " '40.748232000000002',\n",
       " '40.70205',\n",
       " '40.763196999999998',\n",
       " '40.720793999999998',\n",
       " '40.760643999999999',\n",
       " '40.743366999999999',\n",
       " '40.749791999999999',\n",
       " '40.754807',\n",
       " '40.644829999999999',\n",
       " '40.767758999999998',\n",
       " '40.762242999999998',\n",
       " '40.730735000000003',\n",
       " '40.738672000000001',\n",
       " '40.774751999999999',\n",
       " '40.777867000000001',\n",
       " '40.742502000000002',\n",
       " '40.765320000000003',\n",
       " '40.722856',\n",
       " '40.777251999999997',\n",
       " '40.740912000000002',\n",
       " '40.798561999999997',\n",
       " '40.714219999999997',\n",
       " '40.748567000000001',\n",
       " '40.757221999999999',\n",
       " '40.751325000000001',\n",
       " '40.729357',\n",
       " '40.767302000000001',\n",
       " '40.793391',\n",
       " '40.642527000000001',\n",
       " '40.758769000000001',\n",
       " '40.72184',\n",
       " '40.721116000000002',\n",
       " '40.75085',\n",
       " '40.701535',\n",
       " '40.764949999999999',\n",
       " '0',\n",
       " '40.748919999999998',\n",
       " '40.77908',\n",
       " '40.646586999999997',\n",
       " '40.739812000000001',\n",
       " '40.728841000000003',\n",
       " '40.752327000000001',\n",
       " '40.732892999999997',\n",
       " '40.769041000000001',\n",
       " '40.782595000000001',\n",
       " '40.744757',\n",
       " '40.752422000000003',\n",
       " '40.760962999999997',\n",
       " '40.681179999999998',\n",
       " '40.758311999999997',\n",
       " '40.718969999999999',\n",
       " '40.723911999999999',\n",
       " '40.756414999999997',\n",
       " '40.751114999999999',\n",
       " '40.785935000000002',\n",
       " '40.760433999999997',\n",
       " '40.715969999999999',\n",
       " '40.767670000000003',\n",
       " '40.771906999999999',\n",
       " '40.778537',\n",
       " '40.731110000000001',\n",
       " '40.755755999999998',\n",
       " '40.791595000000001',\n",
       " '40.750117000000003',\n",
       " '40.712420000000002',\n",
       " '40.761310999999999',\n",
       " '40.715919999999997',\n",
       " '40.712097',\n",
       " '40.729574',\n",
       " '40.753770000000003',\n",
       " '40.72269',\n",
       " '40.722982000000002',\n",
       " '40.773595',\n",
       " '40.767874999999997',\n",
       " '40.768197000000001',\n",
       " '40.745547000000002',\n",
       " '40.768712000000001',\n",
       " '40.757888999999999',\n",
       " '40.720669999999998',\n",
       " '40.763362000000001',\n",
       " '40.751849999999997',\n",
       " '40.733849999999997',\n",
       " '40.768718',\n",
       " '40.787222',\n",
       " '40.782367000000001',\n",
       " '40.751801',\n",
       " '40.756307',\n",
       " '40.755034000000002',\n",
       " '40.712003000000003',\n",
       " '40.750283000000003',\n",
       " '40.740555000000001',\n",
       " '40.798791999999999',\n",
       " '40.715947',\n",
       " '40.707459999999998',\n",
       " '40.763060000000003',\n",
       " '40.707022000000002',\n",
       " '40.760955000000003',\n",
       " '40.758718999999999',\n",
       " '40.763424999999998',\n",
       " '40.743667000000002',\n",
       " '40.743296999999998',\n",
       " '40.748887000000003',\n",
       " '40.745060000000002',\n",
       " '40.783298000000002',\n",
       " '40.793379999999999',\n",
       " '40.759725000000003',\n",
       " '40.789341999999998',\n",
       " '40.717301999999997',\n",
       " '40.759304999999998',\n",
       " '40.759659999999997',\n",
       " '40.763644999999997',\n",
       " '40.753749999999997',\n",
       " '40.754553999999999',\n",
       " '40.733659000000003',\n",
       " '40.747262999999997',\n",
       " '0',\n",
       " '40.789093999999999',\n",
       " '40.774090000000001',\n",
       " '40.744275000000002',\n",
       " '40.739702000000001',\n",
       " '40.75873',\n",
       " '40.749451999999998',\n",
       " '40.754753000000001',\n",
       " '40.751247999999997',\n",
       " '40.709411000000003',\n",
       " '40.783943000000001',\n",
       " '40.754176999999999',\n",
       " '40.762551000000002',\n",
       " '40.709595',\n",
       " '40.755310000000001',\n",
       " '40.744349',\n",
       " '40.767895000000003',\n",
       " '40.754247999999997',\n",
       " '40.754852',\n",
       " '40.774487000000001',\n",
       " '40.779426000000001',\n",
       " '40.767777000000002',\n",
       " '40.773650000000004',\n",
       " '40.750416999999999',\n",
       " '40.737116999999998',\n",
       " '40.738447000000001',\n",
       " '40.756810000000002',\n",
       " '40.788361999999999',\n",
       " '40.742218999999999',\n",
       " '40.747881',\n",
       " '40.763835',\n",
       " '40.778885000000002',\n",
       " '40.765560000000001',\n",
       " '40.745032000000002',\n",
       " '40.736196999999997',\n",
       " '40.758156999999997',\n",
       " '40.719996999999999',\n",
       " '40.752446999999997',\n",
       " '40.714813999999997',\n",
       " '40.754756',\n",
       " '40.799892',\n",
       " '40.759858999999999',\n",
       " '40.689591999999998',\n",
       " '40.776252999999997',\n",
       " '40.749577000000002',\n",
       " '40.777566',\n",
       " '40.749746999999999',\n",
       " '40.742145000000001',\n",
       " '40.746859000000001',\n",
       " '40.7699',\n",
       " '40.737428999999999',\n",
       " '40.76952',\n",
       " '40.716900000000003',\n",
       " '40.718207999999997',\n",
       " '40.775984999999999',\n",
       " '40.774892999999999',\n",
       " '40.750512000000001',\n",
       " '40.738239999999998',\n",
       " '40.749935000000001',\n",
       " '40.759444999999999',\n",
       " '40.725861999999999',\n",
       " '40.720402',\n",
       " '40.725667999999999',\n",
       " '40.761712000000003',\n",
       " '40.767341999999999',\n",
       " '40.751984999999998',\n",
       " '40.725807000000003',\n",
       " '40.798907',\n",
       " '40.763502000000003',\n",
       " '40.765140000000002',\n",
       " '40.725613000000003',\n",
       " '40.787654000000003',\n",
       " '40.749558999999998',\n",
       " '40.746946000000001',\n",
       " '40.750172999999997',\n",
       " '40.743895999999999',\n",
       " '40.767158999999999',\n",
       " '40.777596000000003',\n",
       " '40.74933',\n",
       " '40.758161999999999',\n",
       " '40.757260000000002',\n",
       " '40.752814999999998',\n",
       " '40.734912000000001',\n",
       " '40.761020000000002',\n",
       " '40.704517000000003',\n",
       " '40.760057000000003',\n",
       " '40.803069999999998',\n",
       " '40.755706000000004',\n",
       " '40.774172',\n",
       " '40.757185',\n",
       " '40.750684999999997',\n",
       " '40.753210000000003',\n",
       " '40.771723999999999',\n",
       " '40.722239999999999',\n",
       " '40.765242000000001',\n",
       " '40.776314999999997',\n",
       " '40.761082000000002',\n",
       " '40.765590000000003',\n",
       " '40.719963',\n",
       " '40.732638999999999',\n",
       " '40.718725999999997',\n",
       " '40.774014999999999',\n",
       " '40.750554999999999',\n",
       " '40.741115000000001',\n",
       " '40.727001999999999',\n",
       " '40.771769999999997',\n",
       " '40.753391999999998',\n",
       " '40.764206999999999',\n",
       " '0',\n",
       " '40.774341',\n",
       " '40.756704999999997',\n",
       " '40.728313999999997',\n",
       " '40.73845',\n",
       " '40.763247',\n",
       " '40.741824999999999',\n",
       " '40.764899999999997',\n",
       " '40.744681999999997',\n",
       " '40.717486999999998',\n",
       " '40.729872',\n",
       " '40.745204999999999',\n",
       " '40.773117999999997',\n",
       " '40.744084999999998',\n",
       " '40.800642000000003',\n",
       " '40.770491999999997',\n",
       " '40.751325000000001',\n",
       " '40.764456000000003',\n",
       " '40.763967999999998',\n",
       " '40.745711',\n",
       " '40.782319999999999',\n",
       " '40.722957999999998',\n",
       " '40.690387000000001',\n",
       " '40.761305',\n",
       " '40.754548999999997',\n",
       " '40.774079999999998',\n",
       " '40.735602',\n",
       " '40.772117000000001',\n",
       " '40.736891999999997',\n",
       " '40.705807999999998',\n",
       " '40.797626999999999',\n",
       " '40.745216999999997',\n",
       " '40.776246999999998',\n",
       " '40.780254999999997',\n",
       " '40.772770000000001',\n",
       " '40.772207000000002',\n",
       " '40.758277',\n",
       " '40.721756999999997',\n",
       " '40.749090000000002',\n",
       " '40.753807000000002',\n",
       " '40.771287999999998',\n",
       " '40.715183000000003',\n",
       " '40.778269999999999',\n",
       " '40.774695999999999',\n",
       " '40.744079999999997',\n",
       " '40.720975000000003',\n",
       " '40.739179999999998',\n",
       " '40.764142',\n",
       " '40.725785000000002',\n",
       " '40.773538000000002',\n",
       " '40.726064999999998',\n",
       " '40.728096999999998',\n",
       " '40.745012000000003',\n",
       " '40.774312000000002',\n",
       " '40.761926000000003',\n",
       " '40.729700000000001',\n",
       " '40.763930000000002',\n",
       " '40.782769999999999',\n",
       " '40.759346999999998',\n",
       " '40.725634999999997',\n",
       " '40.751109',\n",
       " '40.736719999999998',\n",
       " '40.742069999999998',\n",
       " '40.758569999999999',\n",
       " '40.727226999999999',\n",
       " '40.741078000000002',\n",
       " '40.748018999999999',\n",
       " '40.762081000000002',\n",
       " '40.746682999999997',\n",
       " '40.755760000000002',\n",
       " '40.737381999999997',\n",
       " '40.773777000000003',\n",
       " '40.762766999999997',\n",
       " '40.788334999999996',\n",
       " '40.708292',\n",
       " '40.737012',\n",
       " '40.785612',\n",
       " '40.763331999999998',\n",
       " '40.757283000000001',\n",
       " '40.769862000000003',\n",
       " '40.763993999999997',\n",
       " '40.719707',\n",
       " '40.763027999999998',\n",
       " '40.780782000000002',\n",
       " '40.756065999999997',\n",
       " '40.79712',\n",
       " '40.772652000000001',\n",
       " '40.782581999999998',\n",
       " '40.754821999999997',\n",
       " '40.722532000000001',\n",
       " '40.760441999999998',\n",
       " '40.764282000000001',\n",
       " '40.746333',\n",
       " '40.770377000000003',\n",
       " '40.763151999999998',\n",
       " '40.757809999999999',\n",
       " '40.745593',\n",
       " '40.783544999999997',\n",
       " '40.757604999999998',\n",
       " '40.758989999999997',\n",
       " '40.713661999999999',\n",
       " '40.776251999999999',\n",
       " '40.764000000000003',\n",
       " '40.747869999999999',\n",
       " '40.748716999999999',\n",
       " '40.771904999999997',\n",
       " '40.783138000000001',\n",
       " '40.757080000000002',\n",
       " '40.848461999999998',\n",
       " '40.744697000000002',\n",
       " '40.768146999999999',\n",
       " '40.741328000000003',\n",
       " '40.778469999999999',\n",
       " '40.782873000000002',\n",
       " '40.787109999999998',\n",
       " '40.762861999999998',\n",
       " '40.785789999999999',\n",
       " '40.782511999999997',\n",
       " '40.771552',\n",
       " '40.759172',\n",
       " '40.740622000000002',\n",
       " '40.750937999999998',\n",
       " '40.774349999999998',\n",
       " '40.778309999999998',\n",
       " '40.760477000000002',\n",
       " '40.773380000000003',\n",
       " '40.760643000000002',\n",
       " '40.68703',\n",
       " '40.771639999999998',\n",
       " '40.764901999999999',\n",
       " '40.767330999999999',\n",
       " '40.77919',\n",
       " '40.763407000000001',\n",
       " '40.751123999999997',\n",
       " '40.735990000000001',\n",
       " '40.761057999999998',\n",
       " '40.745908999999997',\n",
       " '40.744849000000002',\n",
       " '40.750342000000003',\n",
       " '40.763665000000003',\n",
       " '40.765861999999998',\n",
       " '40.757289999999998',\n",
       " '40.763148000000001',\n",
       " '40.70626',\n",
       " '40.782010999999997',\n",
       " '40.671486999999999',\n",
       " '40.753034',\n",
       " '40.744996999999998',\n",
       " '40.721882000000001',\n",
       " '40.752341999999999',\n",
       " '40.709415',\n",
       " '40.755637',\n",
       " '40.780847000000001',\n",
       " '40.73668',\n",
       " '40.707517000000003',\n",
       " '40.73706',\n",
       " '40.769119000000003',\n",
       " '40.750492000000001',\n",
       " '40.779415999999998',\n",
       " '40.779454000000001',\n",
       " '40.773952000000001',\n",
       " '40.756805',\n",
       " '40.766250999999997',\n",
       " '40.747098000000001',\n",
       " '40.774346999999999',\n",
       " '40.737349999999999',\n",
       " '40.755507000000001',\n",
       " '0',\n",
       " '40.777340000000002',\n",
       " '40.730313000000002',\n",
       " '40.770964999999997',\n",
       " '40.747897000000002',\n",
       " '40.743012999999998',\n",
       " '40.757035999999999',\n",
       " '40.750830000000001',\n",
       " '40.747864999999997',\n",
       " '40.758215',\n",
       " '40.750686999999999',\n",
       " '40.734431999999998',\n",
       " '40.766798999999999',\n",
       " '40.752133000000001',\n",
       " '40.719627000000003',\n",
       " '40.770119999999999',\n",
       " '40.753714000000002',\n",
       " '40.779378000000001',\n",
       " '40.764966999999999',\n",
       " '40.724772000000002',\n",
       " '40.734817',\n",
       " '40.751752000000003',\n",
       " '40.756563999999997',\n",
       " '40.742736000000001',\n",
       " '0',\n",
       " '40.741672000000001',\n",
       " '40.725969999999997',\n",
       " '40.743772',\n",
       " '40.710320000000003',\n",
       " '40.710884999999998',\n",
       " '40.768566999999997',\n",
       " '40.755322',\n",
       " '40.750872000000001',\n",
       " '40.691887000000001',\n",
       " '40.753002000000002',\n",
       " '40.765656999999997',\n",
       " '40.718429',\n",
       " '40.752609999999997',\n",
       " '40.774841000000002',\n",
       " '40.820267000000001',\n",
       " '40.749904999999998',\n",
       " '40.790222',\n",
       " '40.751243000000002',\n",
       " '40.769371999999997',\n",
       " '40.802452000000002',\n",
       " '40.740012',\n",
       " '40.724477',\n",
       " '40.649678999999999',\n",
       " '40.763433999999997',\n",
       " '40.813836000000002',\n",
       " '40.748612999999999',\n",
       " '40.756067000000002',\n",
       " '40.751126999999997',\n",
       " '40.757541000000003',\n",
       " '40.783417',\n",
       " '40.755617000000001',\n",
       " '40.770837',\n",
       " '40.770932000000002',\n",
       " '40.742624999999997',\n",
       " '40.767386000000002',\n",
       " '40.729416999999998',\n",
       " '0',\n",
       " '40.760260000000002',\n",
       " '40.748452999999998',\n",
       " '40.763604999999998',\n",
       " '40.735872000000001',\n",
       " '40.761363000000003',\n",
       " '40.661144999999998',\n",
       " '40.748542',\n",
       " '40.781112',\n",
       " '40.762464999999999',\n",
       " '40.748049999999999',\n",
       " '40.780242000000001',\n",
       " '40.764726000000003',\n",
       " '40.733294000000001',\n",
       " '40.749760000000002',\n",
       " '40.753168000000002',\n",
       " '40.764099000000002',\n",
       " '40.796756999999999',\n",
       " '40.765014999999998',\n",
       " '40.722397000000001',\n",
       " '40.784722000000002',\n",
       " '40.734082000000001',\n",
       " '40.747720000000001',\n",
       " '40.774329000000002',\n",
       " '40.742365999999997',\n",
       " '40.739342000000001',\n",
       " '40.756363',\n",
       " '40.738253999999998',\n",
       " '40.735045999999997',\n",
       " '40.755856999999999',\n",
       " '40.772357',\n",
       " '40.775272000000001',\n",
       " '40.763641999999997',\n",
       " '40.768787000000003',\n",
       " '40.772326999999997',\n",
       " '40.750616999999998',\n",
       " '40.740490000000001',\n",
       " '40.759067000000002',\n",
       " '40.762444000000002',\n",
       " '40.774087000000002',\n",
       " '40.781736000000002',\n",
       " '40.757812000000001',\n",
       " '40.787171999999998']"
      ]
     },
     "execution_count": 23,
     "metadata": {},
     "output_type": "execute_result"
    }
   ],
   "source": [
    "first_location = location(first_trip) # [40.64499, -73.78115]\n",
    "first_location # [40.64499, -73.78115]"
   ]
  },
  {
   "cell_type": "markdown",
   "metadata": {},
   "source": [
    "Ok, now that we can turn a trip into a location, let's turn a location into a marker.  Write a function called `to_marker` that takes in a location (in the form of a list) as an argument, and returns a folium `circleMarker` for that location.  The radius of the marker should always equal 6."
   ]
  },
  {
   "cell_type": "code",
   "execution_count": null,
   "metadata": {},
   "outputs": [],
   "source": [
    "def to_marker(location):\n",
    "    pass"
   ]
  },
  {
   "cell_type": "code",
   "execution_count": null,
   "metadata": {},
   "outputs": [],
   "source": [
    "import json\n",
    "times_square_marker = to_marker([40.7589, -73.9851])\n",
    "\n",
    "times_square_marker and times_square_marker.location # [40.7589, -73.9851]\n",
    "times_square_marker and json.loads(times_square_marker.options)['radius'] # 6"
   ]
  },
  {
   "cell_type": "markdown",
   "metadata": {},
   "source": [
    "Ok, now that we know how to produce a single marker, let's write a function to produce lots.  We can write a function called `markers_from_trips` that takes in a list of trips, and returns a marker object for each trip.  "
   ]
  },
  {
   "cell_type": "code",
   "execution_count": null,
   "metadata": {},
   "outputs": [],
   "source": [
    "def markers_from_trips(trips):\n",
    "    pass"
   ]
  },
  {
   "cell_type": "code",
   "execution_count": null,
   "metadata": {},
   "outputs": [],
   "source": [
    "trip_markers = markers_from_trips(cleaned_trips)"
   ]
  },
  {
   "cell_type": "code",
   "execution_count": null,
   "metadata": {},
   "outputs": [],
   "source": [
    "cleaned_trips[0:4]"
   ]
  },
  {
   "cell_type": "code",
   "execution_count": null,
   "metadata": {},
   "outputs": [],
   "source": [
    "trip_markers and len(trip_markers) # 1000\n",
    "\n",
    "list(map(lambda marker: marker.location, trip_markers[0:4]))\n",
    "# [[40.64499, -73.78115],\n",
    "#  [40.766931, -73.982098],\n",
    "#  [40.77773, -73.951902],\n",
    "#  [40.795678, -73.971049]]"
   ]
  },
  {
   "cell_type": "markdown",
   "metadata": {},
   "source": [
    "Ok, now that we have a function that creates locations, and a function that creates markers, it is time to write a function to plot a map. \n",
    "\n",
    "Write a function called `map_from` that, provided the first argument of a list location and second argument an integer representing the `zoom_start`, returns a `folium` map the corresponding location and `zoom_start` attributes.\n",
    "\n",
    "> Hint: The following is how to write a map with folium:\n",
    "> ```python \n",
    "    folium.Map(location=location, zoom_start=zoom_amount)\n",
    "> ```"
   ]
  },
  {
   "cell_type": "code",
   "execution_count": null,
   "metadata": {},
   "outputs": [],
   "source": [
    "def map_from(location, zoom_amount):\n",
    "    pass"
   ]
  },
  {
   "cell_type": "code",
   "execution_count": null,
   "metadata": {},
   "outputs": [],
   "source": [
    "times_square_map = map_from([40.7589, -73.9851], 15)\n",
    "times_square_map and times_square_map.location # [40.7589, -73.9851]\n",
    "times_square_map and times_square_map.zoom_start # 15"
   ]
  },
  {
   "cell_type": "code",
   "execution_count": null,
   "metadata": {
    "scrolled": true
   },
   "outputs": [],
   "source": [
    "times_square_marker and times_square_marker.add_to(times_square_map)\n",
    "times_square_map"
   ]
  },
  {
   "cell_type": "markdown",
   "metadata": {},
   "source": [
    "Now that we have a marker and a map, now let's write a function that adds a lot of markers to a map.  This function should add each marker in the list to the map object then return the updated map object."
   ]
  },
  {
   "cell_type": "code",
   "execution_count": null,
   "metadata": {},
   "outputs": [],
   "source": [
    "manhattan_map = map_from([40.7589, -73.9851], 13)"
   ]
  },
  {
   "cell_type": "code",
   "execution_count": null,
   "metadata": {},
   "outputs": [],
   "source": [
    "def add_markers(markers, map_obj):\n",
    "    pass"
   ]
  },
  {
   "cell_type": "code",
   "execution_count": null,
   "metadata": {
    "scrolled": false
   },
   "outputs": [],
   "source": [
    "map_with_markers = add_markers(trip_markers, manhattan_map)"
   ]
  },
  {
   "cell_type": "code",
   "execution_count": null,
   "metadata": {},
   "outputs": [],
   "source": [
    "map_with_markers"
   ]
  },
  {
   "cell_type": "markdown",
   "metadata": {},
   "source": [
    "### Using Nearest Neighbors"
   ]
  },
  {
   "cell_type": "markdown",
   "metadata": {},
   "source": [
    "Ok, let's write a function that given a latitude and longitude will predict the distance for us.  We'll do this by first finding the nearest trips given a latitude and longitude. "
   ]
  },
  {
   "cell_type": "markdown",
   "metadata": {},
   "source": [
    "Here we once again apply the nearest neighbors formula. As a first step, write a function named `distance_location` that calculates the distance in pickup location between two trips."
   ]
  },
  {
   "cell_type": "code",
   "execution_count": null,
   "metadata": {},
   "outputs": [],
   "source": [
    "import math\n",
    "\n",
    "def distance_location(selected_trip, neighbor_trip):\n",
    "    pass"
   ]
  },
  {
   "cell_type": "code",
   "execution_count": null,
   "metadata": {},
   "outputs": [],
   "source": [
    "first_trip = {'pickup_latitude': 40.64499, 'pickup_longitude': -73.78115, 'trip_distance': 18.38}\n",
    "second_trip = {'pickup_latitude': 40.766931, 'pickup_longitude': -73.982098, 'trip_distance': 1.3}\n",
    "distance_first_and_second = distance_location(first_trip, second_trip)\n",
    "\n",
    "distance_first_and_second and round(distance_first_and_second, 3) # 0.235"
   ]
  },
  {
   "cell_type": "markdown",
   "metadata": {},
   "source": [
    "Ok, next write a function called `distance_between_neighbors` that adds a new key-value pair, called `distance_from_selected`, that calculates the distance of the `neighbor_trip` from the `selected_trip`."
   ]
  },
  {
   "cell_type": "code",
   "execution_count": null,
   "metadata": {},
   "outputs": [],
   "source": [
    "def distance_between_neighbors(selected_trip, neighbor_trip):\n",
    "    pass"
   ]
  },
  {
   "cell_type": "code",
   "execution_count": null,
   "metadata": {},
   "outputs": [],
   "source": [
    "distance_between_neighbors(first_trip, second_trip)\n",
    "\n",
    "# {'distance_from_selected': 0.23505256047318146,\n",
    "#  'pickup_latitude': 40.766931,\n",
    "#  'pickup_longitude': -73.982098,\n",
    "#  'trip_distance': 1.3}"
   ]
  },
  {
   "cell_type": "markdown",
   "metadata": {},
   "source": [
    "Ok, now our `neighbor_trip` has another attribute called `distance_from_selected`, that indicates the distance from the `neighbor_trip`'s pickup location from the `selected_trip`."
   ]
  },
  {
   "cell_type": "markdown",
   "metadata": {},
   "source": [
    "> ** Understand the data:** Our dictionary now has a few attributes, two of which say distance.  Let's make sure we understand the difference. \n",
    "> * **`distance_from_selected`:** This is our calculation of the distance of the neighbor's pickup location from the selected trip.\n",
    "> * **`trip_distance`:** This is the attribute we were provided initially.  It tells us the length of the neighbor's taxi trip from pickup to drop-off.  "
   ]
  },
  {
   "cell_type": "markdown",
   "metadata": {},
   "source": [
    "Next, write a function called `distance_all` that provided a list of neighbors, returns each of those neighbors with their respective `distance_from_selected` numbers."
   ]
  },
  {
   "cell_type": "code",
   "execution_count": null,
   "metadata": {},
   "outputs": [],
   "source": [
    "def distance_all(selected_individual, neighbors):\n",
    "    pass"
   ]
  },
  {
   "cell_type": "code",
   "execution_count": null,
   "metadata": {},
   "outputs": [],
   "source": [
    "cleaned_trips and distance_all(first_trip, cleaned_trips[0:4])"
   ]
  },
  {
   "cell_type": "markdown",
   "metadata": {},
   "source": [
    "Now write the nearest neighbors formula to calculate the distance of the `selected_trip` from all of the `cleaned_trips` in our dataset.  If no number is provided, it should return the top 3 neighbors."
   ]
  },
  {
   "cell_type": "code",
   "execution_count": null,
   "metadata": {},
   "outputs": [],
   "source": [
    "def nearest_neighbors(selected_trip, trips, number = 3):\n",
    "    pass"
   ]
  },
  {
   "cell_type": "code",
   "execution_count": null,
   "metadata": {},
   "outputs": [],
   "source": [
    "new_trip = {'pickup_latitude': 40.64499,\n",
    "'pickup_longitude': -73.78115,\n",
    "'trip_distance': 18.38}\n",
    "\n",
    "nearest_three_neighbors = nearest_neighbors(new_trip, cleaned_trips or [], number = 3)\n",
    "nearest_three_neighbors\n",
    "# [{'distance_from_selected': 0.0004569288784918792,\n",
    "#   'pickup_latitude': 40.64483,\n",
    "#   'pickup_longitude': -73.781578,\n",
    "#   'trip_distance': 7.78},\n",
    "#  {'distance_from_selected': 0.0011292165425673159,\n",
    "#   'pickup_latitude': 40.644657,\n",
    "#   'pickup_longitude': -73.782229,\n",
    "#   'trip_distance': 12.7},\n",
    "#  {'distance_from_selected': 0.0042359798158141185,\n",
    "#   'pickup_latitude': 40.648509,\n",
    "#   'pickup_longitude': -73.783508,\n",
    "#   'trip_distance': 17.3}]"
   ]
  },
  {
   "cell_type": "markdown",
   "metadata": {},
   "source": [
    "Ok great! Now that we can provide a new trip location, and find the distances of the three nearest trips, we can take  calculate an estimate of the trip distance for that new trip location.  \n",
    "\n",
    "We do so simply by calculating the average of it's nearest neighbors."
   ]
  },
  {
   "cell_type": "code",
   "execution_count": null,
   "metadata": {},
   "outputs": [],
   "source": [
    "import statistics\n",
    "def mean_distance(neighbors):\n",
    "    nearest_distances = list(map(lambda neighbor: neighbor['trip_distance'], neighbors))\n",
    "    return round(statistics.mean(nearest_distances), 3)\n",
    "\n",
    "nearest_three_neighbors = nearest_neighbors(new_trip, cleaned_trips or [], number = 3)\n",
    "distance_estimate_of_selected_trip = mean_distance(nearest_three_neighbors) # 12.593\n",
    "distance_estimate_of_selected_trip"
   ]
  },
  {
   "cell_type": "markdown",
   "metadata": {},
   "source": [
    "### Choosing the correct number of neighbors"
   ]
  },
  {
   "cell_type": "markdown",
   "metadata": {},
   "source": [
    "Now, as we know from the last lesson, one tricky element is to determine how many neighbors to choose, our $k$ value,  before calculating the average.  We want to choose our value of $k$ such that it properly matches actual data, and so that it applies to new data.  There are fancy formulas to ensure that we **train** our algorithm so that our formula is optimized for all data, but here let's see different $k$ values manually.  This is the gist of choosing our $k$ value:\n",
    "\n",
    "* If we choose a $k$ value too low, our formula will be too heavily influenced by a single neighbor, whereas if our $k$ value is too high, we will be choosing so many neighbors that our nearest neighbors formula will not be adjust enough according to locations.\n",
    "\n",
    "Ok, let's experiment with this."
   ]
  },
  {
   "cell_type": "markdown",
   "metadata": {},
   "source": [
    "First, let's choose a midtown location, to see what the trip distance would be.  A Google search reveals the coordinates of 51st and 7th avenue to be the following."
   ]
  },
  {
   "cell_type": "code",
   "execution_count": null,
   "metadata": {},
   "outputs": [],
   "source": [
    "midtown_trip = dict(pickup_latitude=40.761710, pickup_longitude=-73.982760)"
   ]
  },
  {
   "cell_type": "code",
   "execution_count": null,
   "metadata": {},
   "outputs": [],
   "source": [
    "seven_closest = nearest_neighbors(midtown_trip, cleaned_trips, number = 7)\n",
    "seven_closest\n",
    "# [{'trip_distance': 0.58,\n",
    "#   'pickup_latitude': 40.761372,\n",
    "#   'pickup_longitude': -73.982602,\n",
    "#   'distance_from_selected': 0.00037310588309379025},\n",
    "#  {'trip_distance': 0.8,\n",
    "#   'pickup_latitude': 40.762444,\n",
    "#   'pickup_longitude': -73.98244,\n",
    "#   'distance_from_selected': 0.00080072217404248},\n",
    "#  {'trip_distance': 1.4,\n",
    "#   'pickup_latitude': 40.762767,\n",
    "#   'pickup_longitude': -73.982293,\n",
    "#   'distance_from_selected': 0.0011555682584735844},\n",
    "#  {'trip_distance': 8.3,\n",
    "#   'pickup_latitude': 40.762868,\n",
    "#   'pickup_longitude': -73.983233,\n",
    "#   'distance_from_selected': 0.0012508768924205918},\n",
    "#  {'trip_distance': 1.26,\n",
    "#   'pickup_latitude': 40.760057,\n",
    "#   'pickup_longitude': -73.983502,\n",
    "#   'distance_from_selected': 0.0018118976240381972},\n",
    "#  {'trip_distance': 0.0,\n",
    "#   'pickup_latitude': 40.760644,\n",
    "#   'pickup_longitude': -73.984531,\n",
    "#   'distance_from_selected': 0.002067074502774709},\n",
    "#  {'trip_distance': 1.72,\n",
    "#   'pickup_latitude': 40.762107,\n",
    "#   'pickup_longitude': -73.98479,\n",
    "#   'distance_from_selected': 0.0020684557041472677}]"
   ]
  },
  {
   "cell_type": "markdown",
   "metadata": {},
   "source": [
    "Looking at the `distance_from_selected` it appears that our our trips are still fairly close to our selected trip.  Notice that most of the data is within a distance of .002 away, so going to the top 7 nearest neighbors didn't seem to give us neighbors too far from each other, which is a good sign.\n",
    "\n",
    "Still, it's hard to know what distance in latitude and longitude really look like, so let's map the data. "
   ]
  },
  {
   "cell_type": "code",
   "execution_count": null,
   "metadata": {},
   "outputs": [],
   "source": [
    "midtown_location = location(midtown_trip) # [40.76171, -73.98276]\n",
    "midtown_map = map_from(midtown_location, 16)\n",
    "closest_markers = markers_from_trips(seven_closest)\n",
    "\n",
    "add_markers(closest_markers, midtown_map)"
   ]
  },
  {
   "cell_type": "markdown",
   "metadata": {},
   "source": [
    "Ok.  These locations stay fairly close to our estimated location of 51st street and 7th Avenue.  So they could be a good estimate of a trip distance."
   ]
  },
  {
   "cell_type": "code",
   "execution_count": null,
   "metadata": {},
   "outputs": [],
   "source": [
    "mean_distance(seven_closest) # 2.009"
   ]
  },
  {
   "cell_type": "markdown",
   "metadata": {},
   "source": [
    "Ok, now let's try a different location"
   ]
  },
  {
   "cell_type": "code",
   "execution_count": null,
   "metadata": {},
   "outputs": [],
   "source": [
    "charging_bull_closest = nearest_neighbors({'pickup_latitude': 40.7049, 'pickup_longitude': -74.0137}, cleaned_trips, number = 12)"
   ]
  },
  {
   "cell_type": "code",
   "execution_count": null,
   "metadata": {
    "scrolled": true
   },
   "outputs": [],
   "source": [
    "mean_distance(charging_bull_closest) # 3.145"
   ]
  },
  {
   "cell_type": "markdown",
   "metadata": {},
   "source": [
    "Ok, so there appears to be a significant difference between choosing a location near Times Square versus choosing a location at Wall Street."
   ]
  },
  {
   "cell_type": "markdown",
   "metadata": {},
   "source": [
    "### Summary"
   ]
  },
  {
   "cell_type": "markdown",
   "metadata": {},
   "source": [
    "In this lab, we used the nearest neighbors function to predict the length of a taxi ride.  To do so, we selected a location, then found a number of taxi rides closest to that location, and finally took the average trip lengths of the nearest taxi rides to find an estimate of the new ride's trip length.  You can see that even with just a little bit of math and programming we can begin to make meaningful predictions with data."
   ]
  }
 ],
 "metadata": {
  "kernelspec": {
   "display_name": "Python 3",
   "language": "python",
   "name": "python3"
  },
  "language_info": {
   "codemirror_mode": {
    "name": "ipython",
    "version": 3
   },
   "file_extension": ".py",
   "mimetype": "text/x-python",
   "name": "python",
   "nbconvert_exporter": "python",
   "pygments_lexer": "ipython3",
   "version": "3.6.6"
  }
 },
 "nbformat": 4,
 "nbformat_minor": 2
}
